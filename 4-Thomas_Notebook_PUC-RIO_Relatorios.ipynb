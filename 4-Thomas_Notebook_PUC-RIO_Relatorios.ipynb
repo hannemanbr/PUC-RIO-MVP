{
 "cells": [
  {
   "cell_type": "markdown",
   "metadata": {
    "application/vnd.databricks.v1+cell": {
     "cellMetadata": {
      "byteLimit": 2048000,
      "rowLimit": 10000
     },
     "inputWidgets": {},
     "nuid": "11084755-ae4a-49c9-af8d-dd8e79809645",
     "showTitle": false,
     "tableResultSettingsMap": {},
     "title": ""
    }
   },
   "source": [
    "#MVP Engenharia de Dados - 2025\n",
    "Thomas A. S. Abrantes\n"
   ]
  },
  {
   "cell_type": "markdown",
   "metadata": {
    "application/vnd.databricks.v1+cell": {
     "cellMetadata": {
      "byteLimit": 2048000,
      "rowLimit": 10000
     },
     "inputWidgets": {},
     "nuid": "42c43a18-3c42-4d68-9300-d609e675bef6",
     "showTitle": false,
     "tableResultSettingsMap": {},
     "title": ""
    }
   },
   "source": [
    "### Setup para rodar o notebook com os dados\n",
    "- Imports das bibliotecas para consumo dos dados."
   ]
  },
  {
   "cell_type": "code",
   "execution_count": 0,
   "metadata": {
    "application/vnd.databricks.v1+cell": {
     "cellMetadata": {
      "byteLimit": 2048000,
      "rowLimit": 10000
     },
     "inputWidgets": {},
     "nuid": "7cad2d30-f139-4cc3-be49-010ed6605214",
     "showTitle": false,
     "tableResultSettingsMap": {},
     "title": ""
    }
   },
   "outputs": [],
   "source": [
    "#bibioteca para uso do comando com Pandas\n",
    "import pandas as pd\n",
    "\n",
    "#biblioteca para carga de dados e request dos dados\n",
    "import io\n",
    "import requests"
   ]
  },
  {
   "cell_type": "markdown",
   "metadata": {
    "application/vnd.databricks.v1+cell": {
     "cellMetadata": {
      "byteLimit": 2048000,
      "rowLimit": 10000
     },
     "inputWidgets": {},
     "nuid": "e10786b0-fc7e-4904-90e2-2574f2b891d3",
     "showTitle": false,
     "tableResultSettingsMap": {},
     "title": ""
    }
   },
   "source": [
    "#Criando Banco de Dados (schema) com os Relatórios (Visões)\n"
   ]
  },
  {
   "cell_type": "code",
   "execution_count": 0,
   "metadata": {
    "application/vnd.databricks.v1+cell": {
     "cellMetadata": {
      "byteLimit": 2048000,
      "implicitDf": true,
      "rowLimit": 10000
     },
     "inputWidgets": {},
     "nuid": "971536d0-f75b-4fc9-8742-081f0fcc7879",
     "showTitle": false,
     "tableResultSettingsMap": {},
     "title": ""
    }
   },
   "outputs": [
    {
     "output_type": "display_data",
     "data": {
      "text/html": [
       "<style scoped>\n",
       "  .table-result-container {\n",
       "    max-height: 300px;\n",
       "    overflow: auto;\n",
       "  }\n",
       "  table, th, td {\n",
       "    border: 1px solid black;\n",
       "    border-collapse: collapse;\n",
       "  }\n",
       "  th, td {\n",
       "    padding: 5px;\n",
       "  }\n",
       "  th {\n",
       "    text-align: left;\n",
       "  }\n",
       "</style><div class='table-result-container'><table class='table-result'><thead style='background-color: white'><tr></tr></thead><tbody></tbody></table></div>"
      ]
     },
     "metadata": {
      "application/vnd.databricks.v1+output": {
       "addedWidgets": {},
       "aggData": [],
       "aggError": "",
       "aggOverflow": false,
       "aggSchema": [],
       "aggSeriesLimitReached": false,
       "aggType": "",
       "arguments": {},
       "columnCustomDisplayInfos": {},
       "data": [],
       "datasetInfos": [],
       "dbfsResultPath": null,
       "isJsonSchema": true,
       "metadata": {},
       "overflow": false,
       "plotOptions": {
        "customPlotOptions": {},
        "displayType": "table",
        "pivotAggregation": null,
        "pivotColumns": null,
        "xColumns": null,
        "yColumns": null
       },
       "removedWidgets": [],
       "schema": [],
       "type": "table"
      }
     },
     "output_type": "display_data"
    }
   ],
   "source": [
    "%sql\n",
    "-- Removendo Schema para recriar\n",
    "DROP SCHEMA IF EXISTS IMDB_RELATORIO CASCADE;\n",
    "\n",
    "-- CRIANDO O BANCO DE DADOS (schema)\n",
    "CREATE SCHEMA IMDB_RELATORIO;"
   ]
  },
  {
   "cell_type": "markdown",
   "metadata": {
    "application/vnd.databricks.v1+cell": {
     "cellMetadata": {
      "byteLimit": 2048000,
      "rowLimit": 10000
     },
     "inputWidgets": {},
     "nuid": "07a76f1f-f025-4e45-b04d-028bbb13a0f4",
     "showTitle": false,
     "tableResultSettingsMap": {},
     "title": ""
    }
   },
   "source": [
    "#Relatórios\n",
    "\n",
    "Neste notebook podemos consultar a criação das visões (consultas) utilizando como fonte a base (IMDB_DB_GOLD) **Camada GOLD** de forma a responder a cada uma das perguntas."
   ]
  },
  {
   "cell_type": "markdown",
   "metadata": {
    "application/vnd.databricks.v1+cell": {
     "cellMetadata": {
      "byteLimit": 2048000,
      "rowLimit": 10000
     },
     "inputWidgets": {},
     "nuid": "34413e37-72b3-4ee8-b46d-a8eee1f7a4b2",
     "showTitle": false,
     "tableResultSettingsMap": {},
     "title": ""
    }
   },
   "source": [
    "###Quantidade de títulos lançados no Brasil por categoria e década (80, 90, etc.)."
   ]
  },
  {
   "cell_type": "code",
   "execution_count": 0,
   "metadata": {
    "application/vnd.databricks.v1+cell": {
     "cellMetadata": {
      "byteLimit": 2048000,
      "implicitDf": true,
      "rowLimit": 10000
     },
     "inputWidgets": {},
     "nuid": "528deb7d-e0aa-4975-8cfa-aac5de30280a",
     "showTitle": false,
     "tableResultSettingsMap": {},
     "title": ""
    }
   },
   "outputs": [
    {
     "output_type": "display_data",
     "data": {
      "text/html": [
       "<style scoped>\n",
       "  .table-result-container {\n",
       "    max-height: 300px;\n",
       "    overflow: auto;\n",
       "  }\n",
       "  table, th, td {\n",
       "    border: 1px solid black;\n",
       "    border-collapse: collapse;\n",
       "  }\n",
       "  th, td {\n",
       "    padding: 5px;\n",
       "  }\n",
       "  th {\n",
       "    text-align: left;\n",
       "  }\n",
       "</style><div class='table-result-container'><table class='table-result'><thead style='background-color: white'><tr><th>DECADA</th><th>CATEGORIA</th><th>TITULOS_LANCADOS</th></tr></thead><tbody><tr><td>1980</td><td>short</td><td>76</td></tr><tr><td>1990</td><td>movie</td><td>41553</td></tr><tr><td>1990</td><td>short</td><td>5383</td></tr><tr><td>1990</td><td>video</td><td>1127</td></tr><tr><td>2000</td><td>movie</td><td>31863</td></tr><tr><td>2000</td><td>short</td><td>12476</td></tr><tr><td>2000</td><td>video</td><td>4212</td></tr></tbody></table></div>"
      ]
     },
     "metadata": {
      "application/vnd.databricks.v1+output": {
       "addedWidgets": {},
       "aggData": [],
       "aggError": "",
       "aggOverflow": false,
       "aggSchema": [],
       "aggSeriesLimitReached": false,
       "aggType": "",
       "arguments": {},
       "columnCustomDisplayInfos": {},
       "data": [
        [
         "1980",
         "short",
         76
        ],
        [
         "1990",
         "movie",
         41553
        ],
        [
         "1990",
         "short",
         5383
        ],
        [
         "1990",
         "video",
         1127
        ],
        [
         "2000",
         "movie",
         31863
        ],
        [
         "2000",
         "short",
         12476
        ],
        [
         "2000",
         "video",
         4212
        ]
       ],
       "datasetInfos": [],
       "dbfsResultPath": null,
       "isJsonSchema": true,
       "metadata": {},
       "overflow": false,
       "plotOptions": {
        "customPlotOptions": {},
        "displayType": "table",
        "pivotAggregation": null,
        "pivotColumns": null,
        "xColumns": null,
        "yColumns": null
       },
       "removedWidgets": [],
       "schema": [
        {
         "metadata": "{}",
         "name": "DECADA",
         "type": "\"string\""
        },
        {
         "metadata": "{\"__CHAR_VARCHAR_TYPE_STRING\":\"varchar(200)\"}",
         "name": "CATEGORIA",
         "type": "\"string\""
        },
        {
         "metadata": "{}",
         "name": "TITULOS_LANCADOS",
         "type": "\"long\""
        }
       ],
       "type": "table"
      }
     },
     "output_type": "display_data"
    },
    {
     "output_type": "display_data",
     "data": {
      "text/plain": [
       "Databricks visualization. Run in Databricks to view."
      ]
     },
     "metadata": {
      "application/vnd.databricks.v1.subcommand+json": {
       "baseErrorDetails": null,
       "bindings": {},
       "collapsed": false,
       "command": "%sql WITH q AS (SELECT * FROM IMDB_RELATORIO.VW_LANCAMENTO_POR_TIPO_DECADA) SELECT `DECADA`,`CATEGORIA`,SUM(`TITULOS_LANCADOS`) `column_c65ca17933` FROM q GROUP BY `CATEGORIA`,`DECADA`",
       "commandTitle": "Visualização 1",
       "commandType": "auto",
       "commandVersion": 0,
       "commentThread": [],
       "commentsVisible": false,
       "contentSha256Hex": null,
       "customPlotOptions": {
        "redashChart": [
         {
          "key": "type",
          "value": "CHART"
         },
         {
          "key": "options",
          "value": {
           "alignYAxesAtZero": true,
           "coefficient": 1,
           "columnConfigurationMap": {
            "series": {
             "column": "CATEGORIA",
             "id": "column_c65ca17932"
            },
            "x": {
             "column": "DECADA",
             "id": "column_c65ca17931"
            },
            "y": [
             {
              "column": "TITULOS_LANCADOS",
              "id": "column_c65ca17933",
              "transform": "SUM"
             }
            ]
           },
           "dateTimeFormat": "DD/MM/YYYY HH:mm",
           "direction": {
            "type": "counterclockwise"
           },
           "error_y": {
            "type": "data",
            "visible": true
           },
           "globalSeriesType": "column",
           "legend": {
            "traceorder": "normal"
           },
           "missingValuesAsZero": true,
           "numberFormat": "0,0.[00000]",
           "percentFormat": "0[.]00%",
           "series": {
            "error_y": {
             "type": "data",
             "visible": true
            },
            "stacking": "stack"
           },
           "seriesOptions": {
            "column_c65ca17933": {
             "name": "TITULOS_LANCADOS",
             "yAxis": 0
            }
           },
           "showDataLabels": false,
           "sizemode": "diameter",
           "sortX": true,
           "sortY": true,
           "swappedAxes": true,
           "textFormat": "",
           "useAggregationsUi": true,
           "valuesOptions": {},
           "version": 2,
           "xAxis": {
            "labels": {
             "enabled": true
            },
            "type": "-"
           },
           "yAxis": [
            {
             "type": "-"
            },
            {
             "opposite": true,
             "type": "-"
            }
           ]
          }
         }
        ]
       },
       "datasetPreviewNameToCmdIdMap": {},
       "diffDeletes": [],
       "diffInserts": [],
       "displayType": "redashChart",
       "error": null,
       "errorDetails": null,
       "errorSummary": null,
       "errorTraceType": null,
       "finishTime": 0,
       "globalVars": {},
       "guid": "",
       "height": "auto",
       "hideCommandCode": false,
       "hideCommandResult": false,
       "iPythonMetadata": null,
       "inputWidgets": {},
       "isLockedInExamMode": false,
       "latestUser": "a user",
       "latestUserId": null,
       "listResultMetadata": null,
       "metadata": {
        "byteLimit": 2048000,
        "implicitDf": true,
        "rowLimit": 10000
       },
       "nuid": "ae616cc4-4ff0-4cf9-b25a-1a1c1ec20a1a",
       "origId": 0,
       "parentHierarchy": [],
       "pivotAggregation": null,
       "pivotColumns": null,
       "position": 18.05272901058197,
       "resultDbfsErrorMessage": null,
       "resultDbfsStatus": "INLINED_IN_TREE",
       "results": null,
       "showCommandTitle": false,
       "startTime": 0,
       "state": "finished",
       "streamStates": {},
       "subcommandOptions": {
        "queryPlan": {
         "groups": [
          {
           "column": "DECADA",
           "type": "column"
          },
          {
           "column": "CATEGORIA",
           "type": "column"
          }
         ],
         "selects": [
          {
           "column": "DECADA",
           "type": "column"
          },
          {
           "column": "CATEGORIA",
           "type": "column"
          },
          {
           "alias": "column_c65ca17933",
           "args": [
            {
             "column": "TITULOS_LANCADOS",
             "type": "column"
            }
           ],
           "function": "SUM",
           "type": "function"
          }
         ]
        }
       },
       "submitTime": 0,
       "subtype": "tableResultSubCmd.visualization",
       "tableResultIndex": 0,
       "tableResultSettingsMap": {},
       "useConsistentColors": false,
       "version": "CommandV1",
       "width": "auto",
       "workflows": [],
       "xColumns": null,
       "yColumns": null
      }
     },
     "output_type": "display_data"
    }
   ],
   "source": [
    "%sql\n",
    "CREATE OR REPLACE VIEW IMDB_RELATORIO.VW_LANCAMENTO_POR_TIPO_DECADA\n",
    "AS\n",
    "  SELECT\n",
    "    CASE WHEN DECADA > 0 THEN concat('19', DECADA,'0') ELSE concat('20', DECADA,'0') END DECADA,\n",
    "    CATEGORIA,\n",
    "    QUANTIDADE TITULOS_LANCADOS\n",
    "  FROM (\n",
    "    SELECT \n",
    "      CATEGORIA, COUNT(0) QUANTIDADE, substring(ANO_LANCAMENTO, 2, 1) DECADA\n",
    "    FROM imdb_db_gold.tb_filme_lancamento_brasil\n",
    "    GROUP BY CATEGORIA, substring(ANO_LANCAMENTO, 2, 1)\n",
    "  ) CONSULTA\n",
    "  ORDER BY decada, TITULOS_LANCADOS DESC, CATEGORIA\n",
    "  ;\n",
    "\n",
    "  -- EXIBINDO RESULTADO\n",
    "SELECT * FROM IMDB_RELATORIO.VW_LANCAMENTO_POR_TIPO_DECADA;"
   ]
  },
  {
   "cell_type": "markdown",
   "metadata": {
    "application/vnd.databricks.v1+cell": {
     "cellMetadata": {
      "byteLimit": 2048000,
      "rowLimit": 10000
     },
     "inputWidgets": {},
     "nuid": "5d8be330-d056-4d31-8f14-d8d1aacaba9f",
     "showTitle": false,
     "tableResultSettingsMap": {},
     "title": ""
    }
   },
   "source": [
    "###Qual categoria teve mais lançamentos no Brasil por década?"
   ]
  },
  {
   "cell_type": "code",
   "execution_count": 0,
   "metadata": {
    "application/vnd.databricks.v1+cell": {
     "cellMetadata": {
      "byteLimit": 2048000,
      "implicitDf": true,
      "rowLimit": 10000
     },
     "inputWidgets": {},
     "nuid": "2b4beb74-b608-4155-a9c4-036d01935ec4",
     "showTitle": false,
     "tableResultSettingsMap": {},
     "title": ""
    }
   },
   "outputs": [
    {
     "output_type": "display_data",
     "data": {
      "text/html": [
       "<style scoped>\n",
       "  .table-result-container {\n",
       "    max-height: 300px;\n",
       "    overflow: auto;\n",
       "  }\n",
       "  table, th, td {\n",
       "    border: 1px solid black;\n",
       "    border-collapse: collapse;\n",
       "  }\n",
       "  th, td {\n",
       "    padding: 5px;\n",
       "  }\n",
       "  th {\n",
       "    text-align: left;\n",
       "  }\n",
       "</style><div class='table-result-container'><table class='table-result'><thead style='background-color: white'><tr><th>DECADA</th><th>CATEGORIA_MAIOR_QUANTIDADE_LANCAMENTOS</th><th>QUANTIDADE</th></tr></thead><tbody><tr><td>1980</td><td>Curta metragem</td><td>76</td></tr><tr><td>1990</td><td>Filme</td><td>41553</td></tr><tr><td>2000</td><td>Filme</td><td>31863</td></tr></tbody></table></div>"
      ]
     },
     "metadata": {
      "application/vnd.databricks.v1+output": {
       "addedWidgets": {},
       "aggData": [],
       "aggError": "",
       "aggOverflow": false,
       "aggSchema": [],
       "aggSeriesLimitReached": false,
       "aggType": "",
       "arguments": {},
       "columnCustomDisplayInfos": {},
       "data": [
        [
         "1980",
         "Curta metragem",
         76
        ],
        [
         "1990",
         "Filme",
         41553
        ],
        [
         "2000",
         "Filme",
         31863
        ]
       ],
       "datasetInfos": [],
       "dbfsResultPath": null,
       "isJsonSchema": true,
       "metadata": {},
       "overflow": false,
       "plotOptions": {
        "customPlotOptions": {},
        "displayType": "table",
        "pivotAggregation": null,
        "pivotColumns": null,
        "xColumns": null,
        "yColumns": null
       },
       "removedWidgets": [],
       "schema": [
        {
         "metadata": "{}",
         "name": "DECADA",
         "type": "\"string\""
        },
        {
         "metadata": "{}",
         "name": "CATEGORIA_MAIOR_QUANTIDADE_LANCAMENTOS",
         "type": "\"string\""
        },
        {
         "metadata": "{}",
         "name": "QUANTIDADE",
         "type": "\"long\""
        }
       ],
       "type": "table"
      }
     },
     "output_type": "display_data"
    },
    {
     "output_type": "display_data",
     "data": {
      "text/plain": [
       "Databricks visualization. Run in Databricks to view."
      ]
     },
     "metadata": {
      "application/vnd.databricks.v1.subcommand+json": {
       "baseErrorDetails": null,
       "bindings": {},
       "collapsed": false,
       "command": "%sql WITH q AS (SELECT * FROM IMDB_RELATORIO.VW_CATEGORIAS_COM_MAIS_LANCAMENTO_BRASIL) SELECT `DECADA`,`CATEGORIA_MAIOR_QUANTIDADE_LANCAMENTOS`,SUM(`QUANTIDADE`) `column_c65ca17937` FROM q GROUP BY `CATEGORIA_MAIOR_QUANTIDADE_LANCAMENTOS`,`DECADA`",
       "commandTitle": "Visualização 1",
       "commandType": "auto",
       "commandVersion": 0,
       "commentThread": [],
       "commentsVisible": false,
       "contentSha256Hex": null,
       "customPlotOptions": {
        "redashChart": [
         {
          "key": "type",
          "value": "CHART"
         },
         {
          "key": "options",
          "value": {
           "alignYAxesAtZero": true,
           "coefficient": 1,
           "columnConfigurationMap": {
            "series": {
             "column": "CATEGORIA_MAIOR_QUANTIDADE_LANCAMENTOS",
             "id": "column_c65ca17936"
            },
            "x": {
             "column": "DECADA",
             "id": "column_c65ca17935"
            },
            "y": [
             {
              "column": "QUANTIDADE",
              "id": "column_c65ca17937",
              "transform": "SUM"
             }
            ]
           },
           "dateTimeFormat": "DD/MM/YYYY HH:mm",
           "direction": {
            "type": "counterclockwise"
           },
           "error_y": {
            "type": "data",
            "visible": true
           },
           "globalSeriesType": "pie",
           "legend": {
            "traceorder": "normal"
           },
           "missingValuesAsZero": true,
           "numberFormat": "0,0.[00000]",
           "percentFormat": "0[.]00%",
           "series": {
            "error_y": {
             "type": "data",
             "visible": true
            },
            "stacking": null
           },
           "seriesOptions": {
            "column_c65ca17937": {
             "name": "QUANTIDADE",
             "type": "pie",
             "yAxis": 0
            }
           },
           "showDataLabels": true,
           "sizemode": "diameter",
           "sortX": true,
           "sortY": true,
           "swappedAxes": false,
           "textFormat": "",
           "useAggregationsUi": true,
           "valuesOptions": {},
           "version": 2,
           "xAxis": {
            "labels": {
             "enabled": true
            },
            "type": "-"
           },
           "yAxis": [
            {
             "type": "-"
            },
            {
             "opposite": true,
             "type": "-"
            }
           ]
          }
         }
        ]
       },
       "datasetPreviewNameToCmdIdMap": {},
       "diffDeletes": [],
       "diffInserts": [],
       "displayType": "redashChart",
       "error": null,
       "errorDetails": null,
       "errorSummary": null,
       "errorTraceType": null,
       "finishTime": 0,
       "globalVars": {},
       "guid": "",
       "height": "auto",
       "hideCommandCode": false,
       "hideCommandResult": false,
       "iPythonMetadata": null,
       "inputWidgets": {},
       "isLockedInExamMode": false,
       "latestUser": "a user",
       "latestUserId": null,
       "listResultMetadata": null,
       "metadata": {
        "byteLimit": 2048000,
        "implicitDf": true,
        "rowLimit": 10000
       },
       "nuid": "12107391-1826-4a5a-bbec-4e8caeea7f83",
       "origId": 0,
       "parentHierarchy": [],
       "pivotAggregation": null,
       "pivotColumns": null,
       "position": 18.145015507936478,
       "resultDbfsErrorMessage": null,
       "resultDbfsStatus": "INLINED_IN_TREE",
       "results": null,
       "showCommandTitle": false,
       "startTime": 0,
       "state": "finished",
       "streamStates": {},
       "subcommandOptions": {
        "queryPlan": {
         "groups": [
          {
           "column": "DECADA",
           "type": "column"
          },
          {
           "column": "CATEGORIA_MAIOR_QUANTIDADE_LANCAMENTOS",
           "type": "column"
          }
         ],
         "selects": [
          {
           "column": "DECADA",
           "type": "column"
          },
          {
           "column": "CATEGORIA_MAIOR_QUANTIDADE_LANCAMENTOS",
           "type": "column"
          },
          {
           "alias": "column_c65ca17937",
           "args": [
            {
             "column": "QUANTIDADE",
             "type": "column"
            }
           ],
           "function": "SUM",
           "type": "function"
          }
         ]
        }
       },
       "submitTime": 0,
       "subtype": "tableResultSubCmd.visualization",
       "tableResultIndex": 0,
       "tableResultSettingsMap": {},
       "useConsistentColors": false,
       "version": "CommandV1",
       "width": "auto",
       "workflows": [],
       "xColumns": null,
       "yColumns": null
      }
     },
     "output_type": "display_data"
    }
   ],
   "source": [
    "%sql\n",
    "CREATE OR REPLACE VIEW IMDB_RELATORIO.VW_CATEGORIAS_COM_MAIS_LANCAMENTO_BRASIL\n",
    "AS\n",
    "SELECT\n",
    "  VISAO_GERAL.DECADA,\n",
    "  CASE VISAO_GERAL.CATEGORIA\n",
    "    WHEN 'movie' THEN 'Filme'\n",
    "    WHEN 'video' THEN 'Vídeo (dvd, vhs, etc.)'\n",
    "    WHEN 'short' THEN 'Curta metragem'\n",
    "  ELSE VISAO_GERAL.CATEGORIA end CATEGORIA_MAIOR_QUANTIDADE_LANCAMENTOS,\n",
    "  LANCAMENTOS.TITULOS_LANCADOS QUANTIDADE\n",
    "FROM \n",
    "  IMDB_RELATORIO.VW_LANCAMENTO_POR_TIPO_DECADA VISAO_GERAL,\n",
    "  (\n",
    "    SELECT DECADA, MAX(TITULOS_LANCADOS) TITULOS_LANCADOS \n",
    "    FROM IMDB_RELATORIO.VW_LANCAMENTO_POR_TIPO_DECADA\n",
    "    GROUP BY DECADA\n",
    "  ) LANCAMENTOS\n",
    "WHERE VISAO_GERAL.DECADA = LANCAMENTOS.DECADA AND VISAO_GERAL.TITULOS_LANCADOS = LANCAMENTOS.TITULOS_LANCADOS\n",
    "ORDER BY VISAO_GERAL.DECADA\n",
    ";\n",
    "\n",
    "-- EXIBINDO RESULTADO\n",
    "SELECT * FROM IMDB_RELATORIO.VW_CATEGORIAS_COM_MAIS_LANCAMENTO_BRASIL;"
   ]
  },
  {
   "cell_type": "markdown",
   "metadata": {
    "application/vnd.databricks.v1+cell": {
     "cellMetadata": {
      "byteLimit": 2048000,
      "rowLimit": 10000
     },
     "inputWidgets": {},
     "nuid": "2084be43-06f7-4d9e-8a9b-c093b2a4c9dc",
     "showTitle": false,
     "tableResultSettingsMap": {},
     "title": ""
    }
   },
   "source": [
    "###Os últimos 10 títulos que possuem nome exclusivo no Brasil (Com nome diferente do nome original ou comercial)."
   ]
  },
  {
   "cell_type": "markdown",
   "metadata": {
    "application/vnd.databricks.v1+cell": {
     "cellMetadata": {
      "byteLimit": 2048000,
      "rowLimit": 10000
     },
     "inputWidgets": {},
     "nuid": "157cce67-8a96-434c-bae2-86211f786048",
     "showTitle": false,
     "tableResultSettingsMap": {},
     "title": ""
    }
   },
   "source": [
    "- **Conforme análise** na criação da tabela **IMDB_DB_BRONZE.tb_title_akas**, identificamos que não há título com campo isOriginalTitle  = 1 (True) com o campo region preenchido. \n",
    "- Mesmo que o titulo TITULO_ORIGINAL seja igual o TITULO de lançamento e descrito em português, não podemos afirmar que seja um Título produzido no Brasil, devido a falta da informação de ser um título Original. \n",
    "- Desta forma todos os titulos duplicados que tenha a coluna IDIOMA com valor \"pt\" e outra com valor nulo (NULL) e analisando as informações fornecidas pelo Dicionário de Dados; concluo que o registro do título com campo IDIOMA preenchido é um título legendado ou dublado."
   ]
  },
  {
   "cell_type": "code",
   "execution_count": 0,
   "metadata": {
    "application/vnd.databricks.v1+cell": {
     "cellMetadata": {
      "byteLimit": 2048000,
      "implicitDf": true,
      "rowLimit": 10000
     },
     "inputWidgets": {},
     "nuid": "1769f659-d4a4-4828-9bd9-5284c13e60fa",
     "showTitle": false,
     "tableResultSettingsMap": {},
     "title": ""
    }
   },
   "outputs": [
    {
     "output_type": "display_data",
     "data": {
      "text/html": [
       "<style scoped>\n",
       "  .table-result-container {\n",
       "    max-height: 300px;\n",
       "    overflow: auto;\n",
       "  }\n",
       "  table, th, td {\n",
       "    border: 1px solid black;\n",
       "    border-collapse: collapse;\n",
       "  }\n",
       "  th, td {\n",
       "    padding: 5px;\n",
       "  }\n",
       "  th {\n",
       "    text-align: left;\n",
       "  }\n",
       "</style><div class='table-result-container'><table class='table-result'><thead style='background-color: white'><tr><th>TITULO_BRASIL</th><th>TITULO_ORIGINAL</th><th>TITULO_COMERCIAL</th><th>ANO_LANCAMENTO</th></tr></thead><tbody><tr><td>366</td><td>UN AÑO Y UN DÍA</td><td>UN AÑO Y UN DÍA</td><td>2025</td></tr><tr><td>A ARMADILHA DO COELHO</td><td>RABBIT TRAP</td><td>RABBIT TRAP</td><td>2025</td></tr><tr><td>A BATALHA DO MAR CHINÊS</td><td>JIAO LONG XING DONG</td><td>OPERATION HADAL</td><td>2025</td></tr><tr><td>A CASA DO MICKEY: PARQUE DA MORTE</td><td>MICKEY'S SLAYHOUSE</td><td>MICKEY'S SLAYHOUSE</td><td>2025</td></tr><tr><td>A EMPREGADA</td><td>THE HOUSEMAID</td><td>THE HOUSEMAID</td><td>2025</td></tr><tr><td>A FAZENDA DOS ANIMAIS</td><td>ANIMAL FARM</td><td>ANIMAL FARM</td><td>2025</td></tr><tr><td>A FÚRIA DO LEÃO</td><td>LION FIST</td><td>LION FIST</td><td>2025</td></tr><tr><td>A GAROTA MAIS LINDA DO MUNDO</td><td>THE MOST BEAUTIFUL GIRL IN THE WORLD</td><td>THE MOST BEAUTIFUL GIRL IN THE WORLD</td><td>2025</td></tr><tr><td>A GUERRA DAS PALAVRAS</td><td>WORDS OF WAR</td><td>WORDS OF WAR</td><td>2025</td></tr><tr><td>A LISTA DO PERIGO: QUEM VAI ESCAPAR?</td><td>THE HIT-LIST</td><td>THE HIT-LIST</td><td>2025</td></tr></tbody></table></div>"
      ]
     },
     "metadata": {
      "application/vnd.databricks.v1+output": {
       "addedWidgets": {},
       "aggData": [],
       "aggError": "",
       "aggOverflow": false,
       "aggSchema": [],
       "aggSeriesLimitReached": false,
       "aggType": "",
       "arguments": {},
       "columnCustomDisplayInfos": {},
       "data": [
        [
         "366",
         "UN AÑO Y UN DÍA",
         "UN AÑO Y UN DÍA",
         2025
        ],
        [
         "A ARMADILHA DO COELHO",
         "RABBIT TRAP",
         "RABBIT TRAP",
         2025
        ],
        [
         "A BATALHA DO MAR CHINÊS",
         "JIAO LONG XING DONG",
         "OPERATION HADAL",
         2025
        ],
        [
         "A CASA DO MICKEY: PARQUE DA MORTE",
         "MICKEY'S SLAYHOUSE",
         "MICKEY'S SLAYHOUSE",
         2025
        ],
        [
         "A EMPREGADA",
         "THE HOUSEMAID",
         "THE HOUSEMAID",
         2025
        ],
        [
         "A FAZENDA DOS ANIMAIS",
         "ANIMAL FARM",
         "ANIMAL FARM",
         2025
        ],
        [
         "A FÚRIA DO LEÃO",
         "LION FIST",
         "LION FIST",
         2025
        ],
        [
         "A GAROTA MAIS LINDA DO MUNDO",
         "THE MOST BEAUTIFUL GIRL IN THE WORLD",
         "THE MOST BEAUTIFUL GIRL IN THE WORLD",
         2025
        ],
        [
         "A GUERRA DAS PALAVRAS",
         "WORDS OF WAR",
         "WORDS OF WAR",
         2025
        ],
        [
         "A LISTA DO PERIGO: QUEM VAI ESCAPAR?",
         "THE HIT-LIST",
         "THE HIT-LIST",
         2025
        ]
       ],
       "datasetInfos": [],
       "dbfsResultPath": null,
       "isJsonSchema": true,
       "metadata": {},
       "overflow": false,
       "plotOptions": {
        "customPlotOptions": {},
        "displayType": "table",
        "pivotAggregation": null,
        "pivotColumns": null,
        "xColumns": null,
        "yColumns": null
       },
       "removedWidgets": [],
       "schema": [
        {
         "metadata": "{\"__CHAR_VARCHAR_TYPE_STRING\":\"varchar(1000)\"}",
         "name": "TITULO_BRASIL",
         "type": "\"string\""
        },
        {
         "metadata": "{\"__CHAR_VARCHAR_TYPE_STRING\":\"varchar(1000)\"}",
         "name": "TITULO_ORIGINAL",
         "type": "\"string\""
        },
        {
         "metadata": "{\"__CHAR_VARCHAR_TYPE_STRING\":\"varchar(1000)\"}",
         "name": "TITULO_COMERCIAL",
         "type": "\"string\""
        },
        {
         "metadata": "{}",
         "name": "ANO_LANCAMENTO",
         "type": "\"integer\""
        }
       ],
       "type": "table"
      }
     },
     "output_type": "display_data"
    }
   ],
   "source": [
    "%sql\n",
    "CREATE OR REPLACE VIEW IMDB_RELATORIO.VW_TITULOS_COM_NOME_EXCLUSIVO_NO_BRASIL\n",
    "AS\n",
    "SELECT \n",
    "  TITULO TITULO_BRASIL,\n",
    "  TITULO_ORIGINAL TITULO_ORIGINAL,\n",
    "  TITULO_PRIMARIO TITULO_COMERCIAL,\n",
    "  ANO_LANCAMENTO\n",
    "FROM \n",
    "  IMDB_DB_GOLD.tb_filme_lancamento_brasil\n",
    "WHERE\n",
    "  TRIM(TITULO) <> TRIM(TITULO_ORIGINAL) OR TRIM(TITULO) <> TRIM(TITULO_PRIMARIO)\n",
    "GROUP BY\n",
    "  ANO_LANCAMENTO,\n",
    "  TITULO_PRIMARIO, \n",
    "  TITULO_ORIGINAL, \n",
    "  TITULO\n",
    "HAVING ANO_LANCAMENTO <= 2025\n",
    "ORDER BY ANO_LANCAMENTO DESC, TITULO\n",
    "LIMIT 10\n",
    ";\n",
    "\n",
    "-- EXIBINDO RESULTADO 20 PRIMEIROS REGISTROS\n",
    "SELECT * FROM IMDB_RELATORIO.VW_TITULOS_COM_NOME_EXCLUSIVO_NO_BRASIL LIMIT 20;"
   ]
  },
  {
   "cell_type": "markdown",
   "metadata": {
    "application/vnd.databricks.v1+cell": {
     "cellMetadata": {
      "byteLimit": 2048000,
      "rowLimit": 10000
     },
     "inputWidgets": {},
     "nuid": "5a57ff50-de97-4ee3-ac3b-73ab4d05929b",
     "showTitle": false,
     "tableResultSettingsMap": {},
     "title": ""
    }
   },
   "source": [
    "###Qual a porcentagem de pessoas que atuaram como Ator ou Atriz em Títulos do tipo Filmes, Curtas ou Vídeo, lançados no Brasil?"
   ]
  },
  {
   "cell_type": "markdown",
   "metadata": {
    "application/vnd.databricks.v1+cell": {
     "cellMetadata": {
      "byteLimit": 2048000,
      "rowLimit": 10000
     },
     "inputWidgets": {},
     "nuid": "fc779b65-6e46-445b-9f78-2ddce0776759",
     "showTitle": false,
     "tableResultSettingsMap": {},
     "title": ""
    }
   },
   "source": [
    "- Pela profissão da pessoa será definido seu sexo como Masculino (actor) ou Feminino (actress)"
   ]
  },
  {
   "cell_type": "code",
   "execution_count": 0,
   "metadata": {
    "application/vnd.databricks.v1+cell": {
     "cellMetadata": {
      "byteLimit": 2048000,
      "implicitDf": true,
      "rowLimit": 10000
     },
     "inputWidgets": {},
     "nuid": "0ec443dc-ba9b-4cac-93fc-03bc30ff1854",
     "showTitle": false,
     "tableResultSettingsMap": {},
     "title": ""
    }
   },
   "outputs": [
    {
     "output_type": "display_data",
     "data": {
      "text/html": [
       "<style scoped>\n",
       "  .table-result-container {\n",
       "    max-height: 300px;\n",
       "    overflow: auto;\n",
       "  }\n",
       "  table, th, td {\n",
       "    border: 1px solid black;\n",
       "    border-collapse: collapse;\n",
       "  }\n",
       "  th, td {\n",
       "    padding: 5px;\n",
       "  }\n",
       "  th {\n",
       "    text-align: left;\n",
       "  }\n",
       "</style><div class='table-result-container'><table class='table-result'><thead style='background-color: white'><tr><th>TODOS</th><th>FEMININO</th><th>MASCULINO</th><th>PORCENTAGEM_FEMININO</th><th>PORCENTAGEM_MASCULINO</th></tr></thead><tbody><tr><td>895200</td><td>276415</td><td>618854</td><td>31</td><td>69</td></tr></tbody></table></div>"
      ]
     },
     "metadata": {
      "application/vnd.databricks.v1+output": {
       "addedWidgets": {},
       "aggData": [],
       "aggError": "",
       "aggOverflow": false,
       "aggSchema": [],
       "aggSeriesLimitReached": false,
       "aggType": "",
       "arguments": {},
       "columnCustomDisplayInfos": {},
       "data": [
        [
         895200,
         276415,
         618854,
         "31",
         "69"
        ]
       ],
       "datasetInfos": [],
       "dbfsResultPath": null,
       "isJsonSchema": true,
       "metadata": {},
       "overflow": false,
       "plotOptions": {
        "customPlotOptions": {},
        "displayType": "table",
        "pivotAggregation": null,
        "pivotColumns": null,
        "xColumns": null,
        "yColumns": null
       },
       "removedWidgets": [],
       "schema": [
        {
         "metadata": "{}",
         "name": "TODOS",
         "type": "\"long\""
        },
        {
         "metadata": "{}",
         "name": "FEMININO",
         "type": "\"long\""
        },
        {
         "metadata": "{}",
         "name": "MASCULINO",
         "type": "\"long\""
        },
        {
         "metadata": "{}",
         "name": "PORCENTAGEM_FEMININO",
         "type": "\"decimal(10,0)\""
        },
        {
         "metadata": "{}",
         "name": "PORCENTAGEM_MASCULINO",
         "type": "\"decimal(10,0)\""
        }
       ],
       "type": "table"
      }
     },
     "output_type": "display_data"
    },
    {
     "output_type": "display_data",
     "data": {
      "text/plain": [
       "Databricks visualization. Run in Databricks to view."
      ]
     },
     "metadata": {
      "application/vnd.databricks.v1.subcommand+json": {
       "baseErrorDetails": null,
       "bindings": {},
       "collapsed": false,
       "command": "%sql WITH q AS (SELECT * FROM IMDB_RELATORIO.VW_PORCENTAGEM_SEXO_EM_TITULOS_NO_BRASIL) SELECT `TODOS`,SUM(`PORCENTAGEM_FEMININO`) `column_56a6b614202`,SUM(`PORCENTAGEM_MASCULINO`) `column_56a6b614205` FROM q GROUP BY `TODOS`",
       "commandTitle": "Visualização 1",
       "commandType": "auto",
       "commandVersion": 0,
       "commentThread": [],
       "commentsVisible": false,
       "contentSha256Hex": null,
       "customPlotOptions": {
        "redashChart": [
         {
          "key": "type",
          "value": "CHART"
         },
         {
          "key": "options",
          "value": {
           "alignYAxesAtZero": true,
           "coefficient": 1,
           "columnConfigurationMap": {
            "x": {
             "column": "TODOS",
             "id": "column_56a6b614200"
            },
            "y": [
             {
              "column": "PORCENTAGEM_FEMININO",
              "id": "column_56a6b614202",
              "transform": "SUM"
             },
             {
              "column": "PORCENTAGEM_MASCULINO",
              "id": "column_56a6b614205",
              "transform": "SUM"
             }
            ]
           },
           "dateTimeFormat": "DD/MM/YYYY HH:mm",
           "direction": {
            "type": "counterclockwise"
           },
           "error_y": {
            "type": "data",
            "visible": true
           },
           "globalSeriesType": "column",
           "isAggregationOn": true,
           "legend": {
            "traceorder": "normal"
           },
           "missingValuesAsZero": true,
           "numberFormat": "0,0.[00000]",
           "percentFormat": "0[.]00%",
           "series": {
            "error_y": {
             "type": "data",
             "visible": true
            },
            "stacking": null
           },
           "seriesOptions": {
            "column_56a6b614202": {
             "name": "Feminino",
             "type": "column",
             "yAxis": 0
            },
            "column_56a6b614205": {
             "name": "Masculino",
             "type": "column",
             "yAxis": 0
            }
           },
           "showDataLabels": false,
           "sizemode": "diameter",
           "sortX": true,
           "sortY": true,
           "swappedAxes": false,
           "textFormat": "",
           "useAggregationsUi": true,
           "valuesOptions": {},
           "version": 2,
           "xAxis": {
            "labels": {
             "enabled": true
            },
            "type": "-"
           },
           "yAxis": [
            {
             "type": "-"
            },
            {
             "opposite": true,
             "type": "-"
            }
           ]
          }
         }
        ]
       },
       "datasetPreviewNameToCmdIdMap": {},
       "diffDeletes": [],
       "diffInserts": [],
       "displayType": "redashChart",
       "error": null,
       "errorDetails": null,
       "errorSummary": null,
       "errorTraceType": null,
       "finishTime": 0,
       "globalVars": {},
       "guid": "",
       "height": "auto",
       "hideCommandCode": false,
       "hideCommandResult": false,
       "iPythonMetadata": null,
       "inputWidgets": {},
       "isLockedInExamMode": false,
       "latestUser": "a user",
       "latestUserId": null,
       "listResultMetadata": null,
       "metadata": {
        "byteLimit": 2048000,
        "implicitDf": true,
        "rowLimit": 10000
       },
       "nuid": "acdc74ce-a22f-4985-86eb-84321f324e1a",
       "origId": 0,
       "parentHierarchy": [],
       "pivotAggregation": null,
       "pivotColumns": null,
       "position": 21.500258267857134,
       "resultDbfsErrorMessage": null,
       "resultDbfsStatus": "INLINED_IN_TREE",
       "results": null,
       "showCommandTitle": false,
       "startTime": 0,
       "state": "finished",
       "streamStates": {},
       "subcommandOptions": {
        "queryPlan": {
         "groups": [
          {
           "column": "TODOS",
           "type": "column"
          }
         ],
         "selects": [
          {
           "column": "TODOS",
           "type": "column"
          },
          {
           "alias": "column_56a6b614202",
           "args": [
            {
             "column": "PORCENTAGEM_FEMININO",
             "type": "column"
            }
           ],
           "function": "SUM",
           "type": "function"
          },
          {
           "alias": "column_56a6b614205",
           "args": [
            {
             "column": "PORCENTAGEM_MASCULINO",
             "type": "column"
            }
           ],
           "function": "SUM",
           "type": "function"
          }
         ]
        }
       },
       "submitTime": 0,
       "subtype": "tableResultSubCmd.visualization",
       "tableResultIndex": 0,
       "tableResultSettingsMap": {},
       "useConsistentColors": false,
       "version": "CommandV1",
       "width": "auto",
       "workflows": [],
       "xColumns": null,
       "yColumns": null
      }
     },
     "output_type": "display_data"
    }
   ],
   "source": [
    "%sql\n",
    "CREATE OR REPLACE VIEW IMDB_RELATORIO.VW_PORCENTAGEM_SEXO_EM_TITULOS_NO_BRASIL\n",
    "AS\n",
    "SELECT \n",
    "  TOTAL.TODOS,\n",
    "  SEXO_FEMININO.TOTAL FEMININO,\n",
    "  SEXO_MASCULINO.TOTAL MASCULINO,\n",
    "  decimal(SEXO_FEMININO.TOTAL * 100 / TOTAL.TODOS) PORCENTAGEM_FEMININO,\n",
    "  decimal(SEXO_MASCULINO.TOTAL * 100 / TOTAL.TODOS) PORCENTAGEM_MASCULINO\n",
    "FROM\n",
    "  (SELECT COUNT(0) AS TODOS\n",
    "    FROM IMDB_DB_GOLD.TB_ATOR_TITULO \n",
    "    WHERE PROFISSAO1 = 'actor' OR PROFISSAO1 = 'actress' OR PROFISSAO2 = 'actor' OR PROFISSAO2 = 'actress' OR PROFISSAO3 = 'actor' OR PROFISSAO3 ='actress') TOTAL,\n",
    "  (SELECT COUNT(0)  AS TOTAL FROM IMDB_DB_GOLD.TB_ATOR_TITULO WHERE PROFISSAO1 = 'actress' OR PROFISSAO2 = 'actress' OR PROFISSAO3 = 'actress') SEXO_FEMININO,\n",
    "  (SELECT COUNT(0) AS TOTAL FROM IMDB_DB_GOLD.TB_ATOR_TITULO WHERE PROFISSAO1 = 'actor' OR PROFISSAO2 = 'actor' OR PROFISSAO3 = 'actor') SEXO_MASCULINO\n",
    ";\n",
    "\n",
    "SELECT * FROM IMDB_RELATORIO.VW_PORCENTAGEM_SEXO_EM_TITULOS_NO_BRASIL;"
   ]
  },
  {
   "cell_type": "markdown",
   "metadata": {
    "application/vnd.databricks.v1+cell": {
     "cellMetadata": {
      "byteLimit": 2048000,
      "rowLimit": 10000
     },
     "inputWidgets": {},
     "nuid": "e6e16be8-2108-4116-bdac-c598f0202ac8",
     "showTitle": false,
     "tableResultSettingsMap": {},
     "title": ""
    }
   },
   "source": [
    "##Porcentagem de atores do sexo feminino e masculino que atuaram nos títulos do tipo Filme em cada década existente na base.\n",
    "- Para o resultado, criação da View IMDB_RELATORIO.VW_TOTAL_POR_DECADA_GENERO_ATOR que vai estruturar a consulta para o cálculo das porcentagens.\n",
    "- Obter a porcentagem de atores do sexo feminino e masculino que atuaram nos títulos do tipo Filme em cada década existente na base."
   ]
  },
  {
   "cell_type": "code",
   "execution_count": 0,
   "metadata": {
    "application/vnd.databricks.v1+cell": {
     "cellMetadata": {
      "byteLimit": 2048000,
      "implicitDf": true,
      "rowLimit": 10000
     },
     "inputWidgets": {},
     "nuid": "79108939-4578-4bb6-be5e-40a1481c9a79",
     "showTitle": false,
     "tableResultSettingsMap": {},
     "title": ""
    }
   },
   "outputs": [
    {
     "output_type": "display_data",
     "data": {
      "text/html": [
       "<style scoped>\n",
       "  .table-result-container {\n",
       "    max-height: 300px;\n",
       "    overflow: auto;\n",
       "  }\n",
       "  table, th, td {\n",
       "    border: 1px solid black;\n",
       "    border-collapse: collapse;\n",
       "  }\n",
       "  th, td {\n",
       "    padding: 5px;\n",
       "  }\n",
       "  th {\n",
       "    text-align: left;\n",
       "  }\n",
       "</style><div class='table-result-container'><table class='table-result'><thead style='background-color: white'><tr><th>SEXO</th><th>DECADA</th><th>TOTAL</th></tr></thead><tbody><tr><td>NÃO INFORMADO</td><td>1980</td><td>3</td></tr><tr><td>FEMININO</td><td>1980</td><td>26</td></tr><tr><td>MASCULINO</td><td>1980</td><td>70</td></tr><tr><td>NÃO INFORMADO</td><td>1990</td><td>1692463</td></tr><tr><td>FEMININO</td><td>1990</td><td>859893</td></tr><tr><td>MASCULINO</td><td>1990</td><td>2560843</td></tr><tr><td>NÃO INFORMADO</td><td>2000</td><td>1198201</td></tr><tr><td>FEMININO</td><td>2000</td><td>448839</td></tr><tr><td>MASCULINO</td><td>2000</td><td>937719</td></tr></tbody></table></div>"
      ]
     },
     "metadata": {
      "application/vnd.databricks.v1+output": {
       "addedWidgets": {},
       "aggData": [],
       "aggError": "",
       "aggOverflow": false,
       "aggSchema": [],
       "aggSeriesLimitReached": false,
       "aggType": "",
       "arguments": {},
       "columnCustomDisplayInfos": {},
       "data": [
        [
         "NÃO INFORMADO",
         "1980",
         3
        ],
        [
         "FEMININO",
         "1980",
         26
        ],
        [
         "MASCULINO",
         "1980",
         70
        ],
        [
         "NÃO INFORMADO",
         "1990",
         1692463
        ],
        [
         "FEMININO",
         "1990",
         859893
        ],
        [
         "MASCULINO",
         "1990",
         2560843
        ],
        [
         "NÃO INFORMADO",
         "2000",
         1198201
        ],
        [
         "FEMININO",
         "2000",
         448839
        ],
        [
         "MASCULINO",
         "2000",
         937719
        ]
       ],
       "datasetInfos": [],
       "dbfsResultPath": null,
       "isJsonSchema": true,
       "metadata": {},
       "overflow": false,
       "plotOptions": {
        "customPlotOptions": {},
        "displayType": "table",
        "pivotAggregation": null,
        "pivotColumns": null,
        "xColumns": null,
        "yColumns": null
       },
       "removedWidgets": [],
       "schema": [
        {
         "metadata": "{}",
         "name": "SEXO",
         "type": "\"string\""
        },
        {
         "metadata": "{}",
         "name": "DECADA",
         "type": "\"string\""
        },
        {
         "metadata": "{}",
         "name": "TOTAL",
         "type": "\"long\""
        }
       ],
       "type": "table"
      }
     },
     "output_type": "display_data"
    },
    {
     "output_type": "display_data",
     "data": {
      "text/plain": [
       "Databricks visualization. Run in Databricks to view."
      ]
     },
     "metadata": {
      "application/vnd.databricks.v1.subcommand+json": {
       "baseErrorDetails": null,
       "bindings": {},
       "collapsed": false,
       "command": "%sql WITH q AS (SELECT * FROM IMDB_RELATORIO.VW_TOTAL_POR_DECADA_SEXO_ATOR) SELECT `SEXO`,`DECADA`,SUM(`TOTAL`) `column_c65ca17941` FROM q GROUP BY `DECADA`,`SEXO`",
       "commandTitle": "Visualização 1",
       "commandType": "auto",
       "commandVersion": 0,
       "commentThread": [],
       "commentsVisible": false,
       "contentSha256Hex": null,
       "customPlotOptions": {
        "redashChart": [
         {
          "key": "type",
          "value": "CHART"
         },
         {
          "key": "options",
          "value": {
           "alignYAxesAtZero": true,
           "coefficient": 1,
           "columnConfigurationMap": {
            "series": {
             "column": "DECADA",
             "id": "column_c65ca17940"
            },
            "x": {
             "column": "SEXO",
             "id": "column_c65ca17939"
            },
            "y": [
             {
              "column": "TOTAL",
              "id": "column_c65ca17941",
              "transform": "SUM"
             }
            ]
           },
           "dateTimeFormat": "DD/MM/YYYY HH:mm",
           "direction": {
            "type": "counterclockwise"
           },
           "error_y": {
            "type": "data",
            "visible": true
           },
           "globalSeriesType": "column",
           "legend": {
            "traceorder": "normal"
           },
           "missingValuesAsZero": true,
           "numberFormat": "0,0.[00000]",
           "percentFormat": "0[.]00%",
           "series": {
            "error_y": {
             "type": "data",
             "visible": true
            },
            "stacking": "stack"
           },
           "seriesOptions": {
            "column_c65ca17941": {
             "name": "TOTAL",
             "yAxis": 0
            }
           },
           "showDataLabels": false,
           "sizemode": "diameter",
           "sortX": true,
           "sortY": true,
           "swappedAxes": true,
           "textFormat": "",
           "useAggregationsUi": true,
           "valuesOptions": {},
           "version": 2,
           "xAxis": {
            "labels": {
             "enabled": true
            },
            "type": "-"
           },
           "yAxis": [
            {
             "type": "-"
            },
            {
             "opposite": true,
             "type": "-"
            }
           ]
          }
         }
        ]
       },
       "datasetPreviewNameToCmdIdMap": {},
       "diffDeletes": [],
       "diffInserts": [],
       "displayType": "redashChart",
       "error": null,
       "errorDetails": null,
       "errorSummary": null,
       "errorTraceType": null,
       "finishTime": 0,
       "globalVars": {},
       "guid": "",
       "height": "auto",
       "hideCommandCode": false,
       "hideCommandResult": false,
       "iPythonMetadata": null,
       "inputWidgets": {},
       "isLockedInExamMode": false,
       "latestUser": "a user",
       "latestUserId": null,
       "listResultMetadata": null,
       "metadata": {
        "byteLimit": 2048000,
        "implicitDf": true,
        "rowLimit": 10000
       },
       "nuid": "9b792729-1031-4306-a795-7d86d7bcb4de",
       "origId": 0,
       "parentHierarchy": [],
       "pivotAggregation": null,
       "pivotColumns": null,
       "position": 23.500258267857134,
       "resultDbfsErrorMessage": null,
       "resultDbfsStatus": "INLINED_IN_TREE",
       "results": null,
       "showCommandTitle": false,
       "startTime": 0,
       "state": "finished",
       "streamStates": {},
       "subcommandOptions": {
        "queryPlan": {
         "groups": [
          {
           "column": "SEXO",
           "type": "column"
          },
          {
           "column": "DECADA",
           "type": "column"
          }
         ],
         "selects": [
          {
           "column": "SEXO",
           "type": "column"
          },
          {
           "column": "DECADA",
           "type": "column"
          },
          {
           "alias": "column_c65ca17941",
           "args": [
            {
             "column": "TOTAL",
             "type": "column"
            }
           ],
           "function": "SUM",
           "type": "function"
          }
         ]
        }
       },
       "submitTime": 0,
       "subtype": "tableResultSubCmd.visualization",
       "tableResultIndex": 0,
       "tableResultSettingsMap": {},
       "useConsistentColors": false,
       "version": "CommandV1",
       "width": "auto",
       "workflows": [],
       "xColumns": null,
       "yColumns": null
      }
     },
     "output_type": "display_data"
    }
   ],
   "source": [
    "%sql\n",
    "-- Criando visão geral para o relatório\n",
    "CREATE OR REPLACE VIEW IMDB_RELATORIO.VW_TOTAL_POR_DECADA_SEXO_ATOR\n",
    "AS\n",
    "SELECT \n",
    "  SEXO,\n",
    "  DECADA,\n",
    "  TOTAL\n",
    "FROM\n",
    "  (\n",
    "    SELECT\n",
    "      CASE \n",
    "        WHEN ATOR_TITULO.SEXO = 'M' THEN 'MASCULINO'\n",
    "        WHEN ATOR_TITULO.SEXO = 'F' THEN 'FEMININO'\n",
    "      ELSE 'NÃO INFORMADO'\n",
    "      END SEXO,\n",
    "      CASE WHEN substring(FILMES.ANO_LANCAMENTO, 2, 1) > 0 \n",
    "        THEN concat('19', substring(FILMES.ANO_LANCAMENTO, 2, 1),'0') \n",
    "        ELSE concat('20', substring(FILMES.ANO_LANCAMENTO, 2, 1),'0') \n",
    "      END DECADA,\n",
    "      count(0) TOTAL\n",
    "    FROM\n",
    "      IMDB_DB_GOLD.TB_ATOR_TITULO_BRASIL AS ATOR_TITULO,\n",
    "      IMDB_DB_GOLD.TB_FILME_LANCAMENTO_BRASIL FILMES\n",
    "    WHERE FILMES.CHAVE_TITULO = ATOR_TITULO.CHAVE_TITULO\n",
    "    GROUP BY \n",
    "      ATOR_TITULO.SEXO,  \n",
    "      substring(FILMES.ANO_LANCAMENTO, 2, 1)\n",
    "    ORDER BY DECADA\n",
    "  ) AS CONSULTA;\n",
    "\n",
    "  SELECT * FROM IMDB_RELATORIO.VW_TOTAL_POR_DECADA_SEXO_ATOR;"
   ]
  },
  {
   "cell_type": "code",
   "execution_count": 0,
   "metadata": {
    "application/vnd.databricks.v1+cell": {
     "cellMetadata": {
      "byteLimit": 2048000,
      "implicitDf": true,
      "rowLimit": 10000
     },
     "inputWidgets": {},
     "nuid": "201233b8-dd08-46cf-805b-bad470fd1d18",
     "showTitle": false,
     "tableResultSettingsMap": {},
     "title": ""
    }
   },
   "outputs": [
    {
     "output_type": "display_data",
     "data": {
      "text/html": [
       "<style scoped>\n",
       "  .table-result-container {\n",
       "    max-height: 300px;\n",
       "    overflow: auto;\n",
       "  }\n",
       "  table, th, td {\n",
       "    border: 1px solid black;\n",
       "    border-collapse: collapse;\n",
       "  }\n",
       "  th, td {\n",
       "    padding: 5px;\n",
       "  }\n",
       "  th {\n",
       "    text-align: left;\n",
       "  }\n",
       "</style><div class='table-result-container'><table class='table-result'><thead style='background-color: white'><tr><th>TOTAL</th><th>PORCENTAGEM_FEMININO</th><th>PORCENTAGEM_MASCULINO</th><th>PORCENTAGEM_NAO_INFORMADO</th><th>DECADA</th></tr></thead><tbody><tr><td>99</td><td>26</td><td>71</td><td>3</td><td>1980</td></tr><tr><td>5113199</td><td>17</td><td>50</td><td>33</td><td>1990</td></tr><tr><td>2584759</td><td>17</td><td>36</td><td>46</td><td>2000</td></tr></tbody></table></div>"
      ]
     },
     "metadata": {
      "application/vnd.databricks.v1+output": {
       "addedWidgets": {},
       "aggData": [],
       "aggError": "",
       "aggOverflow": false,
       "aggSchema": [],
       "aggSeriesLimitReached": false,
       "aggType": "",
       "arguments": {},
       "columnCustomDisplayInfos": {},
       "data": [
        [
         99,
         "26",
         "71",
         "3",
         "1980"
        ],
        [
         5113199,
         "17",
         "50",
         "33",
         "1990"
        ],
        [
         2584759,
         "17",
         "36",
         "46",
         "2000"
        ]
       ],
       "datasetInfos": [],
       "dbfsResultPath": null,
       "isJsonSchema": true,
       "metadata": {},
       "overflow": false,
       "plotOptions": {
        "customPlotOptions": {},
        "displayType": "table",
        "pivotAggregation": null,
        "pivotColumns": null,
        "xColumns": null,
        "yColumns": null
       },
       "removedWidgets": [],
       "schema": [
        {
         "metadata": "{}",
         "name": "TOTAL",
         "type": "\"long\""
        },
        {
         "metadata": "{}",
         "name": "PORCENTAGEM_FEMININO",
         "type": "\"decimal(10,0)\""
        },
        {
         "metadata": "{}",
         "name": "PORCENTAGEM_MASCULINO",
         "type": "\"decimal(10,0)\""
        },
        {
         "metadata": "{}",
         "name": "PORCENTAGEM_NAO_INFORMADO",
         "type": "\"decimal(10,0)\""
        },
        {
         "metadata": "{}",
         "name": "DECADA",
         "type": "\"string\""
        }
       ],
       "type": "table"
      }
     },
     "output_type": "display_data"
    }
   ],
   "source": [
    "%sql\n",
    "-- Criando consulta\n",
    "SELECT \n",
    "  TODOS.TOTAL,\n",
    "  decimal(FEMININO.TOTAL*100 / TODOS.TOTAL) PORCENTAGEM_FEMININO,\n",
    "  decimal(MASCULINO.TOTAL*100 / TODOS.TOTAL) PORCENTAGEM_MASCULINO,\n",
    "  decimal(NAO_INFORMADO.TOTAL*100 / TODOS.TOTAL) PORCENTAGEM_NAO_INFORMADO,\n",
    "  TODOS.DECADA\n",
    "FROM\n",
    "  (SELECT SUM(TOTAL) TOTAL, DECADA FROM IMDB_RELATORIO.VW_TOTAL_POR_DECADA_SEXO_ATOR GROUP BY DECADA) AS TODOS,\n",
    "  (SELECT TOTAL, DECADA FROM IMDB_RELATORIO.VW_TOTAL_POR_DECADA_SEXO_ATOR WHERE SEXO = 'MASCULINO') AS MASCULINO,\n",
    "  (SELECT TOTAL, DECADA FROM IMDB_RELATORIO.VW_TOTAL_POR_DECADA_SEXO_ATOR WHERE SEXO = 'FEMININO') AS FEMININO,\n",
    "  (SELECT TOTAL, DECADA FROM IMDB_RELATORIO.VW_TOTAL_POR_DECADA_SEXO_ATOR WHERE SEXO = 'NÃO INFORMADO') AS NAO_INFORMADO\n",
    "WHERE \n",
    "  TODOS.DECADA = FEMININO.DECADA\n",
    "  AND FEMININO.DECADA = MASCULINO.DECADA\n",
    "  AND MASCULINO.DECADA = NAO_INFORMADO.DECADA\n",
    "ORDER BY TODOS.DECADA\n",
    ";"
   ]
  },
  {
   "cell_type": "markdown",
   "metadata": {
    "application/vnd.databricks.v1+cell": {
     "cellMetadata": {
      "byteLimit": 2048000,
      "rowLimit": 10000
     },
     "inputWidgets": {},
     "nuid": "2e838148-3d6d-4da2-b223-bd2d96ddef0f",
     "showTitle": false,
     "tableResultSettingsMap": {},
     "title": ""
    }
   },
   "source": [
    "###Os primeiros 20 títulos lançados no Brasil, onde o Diretor(a) atuou como Ator/Atriz."
   ]
  },
  {
   "cell_type": "code",
   "execution_count": 0,
   "metadata": {
    "application/vnd.databricks.v1+cell": {
     "cellMetadata": {
      "byteLimit": 2048000,
      "implicitDf": true,
      "rowLimit": 10000
     },
     "inputWidgets": {},
     "nuid": "3e75dca4-9ff8-4d88-9f38-7035d72be58a",
     "showTitle": false,
     "tableResultSettingsMap": {
      "0": {
       "dataGridStateBlob": null,
       "filterBlob": "{\"filterGroups\":[],\"syncTimestamp\":1744126735700}",
       "queryPlanFiltersBlob": null,
       "tableResultIndex": 0
      }
     },
     "title": ""
    }
   },
   "outputs": [
    {
     "output_type": "display_data",
     "data": {
      "text/html": [
       "<style scoped>\n",
       "  .table-result-container {\n",
       "    max-height: 300px;\n",
       "    overflow: auto;\n",
       "  }\n",
       "  table, th, td {\n",
       "    border: 1px solid black;\n",
       "    border-collapse: collapse;\n",
       "  }\n",
       "  th, td {\n",
       "    padding: 5px;\n",
       "  }\n",
       "  th {\n",
       "    text-align: left;\n",
       "  }\n",
       "</style><div class='table-result-container'><table class='table-result'><thead style='background-color: white'><tr><th>NOME_ARTISTICO</th><th>TITULO_ORIGINAL</th><th>ANO_LANCAMENTO</th><th>REGIAO</th><th>PROFISSAO1</th><th>PROFISSAO2</th><th>PROFISSAO3</th></tr></thead><tbody><tr><td>Georges Méliès</td><td>LE MANOIR DU DIABLE</td><td>1896</td><td>BR</td><td>director</td><td>actor</td><td>producer</td></tr><tr><td>Georges Méliès</td><td>L'ÉCLIPSE DU SOLEIL EN PLEINE LUNE</td><td>1907</td><td>BR</td><td>director</td><td>actor</td><td>producer</td></tr><tr><td>Benjamin Oliveira</td><td>OS GUARANIS</td><td>1908</td><td>BR</td><td>actor</td><td>director</td><td>writer</td></tr><tr><td>Francisco Marzullo</td><td>OS ESTRANGULADORES</td><td>1908</td><td>BR</td><td>actor</td><td>director</td><td>cinematographer</td></tr><tr><td>Francisco Marzullo</td><td>ROUBO DOS 1,400 CENTOS</td><td>1908</td><td>BR</td><td>actor</td><td>director</td><td>cinematographer</td></tr><tr><td>Antônio Serra</td><td>LUCRÉCIA BORGIA</td><td>1909</td><td>BR</td><td>director</td><td>actor</td><td>null</td></tr><tr><td>Antônio Serra</td><td>PEGA NA CHALEIRA</td><td>1909</td><td>BR</td><td>director</td><td>actor</td><td>null</td></tr><tr><td>Antônio Serra</td><td>UM CAVALHEIRO DEVERAS OBSEQUIOSO</td><td>1909</td><td>BR</td><td>director</td><td>actor</td><td>null</td></tr><tr><td>Antônio Serra</td><td>UMA LICAO DE MAXIXE</td><td>1909</td><td>BR</td><td>director</td><td>actor</td><td>null</td></tr><tr><td>Eduardo Leite</td><td>A VIÚVA ALEGRE</td><td>1909</td><td>BR</td><td>actor</td><td>director</td><td>writer</td></tr><tr><td>Eduardo Leite</td><td>DONA INÊS DE CASTRO</td><td>1909</td><td>BR</td><td>actor</td><td>director</td><td>writer</td></tr><tr><td>Eduardo Leite</td><td>JOÃO JOSÉ</td><td>1909</td><td>BR</td><td>actor</td><td>director</td><td>writer</td></tr><tr><td>Eduardo Leite</td><td>O REMORSO VIVO</td><td>1909</td><td>BR</td><td>actor</td><td>director</td><td>writer</td></tr><tr><td>Emílio Silva</td><td>A VIÚVA ALEGRE</td><td>1909</td><td>BR</td><td>art_department</td><td>actor</td><td>cinematographer</td></tr><tr><td>Emílio Silva</td><td>AVENTURAS DE ZÉ CAIPORA</td><td>1909</td><td>BR</td><td>art_department</td><td>actor</td><td>cinematographer</td></tr><tr><td>Emílio Silva</td><td>PEGA NA CHALEIRA</td><td>1909</td><td>BR</td><td>art_department</td><td>actor</td><td>cinematographer</td></tr><tr><td>José Gonçalves Leonardo</td><td>SONHO DE VALSA</td><td>1909</td><td>BR</td><td>actor</td><td>director</td><td>null</td></tr><tr><td>João Colas</td><td>JOÃO JOSÉ</td><td>1909</td><td>BR</td><td>actor</td><td>director</td><td>null</td></tr><tr><td>João Colas</td><td>LA CHICANERA</td><td>1909</td><td>BR</td><td>actor</td><td>director</td><td>null</td></tr><tr><td>Emílio Silva</td><td>O RIO POR UM ÓCULO</td><td>1910</td><td>BR</td><td>art_department</td><td>actor</td><td>cinematographer</td></tr></tbody></table></div>"
      ]
     },
     "metadata": {
      "application/vnd.databricks.v1+output": {
       "addedWidgets": {},
       "aggData": [],
       "aggError": "",
       "aggOverflow": false,
       "aggSchema": [],
       "aggSeriesLimitReached": false,
       "aggType": "",
       "arguments": {},
       "columnCustomDisplayInfos": {},
       "data": [
        [
         "Georges Méliès",
         "LE MANOIR DU DIABLE",
         1896,
         "BR",
         "director",
         "actor",
         "producer"
        ],
        [
         "Georges Méliès",
         "L'ÉCLIPSE DU SOLEIL EN PLEINE LUNE",
         1907,
         "BR",
         "director",
         "actor",
         "producer"
        ],
        [
         "Benjamin Oliveira",
         "OS GUARANIS",
         1908,
         "BR",
         "actor",
         "director",
         "writer"
        ],
        [
         "Francisco Marzullo",
         "OS ESTRANGULADORES",
         1908,
         "BR",
         "actor",
         "director",
         "cinematographer"
        ],
        [
         "Francisco Marzullo",
         "ROUBO DOS 1,400 CENTOS",
         1908,
         "BR",
         "actor",
         "director",
         "cinematographer"
        ],
        [
         "Antônio Serra",
         "LUCRÉCIA BORGIA",
         1909,
         "BR",
         "director",
         "actor",
         null
        ],
        [
         "Antônio Serra",
         "PEGA NA CHALEIRA",
         1909,
         "BR",
         "director",
         "actor",
         null
        ],
        [
         "Antônio Serra",
         "UM CAVALHEIRO DEVERAS OBSEQUIOSO",
         1909,
         "BR",
         "director",
         "actor",
         null
        ],
        [
         "Antônio Serra",
         "UMA LICAO DE MAXIXE",
         1909,
         "BR",
         "director",
         "actor",
         null
        ],
        [
         "Eduardo Leite",
         "A VIÚVA ALEGRE",
         1909,
         "BR",
         "actor",
         "director",
         "writer"
        ],
        [
         "Eduardo Leite",
         "DONA INÊS DE CASTRO",
         1909,
         "BR",
         "actor",
         "director",
         "writer"
        ],
        [
         "Eduardo Leite",
         "JOÃO JOSÉ",
         1909,
         "BR",
         "actor",
         "director",
         "writer"
        ],
        [
         "Eduardo Leite",
         "O REMORSO VIVO",
         1909,
         "BR",
         "actor",
         "director",
         "writer"
        ],
        [
         "Emílio Silva",
         "A VIÚVA ALEGRE",
         1909,
         "BR",
         "art_department",
         "actor",
         "cinematographer"
        ],
        [
         "Emílio Silva",
         "AVENTURAS DE ZÉ CAIPORA",
         1909,
         "BR",
         "art_department",
         "actor",
         "cinematographer"
        ],
        [
         "Emílio Silva",
         "PEGA NA CHALEIRA",
         1909,
         "BR",
         "art_department",
         "actor",
         "cinematographer"
        ],
        [
         "José Gonçalves Leonardo",
         "SONHO DE VALSA",
         1909,
         "BR",
         "actor",
         "director",
         null
        ],
        [
         "João Colas",
         "JOÃO JOSÉ",
         1909,
         "BR",
         "actor",
         "director",
         null
        ],
        [
         "João Colas",
         "LA CHICANERA",
         1909,
         "BR",
         "actor",
         "director",
         null
        ],
        [
         "Emílio Silva",
         "O RIO POR UM ÓCULO",
         1910,
         "BR",
         "art_department",
         "actor",
         "cinematographer"
        ]
       ],
       "datasetInfos": [],
       "dbfsResultPath": null,
       "isJsonSchema": true,
       "metadata": {},
       "overflow": false,
       "plotOptions": {
        "customPlotOptions": {},
        "displayType": "table",
        "pivotAggregation": null,
        "pivotColumns": null,
        "xColumns": null,
        "yColumns": null
       },
       "removedWidgets": [],
       "schema": [
        {
         "metadata": "{\"__CHAR_VARCHAR_TYPE_STRING\":\"varchar(200)\"}",
         "name": "NOME_ARTISTICO",
         "type": "\"string\""
        },
        {
         "metadata": "{\"__CHAR_VARCHAR_TYPE_STRING\":\"varchar(1000)\"}",
         "name": "TITULO_ORIGINAL",
         "type": "\"string\""
        },
        {
         "metadata": "{}",
         "name": "ANO_LANCAMENTO",
         "type": "\"integer\""
        },
        {
         "metadata": "{\"__CHAR_VARCHAR_TYPE_STRING\":\"char(2)\"}",
         "name": "REGIAO",
         "type": "\"string\""
        },
        {
         "metadata": "{\"__CHAR_VARCHAR_TYPE_STRING\":\"varchar(50)\"}",
         "name": "PROFISSAO1",
         "type": "\"string\""
        },
        {
         "metadata": "{\"__CHAR_VARCHAR_TYPE_STRING\":\"varchar(50)\"}",
         "name": "PROFISSAO2",
         "type": "\"string\""
        },
        {
         "metadata": "{\"__CHAR_VARCHAR_TYPE_STRING\":\"varchar(50)\"}",
         "name": "PROFISSAO3",
         "type": "\"string\""
        }
       ],
       "type": "table"
      }
     },
     "output_type": "display_data"
    }
   ],
   "source": [
    "%sql\n",
    "SELECT \n",
    "  ATOR_TITULO.NOME_ARTISTICO,\n",
    "  FILME.TITULO_ORIGINAL,\n",
    "  FILME.ANO_LANCAMENTO,\n",
    "  FILME.REGIAO,\n",
    "  ATOR_TITULO.PROFISSAO1,\n",
    "  ATOR_TITULO.PROFISSAO2,\n",
    "  ATOR_TITULO.PROFISSAO3\n",
    "FROM \n",
    "  IMDB_DB_GOLD.TB_ATOR_TITULO AS ATOR_TITULO,\n",
    "  IMDB_DB_GOLD.TB_FILME_LANCAMENTO_BRASIL AS FILME\n",
    "WHERE \n",
    "  ATOR_TITULO.DIRETOR_TITULO = 'S'\n",
    "  AND (ATOR_TITULO.PROFISSAO1 LIKE 'act%' OR ATOR_TITULO.PROFISSAO2 LIKE 'act%' OR ATOR_TITULO.PROFISSAO3 LIKE 'act%')\n",
    "  AND (\n",
    "    FILME.CHAVE_TITULO = ATOR_TITULO.TCONST1 \n",
    "    OR FILME.CHAVE_TITULO = ATOR_TITULO.TCONST2 \n",
    "    OR FILME.CHAVE_TITULO = ATOR_TITULO.TCONST3 \n",
    "    OR FILME.CHAVE_TITULO = ATOR_TITULO.TCONST4\n",
    "  )  \n",
    "GROUP BY \n",
    "  ATOR_TITULO.NOME_ARTISTICO,\n",
    "  FILME.TITULO_ORIGINAL,\n",
    "  FILME.ANO_LANCAMENTO,\n",
    "  FILME.REGIAO,\n",
    "  ATOR_TITULO.PROFISSAO1,\n",
    "  ATOR_TITULO.PROFISSAO2,\n",
    "  ATOR_TITULO.PROFISSAO3\n",
    "ORDER BY FILME.ANO_LANCAMENTO, ATOR_TITULO.NOME_ARTISTICO, FILME.TITULO_ORIGINAL\n",
    "LIMIT 20\n",
    ";\n"
   ]
  },
  {
   "cell_type": "markdown",
   "metadata": {
    "application/vnd.databricks.v1+cell": {
     "cellMetadata": {
      "byteLimit": 2048000,
      "rowLimit": 10000
     },
     "inputWidgets": {},
     "nuid": "4b8b4e57-92c3-40f8-bbca-e07d31009ce4",
     "showTitle": false,
     "tableResultSettingsMap": {},
     "title": ""
    }
   },
   "source": [
    "##Ranking dos diretores com mais de 7 títulos lançados no Brasil.\n",
    "- Diretores que teve participação na direção em mais de 7 de títulos lançados no Brasil."
   ]
  },
  {
   "cell_type": "code",
   "execution_count": 0,
   "metadata": {
    "application/vnd.databricks.v1+cell": {
     "cellMetadata": {
      "byteLimit": 2048000,
      "implicitDf": true,
      "rowLimit": 10000
     },
     "inputWidgets": {},
     "nuid": "1820b5fc-c2b9-4112-82f9-e0865a2d766e",
     "showTitle": false,
     "tableResultSettingsMap": {},
     "title": ""
    }
   },
   "outputs": [
    {
     "output_type": "display_data",
     "data": {
      "text/html": [
       "<style scoped>\n",
       "  .table-result-container {\n",
       "    max-height: 300px;\n",
       "    overflow: auto;\n",
       "  }\n",
       "  table, th, td {\n",
       "    border: 1px solid black;\n",
       "    border-collapse: collapse;\n",
       "  }\n",
       "  th, td {\n",
       "    padding: 5px;\n",
       "  }\n",
       "  th {\n",
       "    text-align: left;\n",
       "  }\n",
       "</style><div class='table-result-container'><table class='table-result'><thead style='background-color: white'><tr><th>NOME_ARTISTICO</th><th>TOTAL</th></tr></thead><tbody><tr><td>Pedro Murad</td><td>9</td></tr><tr><td>John Waters</td><td>8</td></tr><tr><td>Luciano Mello</td><td>8</td></tr><tr><td>Bruno de Oliveira</td><td>8</td></tr><tr><td>Bruno Costa</td><td>8</td></tr><tr><td>Marcelo Leme</td><td>8</td></tr><tr><td>Leonardo Martinelli</td><td>8</td></tr><tr><td>Anna Azevedo</td><td>7</td></tr><tr><td>George Miller</td><td>7</td></tr><tr><td>Joaquim Haickel</td><td>7</td></tr><tr><td>Maria Ribeiro</td><td>7</td></tr><tr><td>Paulo Miranda</td><td>7</td></tr><tr><td>Robert Gordon</td><td>7</td></tr><tr><td>Christian Caselli</td><td>7</td></tr></tbody></table></div>"
      ]
     },
     "metadata": {
      "application/vnd.databricks.v1+output": {
       "addedWidgets": {},
       "aggData": [],
       "aggError": "",
       "aggOverflow": false,
       "aggSchema": [],
       "aggSeriesLimitReached": false,
       "aggType": "",
       "arguments": {},
       "columnCustomDisplayInfos": {},
       "data": [
        [
         "Pedro Murad",
         9
        ],
        [
         "John Waters",
         8
        ],
        [
         "Luciano Mello",
         8
        ],
        [
         "Bruno de Oliveira",
         8
        ],
        [
         "Bruno Costa",
         8
        ],
        [
         "Marcelo Leme",
         8
        ],
        [
         "Leonardo Martinelli",
         8
        ],
        [
         "Anna Azevedo",
         7
        ],
        [
         "George Miller",
         7
        ],
        [
         "Joaquim Haickel",
         7
        ],
        [
         "Maria Ribeiro",
         7
        ],
        [
         "Paulo Miranda",
         7
        ],
        [
         "Robert Gordon",
         7
        ],
        [
         "Christian Caselli",
         7
        ]
       ],
       "datasetInfos": [],
       "dbfsResultPath": null,
       "isJsonSchema": true,
       "metadata": {},
       "overflow": false,
       "plotOptions": {
        "customPlotOptions": {},
        "displayType": "table",
        "pivotAggregation": null,
        "pivotColumns": null,
        "xColumns": null,
        "yColumns": null
       },
       "removedWidgets": [],
       "schema": [
        {
         "metadata": "{\"__CHAR_VARCHAR_TYPE_STRING\":\"varchar(200)\"}",
         "name": "NOME_ARTISTICO",
         "type": "\"string\""
        },
        {
         "metadata": "{}",
         "name": "TOTAL",
         "type": "\"long\""
        }
       ],
       "type": "table"
      }
     },
     "output_type": "display_data"
    }
   ],
   "source": [
    "%sql\n",
    "-- PARA NAO DEIXAR O NOTEBOOK GRANDE NA LEITURA NO GIT EXIBINDO OS 20 PRIMEIROS RESULTADOS\n",
    "SELECT\n",
    "  NOME_ARTISTICO,\n",
    "  count(CHAVE_TITULO) TOTAL\n",
    "FROM \n",
    "(\n",
    "  SELECT\n",
    "    ATOR_TITULO.NOME_ARTISTICO,\n",
    "    ATOR_TITULO.CHAVE_TITULO\n",
    "  FROM \n",
    "    IMDB_DB_GOLD.TB_ATOR_TITULO_BRASIL AS ATOR_TITULO,\n",
    "    IMDB_DB_GOLD.TB_FILME_LANCAMENTO_BRASIL AS FILME\n",
    "  WHERE \n",
    "    ATOR_TITULO.DIRETOR_TITULO = 'S'\n",
    "    AND TRIM(FILME.CHAVE_TITULO) = TRIM(ATOR_TITULO.CHAVE_TITULO)\n",
    "  GROUP BY ATOR_TITULO.NOME_ARTISTICO,\n",
    "    ATOR_TITULO.CHAVE_TITULO\n",
    ") AS DIRETOR_TITULOS\n",
    "GROUP BY NOME_ARTISTICO\n",
    "HAVING count(CHAVE_TITULO) >= 7\n",
    "ORDER BY TOTAL DESC\n",
    ";"
   ]
  }
 ],
 "metadata": {
  "application/vnd.databricks.v1+notebook": {
   "computePreferences": null,
   "dashboards": [],
   "environmentMetadata": {
    "base_environment": "",
    "environment_version": "1"
   },
   "inputWidgetPreferences": null,
   "language": "python",
   "notebookMetadata": {
    "mostRecentlyExecutedCommandWithImplicitDF": {
     "commandId": 1563888369254194,
     "dataframes": [
      "_sqldf"
     ]
    },
    "pythonIndentUnit": 4
   },
   "notebookName": "Thomas-Notebook-PUC-RIO - Relatorios",
   "widgets": {}
  }
 },
 "nbformat": 4,
 "nbformat_minor": 0
}