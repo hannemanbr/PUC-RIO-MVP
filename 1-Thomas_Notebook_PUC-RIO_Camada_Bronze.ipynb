{
 "cells": [
  {
   "cell_type": "markdown",
   "metadata": {
    "application/vnd.databricks.v1+cell": {
     "cellMetadata": {
      "byteLimit": 2048000,
      "rowLimit": 10000
     },
     "inputWidgets": {},
     "nuid": "11084755-ae4a-49c9-af8d-dd8e79809645",
     "showTitle": false,
     "tableResultSettingsMap": {},
     "title": ""
    }
   },
   "source": [
    "#MVP Engenharia de Dados - 2025\n",
    "Thomas A. S. Abrantes\n"
   ]
  },
  {
   "cell_type": "markdown",
   "metadata": {
    "application/vnd.databricks.v1+cell": {
     "cellMetadata": {
      "byteLimit": 2048000,
      "rowLimit": 10000
     },
     "inputWidgets": {},
     "nuid": "a7d936ee-34a9-4882-a253-9954659e083c",
     "showTitle": false,
     "tableResultSettingsMap": {},
     "title": ""
    }
   },
   "source": [
    "#Dicionário de dados\n",
    "\n",
    "Fonte: A base de dados utilizada foi extraída do IMDB (https://datasets.imdbws.com/)\n",
    "\n",
    "Esta base consiste nos arquivos abaixo no formato tsv e de acordo com a documentação disponibilizada pelo IMDBWS, A primeira linha em cada arquivo contém cabeçalhos que descrevem o que há em cada coluna. Um '\\N' indica que um campo específico está faltando ou é nulo para aquele um título/nome.\n",
    "\n",
    "###title.akas.tsv\n",
    "\n",
    "> **Observação**: Devido ao seu tamanho para subir no DFS o arquivo foi particionado em 4 partes, e unificado apos a carga dos dados no Notebook no Databricks.\n",
    "\n",
    "Arquivo contendo os títulos AKAs, que são Títulos Alternativos. \n",
    "São os nomes diferentes que um filme pode ter, em diferentes idiomas e países.\n",
    "\n",
    "O arquivo consiste nas colunas:\n",
    "\n",
    "- titleId (string): Identificador no formato alfanumérico exclusivo do título.\n",
    "- ordering (inteiro) – É um número para identificar exclusivamente as linhas para um determinado titleId. Neste arquivo há mais de uma linha com mesmo titleId.\n",
    "- title (string) – Nome do título.\n",
    "- region (string) - Descreve a região, com dois caracteres. \n",
    "> Exemplo: US para United States, JP para Japão na versão do título.\n",
    "- language (string) - o idioma do título.\n",
    "- types (string) -Conjunto enumerado em forma de string de atributos para este título alternativo. \n",
    "> - Na documentação é indicado como matriz mas na importação esses valores vão como uma string contendo todos os valores da coluna e caso seja usado será tratado como uma lista. De acordo com a documentação pode conter os valores abaixo mas destaca que pode haver novos valores podem ser adicionados no futuro:\n",
    "> - alternative\n",
    "> - dvd\n",
    "> - festival\n",
    "> - tv\n",
    "> - video\n",
    "> - working\n",
    "> - original\n",
    "> - imdbDisplay\n",
    "> - attributes (string) - Termos adicionais para descrever este título alternativo.\n",
    "- isOriginalTitle (inteiro) – O Valor 0 (false) indica que o título não original e 1 (true) que o título é original.\n",
    "\n",
    ">  Na documentação é indicado como matriz mas na importação esses valores vão como uma string contendo todos os valores da coluna e caso seja usado será tratado como uma lista.\n",
    "\n",
    "###title.basics.tsv\n",
    "Arquivo contendo as informações básicas dos títulos.\n",
    "O arquivo consiste nas colunas:\n",
    "\n",
    "- tconst (string) - Identificador no formato alfanumérico exclusivo do título.\n",
    "- titleType (string) – Informa o tipo/formato do título.\n",
    "> Exemplo: filme, curta, série de TV, episódio de TV, vídeo, etc. \n",
    "> \n",
    "No arquivo esses valores estão registrados em inglês como movie, short, tvseries. tvepisode, video.\n",
    "\n",
    "- primaryTitle (string) – Nome do título popularmente conhecido ou usado pelos cineastas em materiais promocionais no seu  lançamento.\n",
    "- originalTitle (string) - Titulo original, no idioma original.\n",
    "- isAdult (boolean) - O valor 0(false) informa que o título não é somente para o público adulto e 1(true) informa que título é destinado ao público adulto.\n",
    "- startYear (inteiro com 4 caracteres) - Ano de lançamento do título. Caso seja uma série de TV o valor é o ano da primeira temporada da ´serie.\n",
    "- endYear (inteiro com 4 caracteres) - Ano de término para série de TV. Para outros títulos esse valor vem preenchido com “\\N”.\n",
    "- runtimeMinutes - Tempo, em minutos, de execução do título principal.\n",
    "- genres (matriz de strings) – Pode conter até três gêneros associados ao título.\n",
    "> Esse campos quando houver mais de uma gênero, sera exibido separado por uma vírgula.\n",
    "> Exemplo: \"Documentary,Short\".\n",
    "\n",
    "###title.crew.tsv.\n",
    "Arquivo que contém informações da equipe de filmagem de um filme ou programa de TV.\n",
    "O arquivo consiste nas colunas:\n",
    "\n",
    "- tconst  (string) - Identificador no formato alfanumérico exclusivo do título.\n",
    "- directors  (matriz de nconsts no formato string) - Identificador no formato alfanumérico identificando o(s) diretore(s) do título.\n",
    "- writers  (matriz de nconsts no formato string) - Identificador no formato alfanumérico identificando o(s) escritore(s) do título.\n",
    "\n",
    "###title.episode.tsv\n",
    "Arquivo que contém informações de um episódio de uma série de um programa de TV.\n",
    "O arquivo consiste nas colunas:\n",
    "\n",
    "- tconst (string) - identificador alfanumérico do episódio.\n",
    "- parentTconst (string) - identificador alfanumérico da série de TV de Origem (pai).\n",
    "- seasonNumber (inteiro) – Número da temporada do episódio.\n",
    "- episodeNumber (inteiro) – Número do episódio com valor tconst em uma série de TV.\n",
    "\n",
    "###title.principals.tsv\n",
    "\n",
    "> **Observação**: Devido ao seu tamanho para subir no DFS o arquivo foi particionado em 6 partes, e unificado apos a carga dos dados no Notebook no Databricks.\n",
    "> \n",
    "Arquivo que contém informações do título original de uma obra, na sua língua original.\n",
    "O arquivo consiste nas colunas:\n",
    "\n",
    "- tconst (string) - Identificador alfanumérico exclusivo do título.\n",
    "- ordering (inteiro) – É um número para identificar exclusivamente as linhas para um determinado titleId.\n",
    "- nconst (string) - Identificador alfanumérico exclusivo do nome/pessoa.\n",
    "- category (string) - Categoria do trabalho em que a pessoa executou na produção.\n",
    "- job (string) - Cargo específico, se aplicável, caso contrário '\\N'.\n",
    "- characters (string) - Nome do personagem interpretado, se aplicável, caso contrário '\\N'.\n",
    "\n",
    "###title.ratings.tsv\n",
    "Arquivo que contém informações sobre as classificações e o número de votos para cada título no site.\n",
    "O arquivo consiste nas colunas:\n",
    "\n",
    "- tconst (string) - Identificador alfanumérico exclusivo do título.\n",
    "- averageRating – Valor da média ponderada de todas as avaliações individuais dos usuários.\n",
    "- numVotes (inteiro) - Número de votos que o título recebeu.\n",
    "\n",
    "###name.basics.tsv\n",
    "Arquivo que contém informações básicas de uma pessoa.\n",
    "O arquivo consiste nas colunas:\n",
    "\n",
    "- nconst (string) - identificador alfanumérico exclusivo do nome/pessoa.\n",
    "- primaryName (string) – nome pelo qual a pessoa é mais frequentemente creditada.\n",
    "- birthYear (inteiro) – Ano de nascimento no formato AAAA (4 dígitos).\n",
    "- deathYear (inteiro) – Ano de falecimento no formato AAAA (4 dígitos). se aplicável, caso contrário '\\N'.\n",
    "- primaryProfession (matriz de strings) – Valor das três principais profissões da pessoa.\n",
    "- knownForTitles (matriz de tconsts) – Valores dos títulos pelos quais a pessoa é conhecida.\n"
   ]
  },
  {
   "cell_type": "markdown",
   "metadata": {
    "application/vnd.databricks.v1+cell": {
     "cellMetadata": {
      "byteLimit": 2048000,
      "rowLimit": 10000
     },
     "inputWidgets": {},
     "nuid": "42c43a18-3c42-4d68-9300-d609e675bef6",
     "showTitle": false,
     "tableResultSettingsMap": {},
     "title": ""
    }
   },
   "source": [
    "### Setup para rodar o notebook com os dados\n",
    "- Imports das bibliotecas para consumo dos dados.\n",
    "- Link para carga de dados do IMDB."
   ]
  },
  {
   "cell_type": "code",
   "execution_count": 0,
   "metadata": {
    "application/vnd.databricks.v1+cell": {
     "cellMetadata": {
      "byteLimit": 2048000,
      "rowLimit": 10000
     },
     "inputWidgets": {},
     "nuid": "801e0a03-ba20-45f7-8eb5-a7abdb4be23b",
     "showTitle": false,
     "tableResultSettingsMap": {},
     "title": ""
    }
   },
   "outputs": [],
   "source": [
    "#bibioteca para uso do comando com Pandas\n",
    "import pandas as pd\n",
    "\n",
    "#biblioteca para carga de dados e request dos dados\n",
    "import io\n",
    "import requests\n",
    "\n",
    "#link para consulta direto no site do IMDB\n",
    "imdb_url = \"https://datasets.imdbws.com/\""
   ]
  },
  {
   "cell_type": "markdown",
   "metadata": {
    "application/vnd.databricks.v1+cell": {
     "cellMetadata": {
      "byteLimit": 2048000,
      "rowLimit": 10000
     },
     "inputWidgets": {},
     "nuid": "919acd8d-578d-4121-9f66-fd247e7e6ffa",
     "showTitle": false,
     "tableResultSettingsMap": {},
     "title": ""
    }
   },
   "source": [
    "##Importação dos dados do IMDB\n",
    "Utilizando a base de acesso publico no endereço https://datasets.imdbws.com/ que disponibiliza os arquivos no formato TSV compactado no padrão GZIP:\n",
    "\n",
    "- name.basics.tsv.gz\n",
    "- title.akas.tsv.gz\n",
    "- title.basics.tsv.gz\n",
    "- title.crew.tsv.gz\n",
    "- title.episode.tsv.gz\n",
    "- title.principals.tsv.gz\n",
    "- title.ratings.tsv.gz\n"
   ]
  },
  {
   "cell_type": "markdown",
   "metadata": {
    "application/vnd.databricks.v1+cell": {
     "cellMetadata": {
      "byteLimit": 2048000,
      "rowLimit": 10000
     },
     "inputWidgets": {},
     "nuid": "a672a573-e378-456a-b14e-ea279686c4fa",
     "showTitle": false,
     "tableResultSettingsMap": {},
     "title": ""
    }
   },
   "source": [
    "###Consultar os arquivos carregados no DBFS"
   ]
  },
  {
   "cell_type": "code",
   "execution_count": 0,
   "metadata": {
    "application/vnd.databricks.v1+cell": {
     "cellMetadata": {
      "byteLimit": 2048000,
      "rowLimit": 10000
     },
     "inputWidgets": {},
     "nuid": "77fd866a-d856-4b22-92c7-0b3453fe1e80",
     "showTitle": false,
     "tableResultSettingsMap": {},
     "title": ""
    }
   },
   "outputs": [
    {
     "output_type": "display_data",
     "data": {
      "text/html": [
       "<style scoped>\n",
       "  .table-result-container {\n",
       "    max-height: 300px;\n",
       "    overflow: auto;\n",
       "  }\n",
       "  table, th, td {\n",
       "    border: 1px solid black;\n",
       "    border-collapse: collapse;\n",
       "  }\n",
       "  th, td {\n",
       "    padding: 5px;\n",
       "  }\n",
       "  th {\n",
       "    text-align: left;\n",
       "  }\n",
       "</style><div class='table-result-container'><table class='table-result'><thead style='background-color: white'><tr><th>path</th><th>name</th><th>size</th><th>modificationTime</th></tr></thead><tbody><tr><td>dbfs:/FileStore/imdb/IMDB_DIAGRAMA_BRONZE_SILVER.png</td><td>IMDB_DIAGRAMA_BRONZE_SILVER.png</td><td>79073</td><td>1744063171000</td></tr><tr><td>dbfs:/FileStore/imdb/name_basics.tsv</td><td>name_basics.tsv</td><td>878052986</td><td>1742904843000</td></tr><tr><td>dbfs:/FileStore/imdb/title_akas_1.tsv</td><td>title_akas_1.tsv</td><td>616099140</td><td>1742910239000</td></tr><tr><td>dbfs:/FileStore/imdb/title_akas_2.tsv</td><td>title_akas_2.tsv</td><td>618917721</td><td>1742910236000</td></tr><tr><td>dbfs:/FileStore/imdb/title_akas_3.tsv</td><td>title_akas_3.tsv</td><td>632519935</td><td>1742910526000</td></tr><tr><td>dbfs:/FileStore/imdb/title_akas_4.tsv</td><td>title_akas_4.tsv</td><td>775056138</td><td>1742910610000</td></tr><tr><td>dbfs:/FileStore/imdb/title_basics.tsv</td><td>title_basics.tsv</td><td>996687208</td><td>1742905106000</td></tr><tr><td>dbfs:/FileStore/imdb/title_crew.tsv</td><td>title_crew.tsv</td><td>380029823</td><td>1742904985000</td></tr><tr><td>dbfs:/FileStore/imdb/title_episode.tsv</td><td>title_episode.tsv</td><td>232652143</td><td>1742905039000</td></tr><tr><td>dbfs:/FileStore/imdb/title_principals_1.tsv</td><td>title_principals_1.tsv</td><td>914305463</td><td>1742908769000</td></tr><tr><td>dbfs:/FileStore/imdb/title_principals_2.tsv</td><td>title_principals_2.tsv</td><td>658047612</td><td>1742908703000</td></tr><tr><td>dbfs:/FileStore/imdb/title_principals_3.tsv</td><td>title_principals_3.tsv</td><td>694772785</td><td>1742908877000</td></tr><tr><td>dbfs:/FileStore/imdb/title_principals_4.tsv</td><td>title_principals_4.tsv</td><td>375581782</td><td>1742908864000</td></tr><tr><td>dbfs:/FileStore/imdb/title_principals_5.tsv</td><td>title_principals_5.tsv</td><td>952101631</td><td>1742909109000</td></tr><tr><td>dbfs:/FileStore/imdb/title_principals_6.tsv</td><td>title_principals_6.tsv</td><td>558264654</td><td>1742909028000</td></tr><tr><td>dbfs:/FileStore/imdb/title_ratings.tsv</td><td>title_ratings.tsv</td><td>26949937</td><td>1742905121000</td></tr></tbody></table></div>"
      ]
     },
     "metadata": {
      "application/vnd.databricks.v1+output": {
       "addedWidgets": {},
       "aggData": [],
       "aggError": "",
       "aggOverflow": false,
       "aggSchema": [],
       "aggSeriesLimitReached": false,
       "aggType": "",
       "arguments": {},
       "columnCustomDisplayInfos": {},
       "data": [
        [
         "dbfs:/FileStore/imdb/IMDB_DIAGRAMA_BRONZE_SILVER.png",
         "IMDB_DIAGRAMA_BRONZE_SILVER.png",
         79073,
         1744063171000
        ],
        [
         "dbfs:/FileStore/imdb/name_basics.tsv",
         "name_basics.tsv",
         878052986,
         1742904843000
        ],
        [
         "dbfs:/FileStore/imdb/title_akas_1.tsv",
         "title_akas_1.tsv",
         616099140,
         1742910239000
        ],
        [
         "dbfs:/FileStore/imdb/title_akas_2.tsv",
         "title_akas_2.tsv",
         618917721,
         1742910236000
        ],
        [
         "dbfs:/FileStore/imdb/title_akas_3.tsv",
         "title_akas_3.tsv",
         632519935,
         1742910526000
        ],
        [
         "dbfs:/FileStore/imdb/title_akas_4.tsv",
         "title_akas_4.tsv",
         775056138,
         1742910610000
        ],
        [
         "dbfs:/FileStore/imdb/title_basics.tsv",
         "title_basics.tsv",
         996687208,
         1742905106000
        ],
        [
         "dbfs:/FileStore/imdb/title_crew.tsv",
         "title_crew.tsv",
         380029823,
         1742904985000
        ],
        [
         "dbfs:/FileStore/imdb/title_episode.tsv",
         "title_episode.tsv",
         232652143,
         1742905039000
        ],
        [
         "dbfs:/FileStore/imdb/title_principals_1.tsv",
         "title_principals_1.tsv",
         914305463,
         1742908769000
        ],
        [
         "dbfs:/FileStore/imdb/title_principals_2.tsv",
         "title_principals_2.tsv",
         658047612,
         1742908703000
        ],
        [
         "dbfs:/FileStore/imdb/title_principals_3.tsv",
         "title_principals_3.tsv",
         694772785,
         1742908877000
        ],
        [
         "dbfs:/FileStore/imdb/title_principals_4.tsv",
         "title_principals_4.tsv",
         375581782,
         1742908864000
        ],
        [
         "dbfs:/FileStore/imdb/title_principals_5.tsv",
         "title_principals_5.tsv",
         952101631,
         1742909109000
        ],
        [
         "dbfs:/FileStore/imdb/title_principals_6.tsv",
         "title_principals_6.tsv",
         558264654,
         1742909028000
        ],
        [
         "dbfs:/FileStore/imdb/title_ratings.tsv",
         "title_ratings.tsv",
         26949937,
         1742905121000
        ]
       ],
       "datasetInfos": [],
       "dbfsResultPath": null,
       "isJsonSchema": true,
       "metadata": {},
       "overflow": false,
       "plotOptions": {
        "customPlotOptions": {},
        "displayType": "table",
        "pivotAggregation": null,
        "pivotColumns": null,
        "xColumns": null,
        "yColumns": null
       },
       "removedWidgets": [],
       "schema": [
        {
         "metadata": "{}",
         "name": "path",
         "type": "\"string\""
        },
        {
         "metadata": "{}",
         "name": "name",
         "type": "\"string\""
        },
        {
         "metadata": "{}",
         "name": "size",
         "type": "\"long\""
        },
        {
         "metadata": "{}",
         "name": "modificationTime",
         "type": "\"long\""
        }
       ],
       "type": "table"
      }
     },
     "output_type": "display_data"
    }
   ],
   "source": [
    "display(dbutils.fs.ls('dbfs:/FileStore/imdb/'))"
   ]
  },
  {
   "cell_type": "markdown",
   "metadata": {
    "application/vnd.databricks.v1+cell": {
     "cellMetadata": {
      "byteLimit": 2048000,
      "rowLimit": 10000
     },
     "inputWidgets": {},
     "nuid": "e2d50cf4-97d0-4b49-90e8-9bf45642ea7d",
     "showTitle": false,
     "tableResultSettingsMap": {},
     "title": ""
    }
   },
   "source": [
    "#Carga dos Dados"
   ]
  },
  {
   "cell_type": "markdown",
   "metadata": {
    "application/vnd.databricks.v1+cell": {
     "cellMetadata": {
      "byteLimit": 2048000,
      "rowLimit": 10000
     },
     "inputWidgets": {},
     "nuid": "3a309420-8549-4475-b756-4b3e6a25fe05",
     "showTitle": false,
     "tableResultSettingsMap": {},
     "title": ""
    }
   },
   "source": [
    "###Arquivo \"name.basics.tsv.gz\""
   ]
  },
  {
   "cell_type": "code",
   "execution_count": 0,
   "metadata": {
    "application/vnd.databricks.v1+cell": {
     "cellMetadata": {
      "byteLimit": 2048000,
      "rowLimit": 10000
     },
     "inputWidgets": {},
     "nuid": "56e3d5b9-794d-4329-b0e3-492b3c59af07",
     "showTitle": false,
     "tableResultSettingsMap": {},
     "title": ""
    }
   },
   "outputs": [],
   "source": [
    "###-------------------------------------------------------------\n",
    "### -- carga a partir do DBFS\n",
    "###-------------------------------------------------------------\n",
    "df_name_basics = spark.read.csv('dbfs:/FileStore/imdb/name_basics.tsv', sep='\\t', header=True)\n"
   ]
  },
  {
   "cell_type": "markdown",
   "metadata": {
    "application/vnd.databricks.v1+cell": {
     "cellMetadata": {
      "byteLimit": 2048000,
      "rowLimit": 10000
     },
     "inputWidgets": {},
     "nuid": "b9bd15f6-2c97-46f4-8540-786066489cf3",
     "showTitle": false,
     "tableResultSettingsMap": {},
     "title": ""
    }
   },
   "source": [
    "###Arquivo \"title.basics.tsv.gz\"."
   ]
  },
  {
   "cell_type": "code",
   "execution_count": 0,
   "metadata": {
    "application/vnd.databricks.v1+cell": {
     "cellMetadata": {
      "byteLimit": 2048000,
      "rowLimit": 10000
     },
     "inputWidgets": {},
     "nuid": "ee797841-c89f-46ed-a450-e95b186b71d6",
     "showTitle": false,
     "tableResultSettingsMap": {},
     "title": ""
    }
   },
   "outputs": [],
   "source": [
    "###-------------------------------------------------------------\n",
    "### -- carga a partir do DBFS\n",
    "###-------------------------------------------------------------\n",
    "df_title_basics = spark.read.csv('dbfs:/FileStore/imdb/title_basics.tsv', sep='\\t', header=True)\n"
   ]
  },
  {
   "cell_type": "markdown",
   "metadata": {
    "application/vnd.databricks.v1+cell": {
     "cellMetadata": {
      "byteLimit": 2048000,
      "rowLimit": 10000
     },
     "inputWidgets": {},
     "nuid": "47ed9f04-d328-4555-a309-498d2a5d956f",
     "showTitle": false,
     "tableResultSettingsMap": {},
     "title": ""
    }
   },
   "source": [
    "###Arquivo \"title.crew.tsv.gz\"."
   ]
  },
  {
   "cell_type": "code",
   "execution_count": 0,
   "metadata": {
    "application/vnd.databricks.v1+cell": {
     "cellMetadata": {
      "byteLimit": 2048000,
      "rowLimit": 10000
     },
     "inputWidgets": {},
     "nuid": "d7062dc4-efe7-47d6-96e1-92b5a66006e6",
     "showTitle": false,
     "tableResultSettingsMap": {},
     "title": ""
    }
   },
   "outputs": [],
   "source": [
    "###-------------------------------------------------------------\n",
    "### -- carga a partir do DBFS\n",
    "###-------------------------------------------------------------\n",
    "df_title_crew = spark.read.csv('dbfs:/FileStore/imdb/title_crew.tsv', sep='\\t', header=True)\n"
   ]
  },
  {
   "cell_type": "markdown",
   "metadata": {
    "application/vnd.databricks.v1+cell": {
     "cellMetadata": {
      "byteLimit": 2048000,
      "rowLimit": 10000
     },
     "inputWidgets": {},
     "nuid": "b3741940-47ea-47cb-a3c5-132658037b8f",
     "showTitle": false,
     "tableResultSettingsMap": {},
     "title": ""
    }
   },
   "source": [
    "###Arquivo \"title.episode.tsv.gz\"."
   ]
  },
  {
   "cell_type": "code",
   "execution_count": 0,
   "metadata": {
    "application/vnd.databricks.v1+cell": {
     "cellMetadata": {
      "byteLimit": 2048000,
      "rowLimit": 10000
     },
     "inputWidgets": {},
     "nuid": "80518fac-9b48-492f-ac13-48c4b8bd90ed",
     "showTitle": false,
     "tableResultSettingsMap": {},
     "title": ""
    }
   },
   "outputs": [],
   "source": [
    "###-------------------------------------------------------------\n",
    "### -- carga a partir do DBFS\n",
    "###-------------------------------------------------------------\n",
    "df_title_episode = spark.read.csv('dbfs:/FileStore/imdb/title_episode.tsv', sep='\\t', header=True)"
   ]
  },
  {
   "cell_type": "markdown",
   "metadata": {
    "application/vnd.databricks.v1+cell": {
     "cellMetadata": {
      "byteLimit": 2048000,
      "rowLimit": 10000
     },
     "inputWidgets": {},
     "nuid": "c441fb2e-e022-458a-a8ec-d20977548c57",
     "showTitle": false,
     "tableResultSettingsMap": {},
     "title": ""
    }
   },
   "source": [
    "###Arquivo \"title.ratings.tsv.gz\"."
   ]
  },
  {
   "cell_type": "code",
   "execution_count": 0,
   "metadata": {
    "application/vnd.databricks.v1+cell": {
     "cellMetadata": {
      "byteLimit": 2048000,
      "rowLimit": 10000
     },
     "inputWidgets": {},
     "nuid": "9d657f24-976c-48f1-8b2c-9f49feeb4fa2",
     "showTitle": false,
     "tableResultSettingsMap": {},
     "title": ""
    }
   },
   "outputs": [],
   "source": [
    "###-------------------------------------------------------------\n",
    "### -- carga a partir do DBFS\n",
    "###-------------------------------------------------------------\n",
    "df_title_rattings = spark.read.csv('dbfs:/FileStore/imdb/title_ratings.tsv', sep='\\t', header=True)\n"
   ]
  },
  {
   "cell_type": "markdown",
   "metadata": {
    "application/vnd.databricks.v1+cell": {
     "cellMetadata": {
      "byteLimit": 2048000,
      "rowLimit": 10000
     },
     "inputWidgets": {},
     "nuid": "6824a53d-4030-4738-a40c-c993a80aa8b7",
     "showTitle": false,
     "tableResultSettingsMap": {},
     "title": ""
    }
   },
   "source": [
    "###Arquivo \"title.akas.tsv.gz\"."
   ]
  },
  {
   "cell_type": "code",
   "execution_count": 0,
   "metadata": {
    "application/vnd.databricks.v1+cell": {
     "cellMetadata": {
      "byteLimit": 2048000,
      "rowLimit": 10000
     },
     "inputWidgets": {},
     "nuid": "ecc7f4d1-e60e-49a3-b977-aae397d0e6a8",
     "showTitle": false,
     "tableResultSettingsMap": {},
     "title": ""
    }
   },
   "outputs": [],
   "source": [
    "###-------------------------------------------------------------\n",
    "### -- carga a partir do DBFS\n",
    "### OBSERVAÇÃO:  O DATABRICKS nao PERMITE carregar mais de 1GB \n",
    "### dividi o arquivo \"title_akas.tsv\" em partes de ate 1gb para carregar e posteriormente fazer um UNION\n",
    "###-------------------------------------------------------------\n",
    "df_akas1 = spark.read.csv('dbfs:/FileStore/imdb/title_akas_1.tsv', sep='\\t', header=True)\n",
    "df_akas2 = spark.read.csv('dbfs:/FileStore/imdb/title_akas_2.tsv', sep='\\t', header=True)\n",
    "df_akas3 = spark.read.csv('dbfs:/FileStore/imdb/title_akas_3.tsv', sep='\\t', header=True)\n",
    "df_akas4 = spark.read.csv('dbfs:/FileStore/imdb/title_akas_4.tsv', sep='\\t', header=True)"
   ]
  },
  {
   "cell_type": "markdown",
   "metadata": {
    "application/vnd.databricks.v1+cell": {
     "cellMetadata": {
      "byteLimit": 2048000,
      "rowLimit": 10000
     },
     "inputWidgets": {},
     "nuid": "003ae786-975a-4540-a655-1dcb00e5fa0d",
     "showTitle": false,
     "tableResultSettingsMap": {},
     "title": ""
    }
   },
   "source": [
    "###Arquivos com origem do \"title_principals.tsv.gz\"\n",
    "\n",
    "- title_principals_1.tsv\n",
    "- title_principals_2.tsv\n",
    "- title_principals_3.tsv\n",
    "- title_principals_4.tsv"
   ]
  },
  {
   "cell_type": "code",
   "execution_count": 0,
   "metadata": {
    "application/vnd.databricks.v1+cell": {
     "cellMetadata": {
      "byteLimit": 2048000,
      "rowLimit": 10000
     },
     "inputWidgets": {},
     "nuid": "076e37b3-56fb-4566-9782-cbd2b9897cb3",
     "showTitle": false,
     "tableResultSettingsMap": {},
     "title": ""
    }
   },
   "outputs": [],
   "source": [
    "###-------------------------------------------------------------\n",
    "### -- carga a partir do DBFS\n",
    "###-------------------------------------------------------------\n",
    "### -- carga a partir do DBFS\n",
    "### OBSERVAÇÃO:  O DATABRICKS nao PERMITE carregar mais de 1GB \n",
    "### dividi o arquivo \"title_principals.tsv\" em partes de ate 1gb para carregar e posteriormente fazer um UNION\n",
    "###-------------------------------------------------------------\n",
    "df_title_principals1 = spark.read.csv('dbfs:/FileStore/imdb/title_principals_1.tsv', sep='\\t', header=True)\n",
    "df_title_principals2 = spark.read.csv('dbfs:/FileStore/imdb/title_principals_2.tsv', sep='\\t', header=True)\n",
    "df_title_principals3 = spark.read.csv('dbfs:/FileStore/imdb/title_principals_3.tsv', sep='\\t', header=True)\n",
    "df_title_principals4 = spark.read.csv('dbfs:/FileStore/imdb/title_principals_4.tsv', sep='\\t', header=True)\n",
    "df_title_principals5 = spark.read.csv('dbfs:/FileStore/imdb/title_principals_5.tsv', sep='\\t', header=True)\n",
    "df_title_principals6 = spark.read.csv('dbfs:/FileStore/imdb/title_principals_6.tsv', sep='\\t', header=True)"
   ]
  },
  {
   "cell_type": "markdown",
   "metadata": {
    "application/vnd.databricks.v1+cell": {
     "cellMetadata": {
      "byteLimit": 2048000,
      "rowLimit": 10000
     },
     "inputWidgets": {},
     "nuid": "0ede65fb-8152-499f-af5b-25f14a9bebc6",
     "showTitle": false,
     "tableResultSettingsMap": {},
     "title": ""
    }
   },
   "source": [
    "#Camada BRONZE"
   ]
  },
  {
   "cell_type": "markdown",
   "metadata": {
    "application/vnd.databricks.v1+cell": {
     "cellMetadata": {
      "byteLimit": 2048000,
      "rowLimit": 10000
     },
     "inputWidgets": {},
     "nuid": "c8727de1-2f66-478b-a4bc-2f11c09f2bf7",
     "showTitle": false,
     "tableResultSettingsMap": {},
     "title": ""
    }
   },
   "source": [
    "- Criando as tabelas com arquivos importados.\n",
    "- Criação do banco de dados (schema) IMDB_BRONZE\n",
    "- importando os dados dos arquivos para tabelas com nomes contendo prefixo \"tb_\" e nome do arquivo de origem nos seus respectivos Dataframes."
   ]
  },
  {
   "cell_type": "code",
   "execution_count": 0,
   "metadata": {
    "application/vnd.databricks.v1+cell": {
     "cellMetadata": {
      "byteLimit": 2048000,
      "implicitDf": true,
      "rowLimit": 10000
     },
     "inputWidgets": {},
     "nuid": "94bd8f05-064d-4a15-b7b9-3e1e74fb7d1c",
     "showTitle": false,
     "tableResultSettingsMap": {},
     "title": ""
    }
   },
   "outputs": [
    {
     "output_type": "display_data",
     "data": {
      "text/html": [
       "<style scoped>\n",
       "  .table-result-container {\n",
       "    max-height: 300px;\n",
       "    overflow: auto;\n",
       "  }\n",
       "  table, th, td {\n",
       "    border: 1px solid black;\n",
       "    border-collapse: collapse;\n",
       "  }\n",
       "  th, td {\n",
       "    padding: 5px;\n",
       "  }\n",
       "  th {\n",
       "    text-align: left;\n",
       "  }\n",
       "</style><div class='table-result-container'><table class='table-result'><thead style='background-color: white'><tr></tr></thead><tbody></tbody></table></div>"
      ]
     },
     "metadata": {
      "application/vnd.databricks.v1+output": {
       "addedWidgets": {},
       "aggData": [],
       "aggError": "",
       "aggOverflow": false,
       "aggSchema": [],
       "aggSeriesLimitReached": false,
       "aggType": "",
       "arguments": {},
       "columnCustomDisplayInfos": {},
       "data": [],
       "datasetInfos": [],
       "dbfsResultPath": null,
       "isJsonSchema": true,
       "metadata": {},
       "overflow": false,
       "plotOptions": {
        "customPlotOptions": {},
        "displayType": "table",
        "pivotAggregation": null,
        "pivotColumns": null,
        "xColumns": null,
        "yColumns": null
       },
       "removedWidgets": [],
       "schema": [],
       "type": "table"
      }
     },
     "output_type": "display_data"
    }
   ],
   "source": [
    "%sql\n",
    "-- Removendo Schema para recriar\n",
    "DROP SCHEMA IF EXISTS IMDB_DB_BRONZE CASCADE;\n",
    "\n",
    "-- CRIANDO O BANCO DE DADOS (schema)\n",
    "CREATE SCHEMA IMDB_DB_BRONZE;"
   ]
  },
  {
   "cell_type": "markdown",
   "metadata": {
    "application/vnd.databricks.v1+cell": {
     "cellMetadata": {
      "byteLimit": 2048000,
      "rowLimit": 10000
     },
     "inputWidgets": {},
     "nuid": "f11261d0-7bb1-4c4e-8800-6782724cb263",
     "showTitle": false,
     "tableResultSettingsMap": {},
     "title": ""
    }
   },
   "source": [
    "###Criando e preenchendo a \"**tb_name_basics**\"."
   ]
  },
  {
   "cell_type": "code",
   "execution_count": 0,
   "metadata": {
    "application/vnd.databricks.v1+cell": {
     "cellMetadata": {
      "byteLimit": 2048000,
      "rowLimit": 10000
     },
     "inputWidgets": {},
     "nuid": "166f0a8d-e352-4d6f-9bfb-64853d076502",
     "showTitle": false,
     "tableResultSettingsMap": {},
     "title": ""
    }
   },
   "outputs": [
    {
     "output_type": "stream",
     "name": "stdout",
     "output_type": "stream",
     "text": [
      "Out[47]: False"
     ]
    }
   ],
   "source": [
    "#Removendo vínculo do arquivo da tabela\n",
    "dbutils.fs.rm(\"dbfs:/user/hive/warehouse/imdb_db_bronze.db/tb_name_basics/\", True)"
   ]
  },
  {
   "cell_type": "code",
   "execution_count": 0,
   "metadata": {
    "application/vnd.databricks.v1+cell": {
     "cellMetadata": {
      "byteLimit": 2048000,
      "implicitDf": true,
      "rowLimit": 10000
     },
     "inputWidgets": {},
     "nuid": "ef6c5a22-0a2f-4f53-89d6-fcf5c4b86bd1",
     "showTitle": false,
     "tableResultSettingsMap": {},
     "title": ""
    }
   },
   "outputs": [
    {
     "output_type": "display_data",
     "data": {
      "text/html": [
       "<style scoped>\n",
       "  .table-result-container {\n",
       "    max-height: 300px;\n",
       "    overflow: auto;\n",
       "  }\n",
       "  table, th, td {\n",
       "    border: 1px solid black;\n",
       "    border-collapse: collapse;\n",
       "  }\n",
       "  th, td {\n",
       "    padding: 5px;\n",
       "  }\n",
       "  th {\n",
       "    text-align: left;\n",
       "  }\n",
       "</style><div class='table-result-container'><table class='table-result'><thead style='background-color: white'><tr></tr></thead><tbody></tbody></table></div>"
      ]
     },
     "metadata": {
      "application/vnd.databricks.v1+output": {
       "addedWidgets": {},
       "aggData": [],
       "aggError": "",
       "aggOverflow": false,
       "aggSchema": [],
       "aggSeriesLimitReached": false,
       "aggType": "",
       "arguments": {},
       "columnCustomDisplayInfos": {},
       "data": [],
       "datasetInfos": [],
       "dbfsResultPath": null,
       "isJsonSchema": true,
       "metadata": {},
       "overflow": false,
       "plotOptions": {
        "customPlotOptions": {},
        "displayType": "table",
        "pivotAggregation": null,
        "pivotColumns": null,
        "xColumns": null,
        "yColumns": null
       },
       "removedWidgets": [],
       "schema": [],
       "type": "table"
      }
     },
     "output_type": "display_data"
    }
   ],
   "source": [
    "%sql\n",
    "-- Criando a tabela \"tb_name_basics\"\n",
    "CREATE OR REPLACE TABLE IMDB_DB_BRONZE.tb_name_basics (\n",
    "  nconst STRING,\n",
    "  primaryName STRING,\n",
    "  birthYear STRING,\n",
    "  deathYear STRING,\n",
    "  primaryProfession STRING,\n",
    "  knownForTitles STRING\n",
    ")"
   ]
  },
  {
   "cell_type": "code",
   "execution_count": 0,
   "metadata": {
    "application/vnd.databricks.v1+cell": {
     "cellMetadata": {
      "byteLimit": 2048000,
      "rowLimit": 10000
     },
     "inputWidgets": {},
     "nuid": "b33a44f3-159b-401f-b7c2-4b9810f24a7b",
     "showTitle": false,
     "tableResultSettingsMap": {},
     "title": ""
    }
   },
   "outputs": [],
   "source": [
    "df_name_basics.write.format(\"delta\").mode(\"overwrite\").saveAsTable(\"IMDB_DB_BRONZE.tb_name_basics\")"
   ]
  },
  {
   "cell_type": "markdown",
   "metadata": {
    "application/vnd.databricks.v1+cell": {
     "cellMetadata": {
      "byteLimit": 2048000,
      "rowLimit": 10000
     },
     "inputWidgets": {},
     "nuid": "093d7a27-d3e9-4003-b984-80a7406deaa4",
     "showTitle": false,
     "tableResultSettingsMap": {},
     "title": ""
    }
   },
   "source": [
    "Verificando se todos os registros foram importados corretamente."
   ]
  },
  {
   "cell_type": "code",
   "execution_count": 0,
   "metadata": {
    "application/vnd.databricks.v1+cell": {
     "cellMetadata": {
      "byteLimit": 2048000,
      "implicitDf": true,
      "rowLimit": 10000
     },
     "inputWidgets": {},
     "nuid": "dc0073d9-0960-4a84-aa5f-ca919e64fb29",
     "showTitle": false,
     "tableResultSettingsMap": {},
     "title": ""
    }
   },
   "outputs": [
    {
     "output_type": "display_data",
     "data": {
      "text/html": [
       "<style scoped>\n",
       "  .table-result-container {\n",
       "    max-height: 300px;\n",
       "    overflow: auto;\n",
       "  }\n",
       "  table, th, td {\n",
       "    border: 1px solid black;\n",
       "    border-collapse: collapse;\n",
       "  }\n",
       "  th, td {\n",
       "    padding: 5px;\n",
       "  }\n",
       "  th {\n",
       "    text-align: left;\n",
       "  }\n",
       "</style><div class='table-result-container'><table class='table-result'><thead style='background-color: white'><tr><th>TOTAL_REGISTROS</th><th>VERIFICACAO</th></tr></thead><tbody><tr><td>14281080</td><td>OK</td></tr></tbody></table></div>"
      ]
     },
     "metadata": {
      "application/vnd.databricks.v1+output": {
       "addedWidgets": {},
       "aggData": [],
       "aggError": "",
       "aggOverflow": false,
       "aggSchema": [],
       "aggSeriesLimitReached": false,
       "aggType": "",
       "arguments": {},
       "columnCustomDisplayInfos": {},
       "data": [
        [
         14281080,
         "OK"
        ]
       ],
       "datasetInfos": [],
       "dbfsResultPath": null,
       "isJsonSchema": true,
       "metadata": {},
       "overflow": false,
       "plotOptions": {
        "customPlotOptions": {},
        "displayType": "table",
        "pivotAggregation": null,
        "pivotColumns": null,
        "xColumns": null,
        "yColumns": null
       },
       "removedWidgets": [],
       "schema": [
        {
         "metadata": "{}",
         "name": "TOTAL_REGISTROS",
         "type": "\"long\""
        },
        {
         "metadata": "{}",
         "name": "VERIFICACAO",
         "type": "\"string\""
        }
       ],
       "type": "table"
      }
     },
     "output_type": "display_data"
    }
   ],
   "source": [
    "%sql\n",
    "-- Conferência dasa quantidades de registros\n",
    "--------------------------------------------\n",
    "SELECT COUNT(0) TOTAL_REGISTROS, CASE WHEN COUNT(0) = 14281080 THEN  'OK' ELSE 'ERRO - VALOR DIFERENTE DE 14.281.080 REGISTROS' END AS VERIFICACAO \n",
    "FROM IMDB_DB_BRONZE.tb_name_basics;"
   ]
  },
  {
   "cell_type": "markdown",
   "metadata": {
    "application/vnd.databricks.v1+cell": {
     "cellMetadata": {
      "byteLimit": 2048000,
      "rowLimit": 10000
     },
     "inputWidgets": {},
     "nuid": "743a001e-c2e3-4c71-8ec5-eb481bf5c84c",
     "showTitle": false,
     "tableResultSettingsMap": {},
     "title": ""
    }
   },
   "source": [
    "###Criando e preenchendo a \"**tb_title_basics**\"."
   ]
  },
  {
   "cell_type": "code",
   "execution_count": 0,
   "metadata": {
    "application/vnd.databricks.v1+cell": {
     "cellMetadata": {
      "byteLimit": 2048000,
      "rowLimit": 10000
     },
     "inputWidgets": {},
     "nuid": "a39563d4-fe22-42af-b60b-b14c07133106",
     "showTitle": false,
     "tableResultSettingsMap": {},
     "title": ""
    }
   },
   "outputs": [
    {
     "output_type": "stream",
     "name": "stdout",
     "output_type": "stream",
     "text": [
      "Out[51]: False"
     ]
    }
   ],
   "source": [
    "#Removendo vínculo do arquivo da tabela\n",
    "dbutils.fs.rm(\"dbfs:/user/hive/warehouse/imdb_db_bronze.db/tb_title_basics/\", True)"
   ]
  },
  {
   "cell_type": "code",
   "execution_count": 0,
   "metadata": {
    "application/vnd.databricks.v1+cell": {
     "cellMetadata": {
      "byteLimit": 2048000,
      "implicitDf": true,
      "rowLimit": 10000
     },
     "inputWidgets": {},
     "nuid": "49abaf38-d2c8-44cd-99bd-25c2f8c52273",
     "showTitle": false,
     "tableResultSettingsMap": {},
     "title": ""
    }
   },
   "outputs": [
    {
     "output_type": "display_data",
     "data": {
      "text/html": [
       "<style scoped>\n",
       "  .table-result-container {\n",
       "    max-height: 300px;\n",
       "    overflow: auto;\n",
       "  }\n",
       "  table, th, td {\n",
       "    border: 1px solid black;\n",
       "    border-collapse: collapse;\n",
       "  }\n",
       "  th, td {\n",
       "    padding: 5px;\n",
       "  }\n",
       "  th {\n",
       "    text-align: left;\n",
       "  }\n",
       "</style><div class='table-result-container'><table class='table-result'><thead style='background-color: white'><tr></tr></thead><tbody></tbody></table></div>"
      ]
     },
     "metadata": {
      "application/vnd.databricks.v1+output": {
       "addedWidgets": {},
       "aggData": [],
       "aggError": "",
       "aggOverflow": false,
       "aggSchema": [],
       "aggSeriesLimitReached": false,
       "aggType": "",
       "arguments": {},
       "columnCustomDisplayInfos": {},
       "data": [],
       "datasetInfos": [],
       "dbfsResultPath": null,
       "isJsonSchema": true,
       "metadata": {},
       "overflow": false,
       "plotOptions": {
        "customPlotOptions": {},
        "displayType": "table",
        "pivotAggregation": null,
        "pivotColumns": null,
        "xColumns": null,
        "yColumns": null
       },
       "removedWidgets": [],
       "schema": [],
       "type": "table"
      }
     },
     "output_type": "display_data"
    }
   ],
   "source": [
    "%sql\n",
    "-- Criando  a tabela \"tb_title_basics\"\n",
    "CREATE OR REPLACE TABLE IMDB_DB_BRONZE.tb_title_basics (\n",
    "  tconst STRING,\n",
    "  titleType STRING,\n",
    "  primaryTitle STRING,\n",
    "  originalTitle STRING,\n",
    "  isAdult STRING,\n",
    "  startYear STRING,\n",
    "  endYear STRING,\n",
    "  runtimeMinutes STRING,\n",
    "  genres STRING\n",
    ")"
   ]
  },
  {
   "cell_type": "code",
   "execution_count": 0,
   "metadata": {
    "application/vnd.databricks.v1+cell": {
     "cellMetadata": {
      "byteLimit": 2048000,
      "rowLimit": 10000
     },
     "inputWidgets": {},
     "nuid": "7867f8af-e985-48d4-b59b-97cb682ceabe",
     "showTitle": false,
     "tableResultSettingsMap": {},
     "title": ""
    }
   },
   "outputs": [],
   "source": [
    "df_title_basics.write.format(\"delta\").mode(\"overwrite\").saveAsTable(\"IMDB_DB_BRONZE.tb_title_basics\")"
   ]
  },
  {
   "cell_type": "markdown",
   "metadata": {
    "application/vnd.databricks.v1+cell": {
     "cellMetadata": {
      "byteLimit": 2048000,
      "rowLimit": 10000
     },
     "inputWidgets": {},
     "nuid": "c632553a-2579-4813-81a8-29f5587e3594",
     "showTitle": false,
     "tableResultSettingsMap": {},
     "title": ""
    }
   },
   "source": [
    "Verificando se todos os registros foram importados corretamente."
   ]
  },
  {
   "cell_type": "code",
   "execution_count": 0,
   "metadata": {
    "application/vnd.databricks.v1+cell": {
     "cellMetadata": {
      "byteLimit": 2048000,
      "implicitDf": true,
      "rowLimit": 10000
     },
     "inputWidgets": {},
     "nuid": "766136cf-b35e-4726-ac9c-ae6e6b2659f6",
     "showTitle": false,
     "tableResultSettingsMap": {},
     "title": ""
    }
   },
   "outputs": [
    {
     "output_type": "display_data",
     "data": {
      "text/html": [
       "<style scoped>\n",
       "  .table-result-container {\n",
       "    max-height: 300px;\n",
       "    overflow: auto;\n",
       "  }\n",
       "  table, th, td {\n",
       "    border: 1px solid black;\n",
       "    border-collapse: collapse;\n",
       "  }\n",
       "  th, td {\n",
       "    padding: 5px;\n",
       "  }\n",
       "  th {\n",
       "    text-align: left;\n",
       "  }\n",
       "</style><div class='table-result-container'><table class='table-result'><thead style='background-color: white'><tr><th>TOTAL_REGISTROS</th><th>VERIFICACAO</th></tr></thead><tbody><tr><td>11542593</td><td>OK</td></tr></tbody></table></div>"
      ]
     },
     "metadata": {
      "application/vnd.databricks.v1+output": {
       "addedWidgets": {},
       "aggData": [],
       "aggError": "",
       "aggOverflow": false,
       "aggSchema": [],
       "aggSeriesLimitReached": false,
       "aggType": "",
       "arguments": {},
       "columnCustomDisplayInfos": {},
       "data": [
        [
         11542593,
         "OK"
        ]
       ],
       "datasetInfos": [],
       "dbfsResultPath": null,
       "isJsonSchema": true,
       "metadata": {},
       "overflow": false,
       "plotOptions": {
        "customPlotOptions": {},
        "displayType": "table",
        "pivotAggregation": null,
        "pivotColumns": null,
        "xColumns": null,
        "yColumns": null
       },
       "removedWidgets": [],
       "schema": [
        {
         "metadata": "{}",
         "name": "TOTAL_REGISTROS",
         "type": "\"long\""
        },
        {
         "metadata": "{}",
         "name": "VERIFICACAO",
         "type": "\"string\""
        }
       ],
       "type": "table"
      }
     },
     "output_type": "display_data"
    }
   ],
   "source": [
    "%sql\n",
    "-- Conferência dasa quantidades de registros\n",
    "--------------------------------------------\n",
    "SELECT COUNT(0) TOTAL_REGISTROS, CASE WHEN COUNT(0) = 11542593 THEN  'OK' ELSE 'ERRO - VALOR DIFERENTE DE 11.542.593 REGISTROS' END AS VERIFICACAO \n",
    "FROM IMDB_DB_BRONZE.tb_title_basics;"
   ]
  },
  {
   "cell_type": "markdown",
   "metadata": {
    "application/vnd.databricks.v1+cell": {
     "cellMetadata": {
      "byteLimit": 2048000,
      "rowLimit": 10000
     },
     "inputWidgets": {},
     "nuid": "ee15ad2d-eff7-4545-bd53-6ae546616990",
     "showTitle": false,
     "tableResultSettingsMap": {},
     "title": ""
    }
   },
   "source": [
    "###Criando e preenchendo a \"**tb_title_crew**\"."
   ]
  },
  {
   "cell_type": "code",
   "execution_count": 0,
   "metadata": {
    "application/vnd.databricks.v1+cell": {
     "cellMetadata": {
      "byteLimit": 2048000,
      "rowLimit": 10000
     },
     "inputWidgets": {},
     "nuid": "7c04814c-2c6b-49d7-ad89-e7b5d440dc9a",
     "showTitle": false,
     "tableResultSettingsMap": {},
     "title": ""
    }
   },
   "outputs": [
    {
     "output_type": "stream",
     "name": "stdout",
     "output_type": "stream",
     "text": [
      "Out[55]: False"
     ]
    }
   ],
   "source": [
    "#Removendo vínculo do arquivo da tabela\n",
    "dbutils.fs.rm(\"dbfs:/user/hive/warehouse/imdb_db_bronze.db/tb_title_crew/\", True)"
   ]
  },
  {
   "cell_type": "code",
   "execution_count": 0,
   "metadata": {
    "application/vnd.databricks.v1+cell": {
     "cellMetadata": {
      "byteLimit": 2048000,
      "implicitDf": true,
      "rowLimit": 10000
     },
     "inputWidgets": {},
     "nuid": "4633d1e1-47e5-4b0f-bbd1-8912ace8210b",
     "showTitle": false,
     "tableResultSettingsMap": {},
     "title": ""
    }
   },
   "outputs": [
    {
     "output_type": "display_data",
     "data": {
      "text/html": [
       "<style scoped>\n",
       "  .table-result-container {\n",
       "    max-height: 300px;\n",
       "    overflow: auto;\n",
       "  }\n",
       "  table, th, td {\n",
       "    border: 1px solid black;\n",
       "    border-collapse: collapse;\n",
       "  }\n",
       "  th, td {\n",
       "    padding: 5px;\n",
       "  }\n",
       "  th {\n",
       "    text-align: left;\n",
       "  }\n",
       "</style><div class='table-result-container'><table class='table-result'><thead style='background-color: white'><tr></tr></thead><tbody></tbody></table></div>"
      ]
     },
     "metadata": {
      "application/vnd.databricks.v1+output": {
       "addedWidgets": {},
       "aggData": [],
       "aggError": "",
       "aggOverflow": false,
       "aggSchema": [],
       "aggSeriesLimitReached": false,
       "aggType": "",
       "arguments": {},
       "columnCustomDisplayInfos": {},
       "data": [],
       "datasetInfos": [],
       "dbfsResultPath": null,
       "isJsonSchema": true,
       "metadata": {},
       "overflow": false,
       "plotOptions": {
        "customPlotOptions": {},
        "displayType": "table",
        "pivotAggregation": null,
        "pivotColumns": null,
        "xColumns": null,
        "yColumns": null
       },
       "removedWidgets": [],
       "schema": [],
       "type": "table"
      }
     },
     "output_type": "display_data"
    }
   ],
   "source": [
    "%sql\n",
    "-- Criando a tabela \"tb_title_crew\"\n",
    "CREATE OR REPLACE TABLE IMDB_DB_BRONZE.tb_title_crew (\n",
    "  tconst STRING,\n",
    "  directors STRING,\n",
    "  writers STRING\n",
    ")"
   ]
  },
  {
   "cell_type": "code",
   "execution_count": 0,
   "metadata": {
    "application/vnd.databricks.v1+cell": {
     "cellMetadata": {
      "byteLimit": 2048000,
      "rowLimit": 10000
     },
     "inputWidgets": {},
     "nuid": "579b994d-908a-499e-b3dc-4d563f6ed628",
     "showTitle": false,
     "tableResultSettingsMap": {},
     "title": ""
    }
   },
   "outputs": [],
   "source": [
    "df_title_crew.write.format(\"delta\").mode(\"overwrite\").saveAsTable(\"IMDB_DB_BRONZE.tb_title_crew\")"
   ]
  },
  {
   "cell_type": "markdown",
   "metadata": {
    "application/vnd.databricks.v1+cell": {
     "cellMetadata": {
      "byteLimit": 2048000,
      "rowLimit": 10000
     },
     "inputWidgets": {},
     "nuid": "5a2597d4-bfa7-44e3-a9fa-fe95cd53ed68",
     "showTitle": false,
     "tableResultSettingsMap": {},
     "title": ""
    }
   },
   "source": [
    "Verificando se todos os registros foram importados corretamente."
   ]
  },
  {
   "cell_type": "code",
   "execution_count": 0,
   "metadata": {
    "application/vnd.databricks.v1+cell": {
     "cellMetadata": {
      "byteLimit": 2048000,
      "implicitDf": true,
      "rowLimit": 10000
     },
     "inputWidgets": {},
     "nuid": "8d98b968-c004-4d1e-8882-05f183df0c86",
     "showTitle": false,
     "tableResultSettingsMap": {},
     "title": ""
    }
   },
   "outputs": [
    {
     "output_type": "display_data",
     "data": {
      "text/html": [
       "<style scoped>\n",
       "  .table-result-container {\n",
       "    max-height: 300px;\n",
       "    overflow: auto;\n",
       "  }\n",
       "  table, th, td {\n",
       "    border: 1px solid black;\n",
       "    border-collapse: collapse;\n",
       "  }\n",
       "  th, td {\n",
       "    padding: 5px;\n",
       "  }\n",
       "  th {\n",
       "    text-align: left;\n",
       "  }\n",
       "</style><div class='table-result-container'><table class='table-result'><thead style='background-color: white'><tr><th>TOTAL_REGISTROS</th><th>VERIFICACAO</th></tr></thead><tbody><tr><td>11542593</td><td>OK</td></tr></tbody></table></div>"
      ]
     },
     "metadata": {
      "application/vnd.databricks.v1+output": {
       "addedWidgets": {},
       "aggData": [],
       "aggError": "",
       "aggOverflow": false,
       "aggSchema": [],
       "aggSeriesLimitReached": false,
       "aggType": "",
       "arguments": {},
       "columnCustomDisplayInfos": {},
       "data": [
        [
         11542593,
         "OK"
        ]
       ],
       "datasetInfos": [],
       "dbfsResultPath": null,
       "isJsonSchema": true,
       "metadata": {},
       "overflow": false,
       "plotOptions": {
        "customPlotOptions": {},
        "displayType": "table",
        "pivotAggregation": null,
        "pivotColumns": null,
        "xColumns": null,
        "yColumns": null
       },
       "removedWidgets": [],
       "schema": [
        {
         "metadata": "{}",
         "name": "TOTAL_REGISTROS",
         "type": "\"long\""
        },
        {
         "metadata": "{}",
         "name": "VERIFICACAO",
         "type": "\"string\""
        }
       ],
       "type": "table"
      }
     },
     "output_type": "display_data"
    }
   ],
   "source": [
    "%sql\n",
    "-- Conferência dasa quantidades de registros\n",
    "--------------------------------------------\n",
    "SELECT COUNT(0) TOTAL_REGISTROS, CASE WHEN COUNT(0) = 11542593 THEN  'OK' ELSE 'ERRO - VALOR DIFERENTE DE 11.542.593 REGISTROS' END AS VERIFICACAO \n",
    "FROM IMDB_DB_BRONZE.tb_title_basics;"
   ]
  },
  {
   "cell_type": "markdown",
   "metadata": {
    "application/vnd.databricks.v1+cell": {
     "cellMetadata": {
      "byteLimit": 2048000,
      "rowLimit": 10000
     },
     "inputWidgets": {},
     "nuid": "fabe70ef-f6fe-460f-b323-16a6c0d128e5",
     "showTitle": false,
     "tableResultSettingsMap": {},
     "title": ""
    }
   },
   "source": [
    "###Criando e preenchendo a \"**tb_title_episode**\"."
   ]
  },
  {
   "cell_type": "code",
   "execution_count": 0,
   "metadata": {
    "application/vnd.databricks.v1+cell": {
     "cellMetadata": {
      "byteLimit": 2048000,
      "rowLimit": 10000
     },
     "inputWidgets": {},
     "nuid": "a41b88e9-9efc-40bc-bc62-8a4236bd96f3",
     "showTitle": false,
     "tableResultSettingsMap": {},
     "title": ""
    }
   },
   "outputs": [
    {
     "output_type": "stream",
     "name": "stdout",
     "output_type": "stream",
     "text": [
      "Out[59]: False"
     ]
    }
   ],
   "source": [
    "#Removendo vínculo do arquivo da tabela\n",
    "dbutils.fs.rm(\"dbfs:/user/hive/warehouse/imdb_db_bronze.db/tb_title_episode/\", True)"
   ]
  },
  {
   "cell_type": "code",
   "execution_count": 0,
   "metadata": {
    "application/vnd.databricks.v1+cell": {
     "cellMetadata": {
      "byteLimit": 2048000,
      "implicitDf": true,
      "rowLimit": 10000
     },
     "inputWidgets": {},
     "nuid": "077decc7-346b-4209-b1bc-f96b4f673f8f",
     "showTitle": false,
     "tableResultSettingsMap": {},
     "title": ""
    }
   },
   "outputs": [
    {
     "output_type": "display_data",
     "data": {
      "text/html": [
       "<style scoped>\n",
       "  .table-result-container {\n",
       "    max-height: 300px;\n",
       "    overflow: auto;\n",
       "  }\n",
       "  table, th, td {\n",
       "    border: 1px solid black;\n",
       "    border-collapse: collapse;\n",
       "  }\n",
       "  th, td {\n",
       "    padding: 5px;\n",
       "  }\n",
       "  th {\n",
       "    text-align: left;\n",
       "  }\n",
       "</style><div class='table-result-container'><table class='table-result'><thead style='background-color: white'><tr></tr></thead><tbody></tbody></table></div>"
      ]
     },
     "metadata": {
      "application/vnd.databricks.v1+output": {
       "addedWidgets": {},
       "aggData": [],
       "aggError": "",
       "aggOverflow": false,
       "aggSchema": [],
       "aggSeriesLimitReached": false,
       "aggType": "",
       "arguments": {},
       "columnCustomDisplayInfos": {},
       "data": [],
       "datasetInfos": [],
       "dbfsResultPath": null,
       "isJsonSchema": true,
       "metadata": {},
       "overflow": false,
       "plotOptions": {
        "customPlotOptions": {},
        "displayType": "table",
        "pivotAggregation": null,
        "pivotColumns": null,
        "xColumns": null,
        "yColumns": null
       },
       "removedWidgets": [],
       "schema": [],
       "type": "table"
      }
     },
     "output_type": "display_data"
    }
   ],
   "source": [
    "%sql\n",
    "-- Criando a tabela \"tb_title_episode\"\n",
    "CREATE OR REPLACE TABLE IMDB_DB_BRONZE.tb_title_episode (\n",
    "  tconst STRING,\n",
    "  parentTconst STRING,\n",
    "  seasonNumber STRING,\n",
    "  episodeNumber STRING\n",
    ")"
   ]
  },
  {
   "cell_type": "code",
   "execution_count": 0,
   "metadata": {
    "application/vnd.databricks.v1+cell": {
     "cellMetadata": {
      "byteLimit": 2048000,
      "rowLimit": 10000
     },
     "inputWidgets": {},
     "nuid": "731d3887-6eff-488b-89cd-3a784d94e285",
     "showTitle": false,
     "tableResultSettingsMap": {},
     "title": ""
    }
   },
   "outputs": [],
   "source": [
    "df_title_episode.write.format(\"delta\").mode(\"overwrite\").saveAsTable(\"IMDB_DB_BRONZE.tb_title_episode\")"
   ]
  },
  {
   "cell_type": "markdown",
   "metadata": {
    "application/vnd.databricks.v1+cell": {
     "cellMetadata": {
      "byteLimit": 2048000,
      "rowLimit": 10000
     },
     "inputWidgets": {},
     "nuid": "8dcf7f3f-0a28-47b0-9ce7-1b043a113b61",
     "showTitle": false,
     "tableResultSettingsMap": {},
     "title": ""
    }
   },
   "source": [
    "Verificando se todos os registros foram importados corretamente."
   ]
  },
  {
   "cell_type": "code",
   "execution_count": 0,
   "metadata": {
    "application/vnd.databricks.v1+cell": {
     "cellMetadata": {
      "byteLimit": 2048000,
      "implicitDf": true,
      "rowLimit": 10000
     },
     "inputWidgets": {},
     "nuid": "2e152e33-361a-4e8c-84c2-43db65280a92",
     "showTitle": false,
     "tableResultSettingsMap": {},
     "title": ""
    }
   },
   "outputs": [
    {
     "output_type": "display_data",
     "data": {
      "text/html": [
       "<style scoped>\n",
       "  .table-result-container {\n",
       "    max-height: 300px;\n",
       "    overflow: auto;\n",
       "  }\n",
       "  table, th, td {\n",
       "    border: 1px solid black;\n",
       "    border-collapse: collapse;\n",
       "  }\n",
       "  th, td {\n",
       "    padding: 5px;\n",
       "  }\n",
       "  th {\n",
       "    text-align: left;\n",
       "  }\n",
       "</style><div class='table-result-container'><table class='table-result'><thead style='background-color: white'><tr><th>TOTAL_REGISTROS</th><th>VERIFICACAO</th></tr></thead><tbody><tr><td>8880703</td><td>OK</td></tr></tbody></table></div>"
      ]
     },
     "metadata": {
      "application/vnd.databricks.v1+output": {
       "addedWidgets": {},
       "aggData": [],
       "aggError": "",
       "aggOverflow": false,
       "aggSchema": [],
       "aggSeriesLimitReached": false,
       "aggType": "",
       "arguments": {},
       "columnCustomDisplayInfos": {},
       "data": [
        [
         8880703,
         "OK"
        ]
       ],
       "datasetInfos": [],
       "dbfsResultPath": null,
       "isJsonSchema": true,
       "metadata": {},
       "overflow": false,
       "plotOptions": {
        "customPlotOptions": {},
        "displayType": "table",
        "pivotAggregation": null,
        "pivotColumns": null,
        "xColumns": null,
        "yColumns": null
       },
       "removedWidgets": [],
       "schema": [
        {
         "metadata": "{}",
         "name": "TOTAL_REGISTROS",
         "type": "\"long\""
        },
        {
         "metadata": "{}",
         "name": "VERIFICACAO",
         "type": "\"string\""
        }
       ],
       "type": "table"
      }
     },
     "output_type": "display_data"
    }
   ],
   "source": [
    "%sql\n",
    "-- Conferência dasa quantidades de registros\n",
    "--------------------------------------------\n",
    "SELECT COUNT(0) TOTAL_REGISTROS, CASE WHEN COUNT(0) = 8880703 THEN  'OK' ELSE 'ERRO - VALOR DIFERENTE DE 8.880.703 REGISTROS' END AS VERIFICACAO \n",
    "FROM IMDB_DB_BRONZE.tb_title_episode;"
   ]
  },
  {
   "cell_type": "markdown",
   "metadata": {
    "application/vnd.databricks.v1+cell": {
     "cellMetadata": {
      "byteLimit": 2048000,
      "rowLimit": 10000
     },
     "inputWidgets": {},
     "nuid": "c933a95c-ddcb-48b4-b99e-0b81f8c517f3",
     "showTitle": false,
     "tableResultSettingsMap": {},
     "title": ""
    }
   },
   "source": [
    "###Criando e preenchendo a \"**tb_title_akas**\""
   ]
  },
  {
   "cell_type": "code",
   "execution_count": 0,
   "metadata": {
    "application/vnd.databricks.v1+cell": {
     "cellMetadata": {
      "byteLimit": 2048000,
      "rowLimit": 10000
     },
     "inputWidgets": {},
     "nuid": "3597238d-2af6-441b-9225-8c0d48c13682",
     "showTitle": false,
     "tableResultSettingsMap": {},
     "title": ""
    }
   },
   "outputs": [
    {
     "output_type": "stream",
     "name": "stdout",
     "output_type": "stream",
     "text": [
      "Out[63]: False"
     ]
    }
   ],
   "source": [
    "#Removendo vínculo do arquivo da tabela\n",
    "dbutils.fs.rm(\"dbfs:/user/hive/warehouse/imdb_db_bronze.db/tb_title_akas/\", True)"
   ]
  },
  {
   "cell_type": "code",
   "execution_count": 0,
   "metadata": {
    "application/vnd.databricks.v1+cell": {
     "cellMetadata": {
      "byteLimit": 2048000,
      "implicitDf": true,
      "rowLimit": 10000
     },
     "inputWidgets": {},
     "nuid": "461a53bc-47c1-4fc1-8dc5-058d8bfc33e1",
     "showTitle": false,
     "tableResultSettingsMap": {},
     "title": ""
    }
   },
   "outputs": [
    {
     "output_type": "display_data",
     "data": {
      "text/html": [
       "<style scoped>\n",
       "  .table-result-container {\n",
       "    max-height: 300px;\n",
       "    overflow: auto;\n",
       "  }\n",
       "  table, th, td {\n",
       "    border: 1px solid black;\n",
       "    border-collapse: collapse;\n",
       "  }\n",
       "  th, td {\n",
       "    padding: 5px;\n",
       "  }\n",
       "  th {\n",
       "    text-align: left;\n",
       "  }\n",
       "</style><div class='table-result-container'><table class='table-result'><thead style='background-color: white'><tr></tr></thead><tbody></tbody></table></div>"
      ]
     },
     "metadata": {
      "application/vnd.databricks.v1+output": {
       "addedWidgets": {},
       "aggData": [],
       "aggError": "",
       "aggOverflow": false,
       "aggSchema": [],
       "aggSeriesLimitReached": false,
       "aggType": "",
       "arguments": {},
       "columnCustomDisplayInfos": {},
       "data": [],
       "datasetInfos": [],
       "dbfsResultPath": null,
       "isJsonSchema": true,
       "metadata": {},
       "overflow": false,
       "plotOptions": {
        "customPlotOptions": {},
        "displayType": "table",
        "pivotAggregation": null,
        "pivotColumns": null,
        "xColumns": null,
        "yColumns": null
       },
       "removedWidgets": [],
       "schema": [],
       "type": "table"
      }
     },
     "output_type": "display_data"
    }
   ],
   "source": [
    "%sql\n",
    "-- Criando a tabela \"tb_title_akas\"\n",
    "CREATE OR REPLACE TABLE IMDB_DB_BRONZE.tb_title_akas (\n",
    "    titleId STRING,\n",
    "    ordering STRING,\n",
    "    title STRING,\n",
    "    region STRING,\n",
    "    language STRING,\n",
    "    types STRING,\n",
    "    attributes STRING,\n",
    "    isOriginalTitle STRING\n",
    ")"
   ]
  },
  {
   "cell_type": "markdown",
   "metadata": {
    "application/vnd.databricks.v1+cell": {
     "cellMetadata": {
      "byteLimit": 2048000,
      "rowLimit": 10000
     },
     "inputWidgets": {},
     "nuid": "45a74b7d-8ee4-4f49-8fbb-33ba3d40cb32",
     "showTitle": false,
     "tableResultSettingsMap": {},
     "title": ""
    }
   },
   "source": [
    "Criando um dataframe com a união dos DataFrames dos arquivos **\"title_akas_[numero].tsv\"**."
   ]
  },
  {
   "cell_type": "code",
   "execution_count": 0,
   "metadata": {
    "application/vnd.databricks.v1+cell": {
     "cellMetadata": {
      "byteLimit": 2048000,
      "rowLimit": 10000
     },
     "inputWidgets": {},
     "nuid": "51366a6e-a5c6-4263-a4c6-213b50cd2603",
     "showTitle": false,
     "tableResultSettingsMap": {},
     "title": ""
    }
   },
   "outputs": [],
   "source": [
    "df_akas = df_akas1.union(df_akas2) \\\n",
    "    .union(df_akas3) \\\n",
    "        .union(df_akas4)"
   ]
  },
  {
   "cell_type": "markdown",
   "metadata": {
    "application/vnd.databricks.v1+cell": {
     "cellMetadata": {
      "byteLimit": 2048000,
      "rowLimit": 10000
     },
     "inputWidgets": {},
     "nuid": "ca9cb303-72b7-4ca2-8c45-ab08d011b436",
     "showTitle": false,
     "tableResultSettingsMap": {},
     "title": ""
    }
   },
   "source": [
    "Preenchendo a \"tb_title_akas\" com o DataFrame unificado."
   ]
  },
  {
   "cell_type": "code",
   "execution_count": 0,
   "metadata": {
    "application/vnd.databricks.v1+cell": {
     "cellMetadata": {
      "byteLimit": 2048000,
      "rowLimit": 10000
     },
     "inputWidgets": {},
     "nuid": "ed82835f-0d7d-43e5-b9b6-5f71aa83e890",
     "showTitle": false,
     "tableResultSettingsMap": {},
     "title": ""
    }
   },
   "outputs": [],
   "source": [
    "df_akas.write.format(\"delta\").mode(\"overwrite\").saveAsTable(\"IMDB_DB_BRONZE.tb_title_akas\")"
   ]
  },
  {
   "cell_type": "markdown",
   "metadata": {
    "application/vnd.databricks.v1+cell": {
     "cellMetadata": {
      "byteLimit": 2048000,
      "rowLimit": 10000
     },
     "inputWidgets": {},
     "nuid": "2b73ba8d-eda8-4969-8e56-2e91aa4d328c",
     "showTitle": false,
     "tableResultSettingsMap": {},
     "title": ""
    }
   },
   "source": [
    "**Observação**:\n",
    "- Na base do IMDB, todos os registros em IMDB_DB_BRONZE.tb_title_akas o campo isOriginalTitle = 1, estão com os campos region com valor \"Não aplicavél\" \n",
    "- Desta forma não poderei afirmar que um título na regional \"BR\" (Brasil) seja um título original"
   ]
  },
  {
   "cell_type": "markdown",
   "metadata": {
    "application/vnd.databricks.v1+cell": {
     "cellMetadata": {
      "byteLimit": 2048000,
      "rowLimit": 10000
     },
     "inputWidgets": {},
     "nuid": "5be9324e-c113-4d9f-b537-9b815ffdc1f6",
     "showTitle": false,
     "tableResultSettingsMap": {},
     "title": ""
    }
   },
   "source": [
    "Verificando se todos os registros foram importados corretamente."
   ]
  },
  {
   "cell_type": "code",
   "execution_count": 0,
   "metadata": {
    "application/vnd.databricks.v1+cell": {
     "cellMetadata": {
      "byteLimit": 2048000,
      "implicitDf": true,
      "rowLimit": 10000
     },
     "inputWidgets": {},
     "nuid": "af5db8b4-7133-4429-9915-faf272f35da6",
     "showTitle": false,
     "tableResultSettingsMap": {},
     "title": ""
    }
   },
   "outputs": [
    {
     "output_type": "display_data",
     "data": {
      "text/html": [
       "<style scoped>\n",
       "  .table-result-container {\n",
       "    max-height: 300px;\n",
       "    overflow: auto;\n",
       "  }\n",
       "  table, th, td {\n",
       "    border: 1px solid black;\n",
       "    border-collapse: collapse;\n",
       "  }\n",
       "  th, td {\n",
       "    padding: 5px;\n",
       "  }\n",
       "  th {\n",
       "    text-align: left;\n",
       "  }\n",
       "</style><div class='table-result-container'><table class='table-result'><thead style='background-color: white'><tr><th>TOTAL_REGISTROS</th><th>VERIFICACAO</th></tr></thead><tbody><tr><td>51734703</td><td>OK</td></tr></tbody></table></div>"
      ]
     },
     "metadata": {
      "application/vnd.databricks.v1+output": {
       "addedWidgets": {},
       "aggData": [],
       "aggError": "",
       "aggOverflow": false,
       "aggSchema": [],
       "aggSeriesLimitReached": false,
       "aggType": "",
       "arguments": {},
       "columnCustomDisplayInfos": {},
       "data": [
        [
         51734703,
         "OK"
        ]
       ],
       "datasetInfos": [],
       "dbfsResultPath": null,
       "isJsonSchema": true,
       "metadata": {},
       "overflow": false,
       "plotOptions": {
        "customPlotOptions": {},
        "displayType": "table",
        "pivotAggregation": null,
        "pivotColumns": null,
        "xColumns": null,
        "yColumns": null
       },
       "removedWidgets": [],
       "schema": [
        {
         "metadata": "{}",
         "name": "TOTAL_REGISTROS",
         "type": "\"long\""
        },
        {
         "metadata": "{}",
         "name": "VERIFICACAO",
         "type": "\"string\""
        }
       ],
       "type": "table"
      }
     },
     "output_type": "display_data"
    }
   ],
   "source": [
    "%sql\n",
    "-- Conferência dasa quantidades de registros\n",
    "--------------------------------------------\n",
    "SELECT COUNT(0) TOTAL_REGISTROS, CASE WHEN COUNT(0) = 51734703 THEN  'OK' ELSE 'ERRO - VALOR DIFERENTE DE 51.734.703 REGISTROS' END AS VERIFICACAO \n",
    "FROM IMDB_DB_BRONZE.tb_title_akas;"
   ]
  },
  {
   "cell_type": "markdown",
   "metadata": {
    "application/vnd.databricks.v1+cell": {
     "cellMetadata": {
      "byteLimit": 2048000,
      "rowLimit": 10000
     },
     "inputWidgets": {},
     "nuid": "9bad814a-b716-48f6-99b5-8b5b4e874bdc",
     "showTitle": false,
     "tableResultSettingsMap": {},
     "title": ""
    }
   },
   "source": [
    "###Criando e preenchendo a \"**tb_title_principals**\"."
   ]
  },
  {
   "cell_type": "code",
   "execution_count": 0,
   "metadata": {
    "application/vnd.databricks.v1+cell": {
     "cellMetadata": {
      "byteLimit": 2048000,
      "rowLimit": 10000
     },
     "inputWidgets": {},
     "nuid": "cb60d1be-0c21-43af-aceb-83b200873491",
     "showTitle": false,
     "tableResultSettingsMap": {},
     "title": ""
    }
   },
   "outputs": [
    {
     "output_type": "stream",
     "name": "stdout",
     "output_type": "stream",
     "text": [
      "Out[68]: False"
     ]
    }
   ],
   "source": [
    "#Removendo vínculo do arquivo da tabela\n",
    "dbutils.fs.rm(\"dbfs:/user/hive/warehouse/imdb_db_bronze.db/tb_title_principals/\", True)"
   ]
  },
  {
   "cell_type": "code",
   "execution_count": 0,
   "metadata": {
    "application/vnd.databricks.v1+cell": {
     "cellMetadata": {
      "byteLimit": 2048000,
      "implicitDf": true,
      "rowLimit": 10000
     },
     "inputWidgets": {},
     "nuid": "0de7a98a-d2ef-4789-a33d-7ba8d4c98d04",
     "showTitle": false,
     "tableResultSettingsMap": {},
     "title": ""
    }
   },
   "outputs": [
    {
     "output_type": "display_data",
     "data": {
      "text/html": [
       "<style scoped>\n",
       "  .table-result-container {\n",
       "    max-height: 300px;\n",
       "    overflow: auto;\n",
       "  }\n",
       "  table, th, td {\n",
       "    border: 1px solid black;\n",
       "    border-collapse: collapse;\n",
       "  }\n",
       "  th, td {\n",
       "    padding: 5px;\n",
       "  }\n",
       "  th {\n",
       "    text-align: left;\n",
       "  }\n",
       "</style><div class='table-result-container'><table class='table-result'><thead style='background-color: white'><tr></tr></thead><tbody></tbody></table></div>"
      ]
     },
     "metadata": {
      "application/vnd.databricks.v1+output": {
       "addedWidgets": {},
       "aggData": [],
       "aggError": "",
       "aggOverflow": false,
       "aggSchema": [],
       "aggSeriesLimitReached": false,
       "aggType": "",
       "arguments": {},
       "columnCustomDisplayInfos": {},
       "data": [],
       "datasetInfos": [],
       "dbfsResultPath": null,
       "isJsonSchema": true,
       "metadata": {},
       "overflow": false,
       "plotOptions": {
        "customPlotOptions": {},
        "displayType": "table",
        "pivotAggregation": null,
        "pivotColumns": null,
        "xColumns": null,
        "yColumns": null
       },
       "removedWidgets": [],
       "schema": [],
       "type": "table"
      }
     },
     "output_type": "display_data"
    }
   ],
   "source": [
    "%sql\n",
    "-- Criando a tabela \"tb_title_principals\"\n",
    "CREATE OR REPLACE TABLE IMDB_DB_BRONZE.tb_title_principals (\n",
    "  tconst STRING,\n",
    "  ordering STRING,\n",
    "  nconst STRING,\n",
    "  category STRING,\n",
    "  job STRING,\n",
    "  characters STRING\n",
    ")"
   ]
  },
  {
   "cell_type": "markdown",
   "metadata": {
    "application/vnd.databricks.v1+cell": {
     "cellMetadata": {
      "byteLimit": 2048000,
      "rowLimit": 10000
     },
     "inputWidgets": {},
     "nuid": "04f5c17e-40e7-4eca-a5fb-12aaef8b1b14",
     "showTitle": false,
     "tableResultSettingsMap": {},
     "title": ""
    }
   },
   "source": [
    "Criando um dataframe com a união dos DataFrames dos arquivos **\"title_principals_[numero].tsv\"**."
   ]
  },
  {
   "cell_type": "code",
   "execution_count": 0,
   "metadata": {
    "application/vnd.databricks.v1+cell": {
     "cellMetadata": {
      "byteLimit": 2048000,
      "rowLimit": 10000
     },
     "inputWidgets": {},
     "nuid": "8c9a6477-e377-440a-a3a7-1936f6178a9f",
     "showTitle": false,
     "tableResultSettingsMap": {},
     "title": ""
    }
   },
   "outputs": [],
   "source": [
    "df_title_principals = df_title_principals1.union(df_title_principals2) \\\n",
    "    .union(df_title_principals3) \\\n",
    "        .union(df_title_principals4) \\\n",
    "            .union(df_title_principals5) \\\n",
    "                .union(df_title_principals6)\n",
    "                "
   ]
  },
  {
   "cell_type": "markdown",
   "metadata": {
    "application/vnd.databricks.v1+cell": {
     "cellMetadata": {
      "byteLimit": 2048000,
      "rowLimit": 10000
     },
     "inputWidgets": {},
     "nuid": "2a0e8ae2-b9c9-4f09-a14d-a66ae2be56ef",
     "showTitle": false,
     "tableResultSettingsMap": {},
     "title": ""
    }
   },
   "source": [
    "Preenchendo a \"tb_title_pricipals\" com o DataFrame unificado."
   ]
  },
  {
   "cell_type": "code",
   "execution_count": 0,
   "metadata": {
    "application/vnd.databricks.v1+cell": {
     "cellMetadata": {
      "byteLimit": 2048000,
      "rowLimit": 10000
     },
     "collapsed": true,
     "inputWidgets": {},
     "nuid": "78b58627-384c-41da-9a95-c341254c4a16",
     "showTitle": false,
     "tableResultSettingsMap": {},
     "title": ""
    }
   },
   "outputs": [],
   "source": [
    "df_title_principals.write.format(\"delta\").mode(\"overwrite\").saveAsTable(\"IMDB_DB_BRONZE.tb_title_principals\")"
   ]
  },
  {
   "cell_type": "markdown",
   "metadata": {
    "application/vnd.databricks.v1+cell": {
     "cellMetadata": {
      "byteLimit": 2048000,
      "rowLimit": 10000
     },
     "inputWidgets": {},
     "nuid": "26f5b795-e7c9-414e-8507-0b08841045fe",
     "showTitle": false,
     "tableResultSettingsMap": {},
     "title": ""
    }
   },
   "source": [
    "Verificando se todos os registros foram importados corretamente."
   ]
  },
  {
   "cell_type": "code",
   "execution_count": 0,
   "metadata": {
    "application/vnd.databricks.v1+cell": {
     "cellMetadata": {
      "byteLimit": 2048000,
      "implicitDf": true,
      "rowLimit": 10000
     },
     "inputWidgets": {},
     "nuid": "81574e5c-9c90-43c2-9bdd-d4c4265b8356",
     "showTitle": false,
     "tableResultSettingsMap": {},
     "title": ""
    }
   },
   "outputs": [
    {
     "output_type": "display_data",
     "data": {
      "text/html": [
       "<style scoped>\n",
       "  .table-result-container {\n",
       "    max-height: 300px;\n",
       "    overflow: auto;\n",
       "  }\n",
       "  table, th, td {\n",
       "    border: 1px solid black;\n",
       "    border-collapse: collapse;\n",
       "  }\n",
       "  th, td {\n",
       "    padding: 5px;\n",
       "  }\n",
       "  th {\n",
       "    text-align: left;\n",
       "  }\n",
       "</style><div class='table-result-container'><table class='table-result'><thead style='background-color: white'><tr><th>TOTAL_REGISTROS</th><th>VERIFICACAO</th></tr></thead><tbody><tr><td>91642432</td><td>OK</td></tr></tbody></table></div>"
      ]
     },
     "metadata": {
      "application/vnd.databricks.v1+output": {
       "addedWidgets": {},
       "aggData": [],
       "aggError": "",
       "aggOverflow": false,
       "aggSchema": [],
       "aggSeriesLimitReached": false,
       "aggType": "",
       "arguments": {},
       "columnCustomDisplayInfos": {},
       "data": [
        [
         91642432,
         "OK"
        ]
       ],
       "datasetInfos": [],
       "dbfsResultPath": null,
       "isJsonSchema": true,
       "metadata": {},
       "overflow": false,
       "plotOptions": {
        "customPlotOptions": {},
        "displayType": "table",
        "pivotAggregation": null,
        "pivotColumns": null,
        "xColumns": null,
        "yColumns": null
       },
       "removedWidgets": [],
       "schema": [
        {
         "metadata": "{}",
         "name": "TOTAL_REGISTROS",
         "type": "\"long\""
        },
        {
         "metadata": "{}",
         "name": "VERIFICACAO",
         "type": "\"string\""
        }
       ],
       "type": "table"
      }
     },
     "output_type": "display_data"
    }
   ],
   "source": [
    "%sql\n",
    "-- Conferência dasa quantidades de registros\n",
    "--------------------------------------------\n",
    "SELECT COUNT(0) TOTAL_REGISTROS, CASE WHEN COUNT(0) = 91642432 THEN  'OK' ELSE 'ERRO - VALOR DIFERENTE DE 91.642.432 REGISTROS' END AS VERIFICACAO \n",
    "FROM IMDB_DB_BRONZE.tb_title_principals;"
   ]
  },
  {
   "cell_type": "markdown",
   "metadata": {
    "application/vnd.databricks.v1+cell": {
     "cellMetadata": {
      "byteLimit": 2048000,
      "rowLimit": 10000
     },
     "inputWidgets": {},
     "nuid": "fec0bc8a-a967-4ede-9376-e3992052b1e8",
     "showTitle": false,
     "tableResultSettingsMap": {},
     "title": ""
    }
   },
   "source": [
    "###Criando e preenchendo a \"tb_title_ratings\"."
   ]
  },
  {
   "cell_type": "code",
   "execution_count": 0,
   "metadata": {
    "application/vnd.databricks.v1+cell": {
     "cellMetadata": {
      "byteLimit": 2048000,
      "rowLimit": 10000
     },
     "inputWidgets": {},
     "nuid": "7ff64196-6dc8-4544-b184-1b229fe48004",
     "showTitle": false,
     "tableResultSettingsMap": {},
     "title": ""
    }
   },
   "outputs": [
    {
     "output_type": "stream",
     "name": "stdout",
     "output_type": "stream",
     "text": [
      "Out[73]: False"
     ]
    }
   ],
   "source": [
    "#Removendo vínculo do arquivo da tabela\n",
    "dbutils.fs.rm(\"dbfs:/user/hive/warehouse/imdb_db_bronze.db/tb_title_ratings/\", True)"
   ]
  },
  {
   "cell_type": "code",
   "execution_count": 0,
   "metadata": {
    "application/vnd.databricks.v1+cell": {
     "cellMetadata": {
      "byteLimit": 2048000,
      "implicitDf": true,
      "rowLimit": 10000
     },
     "inputWidgets": {},
     "nuid": "26b2964b-eb06-47e9-b034-bde38c2c2292",
     "showTitle": false,
     "tableResultSettingsMap": {},
     "title": ""
    }
   },
   "outputs": [
    {
     "output_type": "display_data",
     "data": {
      "text/html": [
       "<style scoped>\n",
       "  .table-result-container {\n",
       "    max-height: 300px;\n",
       "    overflow: auto;\n",
       "  }\n",
       "  table, th, td {\n",
       "    border: 1px solid black;\n",
       "    border-collapse: collapse;\n",
       "  }\n",
       "  th, td {\n",
       "    padding: 5px;\n",
       "  }\n",
       "  th {\n",
       "    text-align: left;\n",
       "  }\n",
       "</style><div class='table-result-container'><table class='table-result'><thead style='background-color: white'><tr></tr></thead><tbody></tbody></table></div>"
      ]
     },
     "metadata": {
      "application/vnd.databricks.v1+output": {
       "addedWidgets": {},
       "aggData": [],
       "aggError": "",
       "aggOverflow": false,
       "aggSchema": [],
       "aggSeriesLimitReached": false,
       "aggType": "",
       "arguments": {},
       "columnCustomDisplayInfos": {},
       "data": [],
       "datasetInfos": [],
       "dbfsResultPath": null,
       "isJsonSchema": true,
       "metadata": {},
       "overflow": false,
       "plotOptions": {
        "customPlotOptions": {},
        "displayType": "table",
        "pivotAggregation": null,
        "pivotColumns": null,
        "xColumns": null,
        "yColumns": null
       },
       "removedWidgets": [],
       "schema": [],
       "type": "table"
      }
     },
     "output_type": "display_data"
    }
   ],
   "source": [
    "%sql\n",
    "CREATE OR REPLACE TABLE IMDB_DB_BRONZE.tb_title_ratings (\n",
    "  tconst STRING,\n",
    "  averageRating STRING,\n",
    "  numVotes STRING\n",
    ")"
   ]
  },
  {
   "cell_type": "code",
   "execution_count": 0,
   "metadata": {
    "application/vnd.databricks.v1+cell": {
     "cellMetadata": {
      "byteLimit": 2048000,
      "rowLimit": 10000
     },
     "inputWidgets": {},
     "nuid": "f1800cbb-e20c-4c2c-adec-cebdc7544f69",
     "showTitle": false,
     "tableResultSettingsMap": {},
     "title": ""
    }
   },
   "outputs": [],
   "source": [
    "df_title_rattings.write.format(\"delta\").mode(\"overwrite\").saveAsTable(\"IMDB_DB_BRONZE.tb_title_ratings\")"
   ]
  },
  {
   "cell_type": "markdown",
   "metadata": {
    "application/vnd.databricks.v1+cell": {
     "cellMetadata": {
      "byteLimit": 2048000,
      "rowLimit": 10000
     },
     "inputWidgets": {},
     "nuid": "8666428d-cd9d-4eeb-89e2-73d76df0e38c",
     "showTitle": false,
     "tableResultSettingsMap": {},
     "title": ""
    }
   },
   "source": [
    "Verificando se todos os registros foram importados corretamente."
   ]
  },
  {
   "cell_type": "code",
   "execution_count": 0,
   "metadata": {
    "application/vnd.databricks.v1+cell": {
     "cellMetadata": {
      "byteLimit": 2048000,
      "implicitDf": true,
      "rowLimit": 10000
     },
     "inputWidgets": {},
     "nuid": "e180af58-65eb-4445-8bdb-e2c47eb849f0",
     "showTitle": false,
     "tableResultSettingsMap": {},
     "title": ""
    }
   },
   "outputs": [
    {
     "output_type": "display_data",
     "data": {
      "text/html": [
       "<style scoped>\n",
       "  .table-result-container {\n",
       "    max-height: 300px;\n",
       "    overflow: auto;\n",
       "  }\n",
       "  table, th, td {\n",
       "    border: 1px solid black;\n",
       "    border-collapse: collapse;\n",
       "  }\n",
       "  th, td {\n",
       "    padding: 5px;\n",
       "  }\n",
       "  th {\n",
       "    text-align: left;\n",
       "  }\n",
       "</style><div class='table-result-container'><table class='table-result'><thead style='background-color: white'><tr><th>TOTAL_REGISTROS</th><th>VERIFICACAO</th></tr></thead><tbody><tr><td>1549448</td><td>OK</td></tr></tbody></table></div>"
      ]
     },
     "metadata": {
      "application/vnd.databricks.v1+output": {
       "addedWidgets": {},
       "aggData": [],
       "aggError": "",
       "aggOverflow": false,
       "aggSchema": [],
       "aggSeriesLimitReached": false,
       "aggType": "",
       "arguments": {},
       "columnCustomDisplayInfos": {},
       "data": [
        [
         1549448,
         "OK"
        ]
       ],
       "datasetInfos": [],
       "dbfsResultPath": null,
       "isJsonSchema": true,
       "metadata": {},
       "overflow": false,
       "plotOptions": {
        "customPlotOptions": {},
        "displayType": "table",
        "pivotAggregation": null,
        "pivotColumns": null,
        "xColumns": null,
        "yColumns": null
       },
       "removedWidgets": [],
       "schema": [
        {
         "metadata": "{}",
         "name": "TOTAL_REGISTROS",
         "type": "\"long\""
        },
        {
         "metadata": "{}",
         "name": "VERIFICACAO",
         "type": "\"string\""
        }
       ],
       "type": "table"
      }
     },
     "output_type": "display_data"
    }
   ],
   "source": [
    "%sql\n",
    "-- Conferência dasa quantidades de registros\n",
    "--------------------------------------------\n",
    "SELECT COUNT(0) TOTAL_REGISTROS, CASE WHEN COUNT(0) = 1549448 THEN  'OK' ELSE 'ERRO - VALOR DIFERENTE DE 1.549.448 REGISTROS' END AS VERIFICACAO \n",
    "FROM IMDB_DB_BRONZE.tb_title_ratings;"
   ]
  }
 ],
 "metadata": {
  "application/vnd.databricks.v1+notebook": {
   "computePreferences": null,
   "dashboards": [],
   "environmentMetadata": {
    "base_environment": "",
    "environment_version": "1"
   },
   "inputWidgetPreferences": null,
   "language": "python",
   "notebookMetadata": {
    "mostRecentlyExecutedCommandWithImplicitDF": {
     "commandId": 239864325692336,
     "dataframes": [
      "_sqldf"
     ]
    },
    "pythonIndentUnit": 4
   },
   "notebookName": "Thomas-Notebook-PUC-RIO - Camada Bronze",
   "widgets": {}
  }
 },
 "nbformat": 4,
 "nbformat_minor": 0
}