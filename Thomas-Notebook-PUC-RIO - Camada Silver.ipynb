{
 "cells": [
  {
   "cell_type": "markdown",
   "metadata": {
    "application/vnd.databricks.v1+cell": {
     "cellMetadata": {
      "byteLimit": 2048000,
      "rowLimit": 10000
     },
     "inputWidgets": {},
     "nuid": "11084755-ae4a-49c9-af8d-dd8e79809645",
     "showTitle": false,
     "tableResultSettingsMap": {},
     "title": ""
    }
   },
   "source": [
    "#MVP Engenharia de Dados - 2025\n",
    "Thomas A. S. Abrantes\n"
   ]
  },
  {
   "cell_type": "markdown",
   "metadata": {
    "application/vnd.databricks.v1+cell": {
     "cellMetadata": {
      "byteLimit": 2048000,
      "rowLimit": 10000
     },
     "inputWidgets": {},
     "nuid": "42c43a18-3c42-4d68-9300-d609e675bef6",
     "showTitle": false,
     "tableResultSettingsMap": {},
     "title": ""
    }
   },
   "source": [
    "### Setup para rodar o notebook com os dados\n",
    "- Imports das bibliotecas para consumo dos dados."
   ]
  },
  {
   "cell_type": "code",
   "execution_count": 0,
   "metadata": {
    "application/vnd.databricks.v1+cell": {
     "cellMetadata": {
      "byteLimit": 2048000,
      "rowLimit": 10000
     },
     "inputWidgets": {},
     "nuid": "7cad2d30-f139-4cc3-be49-010ed6605214",
     "showTitle": false,
     "tableResultSettingsMap": {},
     "title": ""
    }
   },
   "outputs": [],
   "source": [
    "#bibioteca para uso do comando com Pandas\n",
    "import pandas as pd\n",
    "\n",
    "#biblioteca para carga de dados e request dos dados\n",
    "import io\n",
    "import requests"
   ]
  },
  {
   "cell_type": "markdown",
   "metadata": {
    "application/vnd.databricks.v1+cell": {
     "cellMetadata": {
      "byteLimit": 2048000,
      "rowLimit": 10000
     },
     "inputWidgets": {},
     "nuid": "c544475d-3a3f-4fa4-98c4-e9801d4cb7fc",
     "showTitle": false,
     "tableResultSettingsMap": {},
     "title": ""
    }
   },
   "source": [
    "#Camada Silver<center>"
   ]
  },
  {
   "cell_type": "markdown",
   "metadata": {
    "application/vnd.databricks.v1+cell": {
     "cellMetadata": {
      "byteLimit": 2048000,
      "rowLimit": 10000
     },
     "inputWidgets": {},
     "nuid": "0258cb8a-bd33-4ca8-9455-5d83a5c679b4",
     "showTitle": false,
     "tableResultSettingsMap": {},
     "title": ""
    }
   },
   "source": [
    "**OBSERVAÇÃO**:  \n",
    "- Nesta versão do databricks ele não permite a criação de chave primária e estrangeira. \n",
    "- Desta forma na camada SILVER os campos CHAVE da tabela são NOT NULL evitando a carga de valor nulo e CHAVE duplicada."
   ]
  },
  {
   "cell_type": "markdown",
   "metadata": {
    "application/vnd.databricks.v1+cell": {
     "cellMetadata": {
      "byteLimit": 2048000,
      "rowLimit": 10000
     },
     "inputWidgets": {},
     "nuid": "15883c67-8a51-4245-9a1b-bb21d4fdb288",
     "showTitle": false,
     "tableResultSettingsMap": {},
     "title": ""
    }
   },
   "source": [
    "Para a camada SILVER será criada o banco de dados (schema) IMDB_DB_SILVER com tratamento dos dados das tabelas criadas em IMDB_DB_BRONZE.\n",
    "Na migração dos dados, as tabelas permanecem com mesmo nome no schema IMDB_DB_SILVER mas com os seguintes tratamentos dos dados:\n",
    "\n",
    "- Criar tabelas com o tipo das colunas de acordo com a documentação no dicionário de dados.\n",
    "- Remover a legenda \"\\N\" em algumas colunas que indica que o valor \"não é aplicável\".\n",
    "- Validar chaves duplicadas se houver.\n",
    "- Validar a quantidade de registros importados para o IMDB_DB_SILVER silver em comparação com o IMDB_DB_BRONZE.\n",
    "- Tratamentos específicos em algumas tabelas se for necessário e se houver será informado abaixo.\n",
    "\n"
   ]
  },
  {
   "cell_type": "code",
   "execution_count": 0,
   "metadata": {
    "application/vnd.databricks.v1+cell": {
     "cellMetadata": {
      "byteLimit": 2048000,
      "implicitDf": true,
      "rowLimit": 10000
     },
     "inputWidgets": {},
     "nuid": "4c816681-f719-4546-add2-ec43e7b176ad",
     "showTitle": false,
     "tableResultSettingsMap": {},
     "title": ""
    }
   },
   "outputs": [
    {
     "output_type": "display_data",
     "data": {
      "text/html": [
       "<style scoped>\n",
       "  .table-result-container {\n",
       "    max-height: 300px;\n",
       "    overflow: auto;\n",
       "  }\n",
       "  table, th, td {\n",
       "    border: 1px solid black;\n",
       "    border-collapse: collapse;\n",
       "  }\n",
       "  th, td {\n",
       "    padding: 5px;\n",
       "  }\n",
       "  th {\n",
       "    text-align: left;\n",
       "  }\n",
       "</style><div class='table-result-container'><table class='table-result'><thead style='background-color: white'><tr></tr></thead><tbody></tbody></table></div>"
      ]
     },
     "metadata": {
      "application/vnd.databricks.v1+output": {
       "addedWidgets": {},
       "aggData": [],
       "aggError": "",
       "aggOverflow": false,
       "aggSchema": [],
       "aggSeriesLimitReached": false,
       "aggType": "",
       "arguments": {},
       "columnCustomDisplayInfos": {},
       "data": [],
       "datasetInfos": [],
       "dbfsResultPath": null,
       "isJsonSchema": true,
       "metadata": {},
       "overflow": false,
       "plotOptions": {
        "customPlotOptions": {},
        "displayType": "table",
        "pivotAggregation": null,
        "pivotColumns": null,
        "xColumns": null,
        "yColumns": null
       },
       "removedWidgets": [],
       "schema": [],
       "type": "table"
      }
     },
     "output_type": "display_data"
    }
   ],
   "source": [
    "%sql\n",
    "-- Removendo Schema para recriar\n",
    "DROP SCHEMA IF EXISTS IMDB_DB_SILVER CASCADE;\n",
    "\n",
    "-- CRIANDO O BANCO DE DADOS (schema)\n",
    "CREATE SCHEMA IMDB_DB_SILVER;"
   ]
  },
  {
   "cell_type": "markdown",
   "metadata": {
    "application/vnd.databricks.v1+cell": {
     "cellMetadata": {
      "byteLimit": 2048000,
      "rowLimit": 10000
     },
     "inputWidgets": {},
     "nuid": "7955d6d4-11e8-4cfb-a426-917e1bc52116",
     "showTitle": false,
     "tableResultSettingsMap": {},
     "title": ""
    }
   },
   "source": [
    "###Criando e preenchendo a \"**tb_title.akas.tsv**\"."
   ]
  },
  {
   "cell_type": "markdown",
   "metadata": {
    "application/vnd.databricks.v1+cell": {
     "cellMetadata": {
      "byteLimit": 2048000,
      "rowLimit": 10000
     },
     "inputWidgets": {},
     "nuid": "ee6805fc-768d-4ba9-880e-5c4d1e671662",
     "showTitle": false,
     "tableResultSettingsMap": {},
     "title": ""
    }
   },
   "source": [
    "- Colunas da tabela com tipo de acordo com dicionário de dados.\n",
    "- Tratando os campos que do tipo string (texto) e tenha valor \"\\N\" (não aplicável) com valor [vazio].\n",
    "- Seguindo a documentação composta no dicionário, convertendo as colunas 'ordering' e 'isOriginalTitle' para o tipo numérico e inteiro e preenchendo com 0 (Zero) se o valor for nulo.\n",
    "- Formatação na coluna \"region\".\n",
    "- Formatação nas colunas \"language\" e \"attributes\".\n",
    "- Tratamento de valores nulos com dataFrame criado na camada Bronze.\n",
    "- Prenchendo a tabela com valores tratados com origem da tabela IMDB_DB_BRONZE.tb_title_akas na camada SILVER"
   ]
  },
  {
   "cell_type": "code",
   "execution_count": 0,
   "metadata": {
    "application/vnd.databricks.v1+cell": {
     "cellMetadata": {
      "byteLimit": 2048000,
      "rowLimit": 10000
     },
     "inputWidgets": {},
     "nuid": "26464248-7910-4abe-8e50-f62e2f12935a",
     "showTitle": false,
     "tableResultSettingsMap": {},
     "title": ""
    }
   },
   "outputs": [
    {
     "output_type": "stream",
     "name": "stdout",
     "output_type": "stream",
     "text": [
      "Out[58]: False"
     ]
    }
   ],
   "source": [
    "#Removendo vínculo do arquivo da tabela\n",
    "dbutils.fs.rm(\"dbfs:/user/hive/warehouse/imdb_db_silver.db/tb_title_akas/\", True)"
   ]
  },
  {
   "cell_type": "code",
   "execution_count": 0,
   "metadata": {
    "application/vnd.databricks.v1+cell": {
     "cellMetadata": {
      "byteLimit": 2048000,
      "implicitDf": true,
      "rowLimit": 10000
     },
     "inputWidgets": {},
     "nuid": "f321b43d-41af-461e-9050-41d9950271b5",
     "showTitle": false,
     "tableResultSettingsMap": {
      "0": {
       "dataGridStateBlob": null,
       "filterBlob": "{\"filterGroups\":[],\"syncTimestamp\":1744250411991}",
       "queryPlanFiltersBlob": null,
       "tableResultIndex": 0
      }
     },
     "title": ""
    }
   },
   "outputs": [
    {
     "output_type": "display_data",
     "data": {
      "text/html": [
       "<style scoped>\n",
       "  .table-result-container {\n",
       "    max-height: 300px;\n",
       "    overflow: auto;\n",
       "  }\n",
       "  table, th, td {\n",
       "    border: 1px solid black;\n",
       "    border-collapse: collapse;\n",
       "  }\n",
       "  th, td {\n",
       "    padding: 5px;\n",
       "  }\n",
       "  th {\n",
       "    text-align: left;\n",
       "  }\n",
       "</style><div class='table-result-container'><table class='table-result'><thead style='background-color: white'><tr><th>num_affected_rows</th><th>num_inserted_rows</th></tr></thead><tbody><tr><td>51734703</td><td>51734703</td></tr></tbody></table></div>"
      ]
     },
     "metadata": {
      "application/vnd.databricks.v1+output": {
       "addedWidgets": {},
       "aggData": [],
       "aggError": "",
       "aggOverflow": false,
       "aggSchema": [],
       "aggSeriesLimitReached": false,
       "aggType": "",
       "arguments": {},
       "columnCustomDisplayInfos": {},
       "data": [
        [
         51734703,
         51734703
        ]
       ],
       "datasetInfos": [],
       "dbfsResultPath": null,
       "isJsonSchema": true,
       "metadata": {},
       "overflow": false,
       "plotOptions": {
        "customPlotOptions": {},
        "displayType": "table",
        "pivotAggregation": null,
        "pivotColumns": null,
        "xColumns": null,
        "yColumns": null
       },
       "removedWidgets": [],
       "schema": [
        {
         "metadata": "{}",
         "name": "num_affected_rows",
         "type": "\"long\""
        },
        {
         "metadata": "{}",
         "name": "num_inserted_rows",
         "type": "\"long\""
        }
       ],
       "type": "table"
      }
     },
     "output_type": "display_data"
    }
   ],
   "source": [
    "%sql\n",
    "-- Criando a tabela \"tb_title_akas\"\n",
    "CREATE OR REPLACE TABLE IMDB_DB_SILVER.tb_title_akas (\n",
    "    titleId CHAR(10) NOT NULL,\n",
    "    ordering INT NOT NULL,\n",
    "    title VARCHAR(1000) NOT NULL,\n",
    "    region CHAR(5),\n",
    "    language CHAR(3),\n",
    "    types VARCHAR(50),\n",
    "    attributes VARCHAR(150),\n",
    "    isOriginalTitle INT NOT NULL \n",
    ");\n",
    "\n",
    "INSERT INTO IMDB_DB_SILVER.tb_title_akas (\n",
    "    titleId,\n",
    "    ordering,\n",
    "    title,\n",
    "    region,\n",
    "    language,\n",
    "    types,\n",
    "    attributes,\n",
    "    isOriginalTitle\n",
    ")\n",
    "SELECT \n",
    "    titleId,\n",
    "    ordering,\n",
    "    title,\n",
    "    CASE WHEN TRIM(region) = '\\\\N' THEN NULL ELSE region END region,\n",
    "    CASE WHEN TRIM(language) = '\\\\N' THEN NULL ELSE language END language,\n",
    "    CASE WHEN TRIM(types) = '\\\\N' THEN NULL ELSE types END types,\n",
    "    CASE WHEN TRIM(attributes) = '\\\\N' THEN NULL ELSE attributes END attributes,\n",
    "    CASE WHEN isOriginalTitle IS NULL THEN 0 ELSE isOriginalTitle END isOriginalTitle\n",
    "FROM IMDB_DB_BRONZE.tb_title_akas;"
   ]
  },
  {
   "cell_type": "code",
   "execution_count": 0,
   "metadata": {
    "application/vnd.databricks.v1+cell": {
     "cellMetadata": {
      "byteLimit": 2048000,
      "implicitDf": true,
      "rowLimit": 10000
     },
     "inputWidgets": {},
     "nuid": "17d9ec8b-85a1-4c5f-875b-b867034a1db6",
     "showTitle": false,
     "tableResultSettingsMap": {},
     "title": ""
    }
   },
   "outputs": [
    {
     "output_type": "display_data",
     "data": {
      "text/html": [
       "<style scoped>\n",
       "  .table-result-container {\n",
       "    max-height: 300px;\n",
       "    overflow: auto;\n",
       "  }\n",
       "  table, th, td {\n",
       "    border: 1px solid black;\n",
       "    border-collapse: collapse;\n",
       "  }\n",
       "  th, td {\n",
       "    padding: 5px;\n",
       "  }\n",
       "  th {\n",
       "    text-align: left;\n",
       "  }\n",
       "</style><div class='table-result-container'><table class='table-result'><thead style='background-color: white'><tr><th>titleId</th><th>ordering</th><th>title</th><th>region</th><th>language</th><th>types</th><th>attributes</th><th>isOriginalTitle</th></tr></thead><tbody><tr><td>tt0000005</td><td>1</td><td>Blacksmith Scene</td><td>null</td><td>null</td><td>original</td><td>null</td><td>1</td></tr><tr><td>tt7161844</td><td>1</td><td>Old Friends</td><td>null</td><td>null</td><td>original</td><td>null</td><td>1</td></tr><tr><td>tt1014087</td><td>1</td><td>Tesouro da Juventude</td><td>null</td><td>null</td><td>original</td><td>null</td><td>1</td></tr><tr><td>tt7161906</td><td>1</td><td>Chamber Check: Evolution of a Fight Scene</td><td>null</td><td>null</td><td>original</td><td>null</td><td>1</td></tr><tr><td>tt26341628</td><td>1</td><td>Episode #1.125</td><td>null</td><td>null</td><td>original</td><td>null</td><td>1</td></tr><tr><td>tt7161846</td><td>1</td><td>Retro Wick: Exploring the Unexpected Success of 'John Wick'</td><td>null</td><td>null</td><td>original</td><td>null</td><td>1</td></tr><tr><td>tt1014092</td><td>1</td><td>Episode #4.7</td><td>null</td><td>null</td><td>original</td><td>null</td><td>1</td></tr><tr><td>tt7161828</td><td>1</td><td>Incertezas Críticas</td><td>null</td><td>null</td><td>original</td><td>null</td><td>1</td></tr><tr><td>tt14842066</td><td>1</td><td>Zero Legacy</td><td>null</td><td>null</td><td>original</td><td>null</td><td>1</td></tr><tr><td>tt7161848</td><td>1</td><td>Of Mice and Mo</td><td>null</td><td>null</td><td>original</td><td>null</td><td>1</td></tr><tr><td>tt10140870</td><td>1</td><td>Episode #1.17</td><td>null</td><td>null</td><td>original</td><td>null</td><td>1</td></tr><tr><td>tt7161830</td><td>1</td><td>Opie Takes the Cake</td><td>null</td><td>null</td><td>original</td><td>null</td><td>1</td></tr><tr><td>tt26341667</td><td>1</td><td>Episode #1.144</td><td>null</td><td>null</td><td>original</td><td>null</td><td>1</td></tr><tr><td>tt7161850</td><td>1</td><td>Showtime Southern 500</td><td>null</td><td>null</td><td>original</td><td>null</td><td>1</td></tr><tr><td>tt1014089</td><td>1</td><td>The Turtle</td><td>null</td><td>null</td><td>original</td><td>null</td><td>1</td></tr><tr><td>tt7161870</td><td>1</td><td>John Wick Chapter 2: Wick-vizzed</td><td>null</td><td>null</td><td>original</td><td>null</td><td>1</td></tr><tr><td>tt12474084</td><td>1</td><td>Episode #1.1372</td><td>null</td><td>null</td><td>original</td><td>null</td><td>1</td></tr><tr><td>tt7161872</td><td>1</td><td>Camp Mo</td><td>null</td><td>null</td><td>original</td><td>null</td><td>1</td></tr><tr><td>tt10140890</td><td>1</td><td>Webo</td><td>null</td><td>null</td><td>original</td><td>null</td><td>1</td></tr><tr><td>tt7161836</td><td>1</td><td>Monster Roars</td><td>null</td><td>null</td><td>original</td><td>null</td><td>1</td></tr><tr><td>tt26341629</td><td>1</td><td>Senador García</td><td>null</td><td>null</td><td>original</td><td>null</td><td>1</td></tr><tr><td>tt7161874</td><td>1</td><td>Crown Royal Presents the Matthew & Daniel Hansen 400</td><td>null</td><td>null</td><td>original</td><td>null</td><td>1</td></tr><tr><td>tt10140860</td><td>1</td><td>Walker Valley: The Anime Seatbelt Edition</td><td>null</td><td>null</td><td>original</td><td>null</td><td>1</td></tr><tr><td>tt7161840</td><td>1</td><td>Episode #1.39</td><td>null</td><td>null</td><td>original</td><td>null</td><td>1</td></tr><tr><td>tt14842122</td><td>1</td><td>Suffocate</td><td>null</td><td>null</td><td>original</td><td>null</td><td>1</td></tr><tr><td>tt7161876</td><td>1</td><td>I Married a Monster</td><td>null</td><td>null</td><td>original</td><td>null</td><td>1</td></tr><tr><td>tt10140892</td><td>1</td><td>This is Why We Walk</td><td>null</td><td>null</td><td>original</td><td>null</td><td>1</td></tr><tr><td>tt7161824</td><td>1</td><td>The Sadism</td><td>null</td><td>null</td><td>original</td><td>null</td><td>1</td></tr><tr><td>tt26341644</td><td>1</td><td>Episode #1.134</td><td>null</td><td>null</td><td>original</td><td>null</td><td>1</td></tr><tr><td>tt7161878</td><td>1</td><td>Wild Thing</td><td>null</td><td>null</td><td>original</td><td>null</td><td>1</td></tr></tbody></table></div>"
      ]
     },
     "metadata": {
      "application/vnd.databricks.v1+output": {
       "addedWidgets": {},
       "aggData": [],
       "aggError": "",
       "aggOverflow": false,
       "aggSchema": [],
       "aggSeriesLimitReached": false,
       "aggType": "",
       "arguments": {},
       "columnCustomDisplayInfos": {},
       "data": [
        [
         "tt0000005",
         1,
         "Blacksmith Scene",
         null,
         null,
         "original",
         null,
         1
        ],
        [
         "tt7161844",
         1,
         "Old Friends",
         null,
         null,
         "original",
         null,
         1
        ],
        [
         "tt1014087",
         1,
         "Tesouro da Juventude",
         null,
         null,
         "original",
         null,
         1
        ],
        [
         "tt7161906",
         1,
         "Chamber Check: Evolution of a Fight Scene",
         null,
         null,
         "original",
         null,
         1
        ],
        [
         "tt26341628",
         1,
         "Episode #1.125",
         null,
         null,
         "original",
         null,
         1
        ],
        [
         "tt7161846",
         1,
         "Retro Wick: Exploring the Unexpected Success of 'John Wick'",
         null,
         null,
         "original",
         null,
         1
        ],
        [
         "tt1014092",
         1,
         "Episode #4.7",
         null,
         null,
         "original",
         null,
         1
        ],
        [
         "tt7161828",
         1,
         "Incertezas Críticas",
         null,
         null,
         "original",
         null,
         1
        ],
        [
         "tt14842066",
         1,
         "Zero Legacy",
         null,
         null,
         "original",
         null,
         1
        ],
        [
         "tt7161848",
         1,
         "Of Mice and Mo",
         null,
         null,
         "original",
         null,
         1
        ],
        [
         "tt10140870",
         1,
         "Episode #1.17",
         null,
         null,
         "original",
         null,
         1
        ],
        [
         "tt7161830",
         1,
         "Opie Takes the Cake",
         null,
         null,
         "original",
         null,
         1
        ],
        [
         "tt26341667",
         1,
         "Episode #1.144",
         null,
         null,
         "original",
         null,
         1
        ],
        [
         "tt7161850",
         1,
         "Showtime Southern 500",
         null,
         null,
         "original",
         null,
         1
        ],
        [
         "tt1014089",
         1,
         "The Turtle",
         null,
         null,
         "original",
         null,
         1
        ],
        [
         "tt7161870",
         1,
         "John Wick Chapter 2: Wick-vizzed",
         null,
         null,
         "original",
         null,
         1
        ],
        [
         "tt12474084",
         1,
         "Episode #1.1372",
         null,
         null,
         "original",
         null,
         1
        ],
        [
         "tt7161872",
         1,
         "Camp Mo",
         null,
         null,
         "original",
         null,
         1
        ],
        [
         "tt10140890",
         1,
         "Webo",
         null,
         null,
         "original",
         null,
         1
        ],
        [
         "tt7161836",
         1,
         "Monster Roars",
         null,
         null,
         "original",
         null,
         1
        ],
        [
         "tt26341629",
         1,
         "Senador García",
         null,
         null,
         "original",
         null,
         1
        ],
        [
         "tt7161874",
         1,
         "Crown Royal Presents the Matthew & Daniel Hansen 400",
         null,
         null,
         "original",
         null,
         1
        ],
        [
         "tt10140860",
         1,
         "Walker Valley: The Anime Seatbelt Edition",
         null,
         null,
         "original",
         null,
         1
        ],
        [
         "tt7161840",
         1,
         "Episode #1.39",
         null,
         null,
         "original",
         null,
         1
        ],
        [
         "tt14842122",
         1,
         "Suffocate",
         null,
         null,
         "original",
         null,
         1
        ],
        [
         "tt7161876",
         1,
         "I Married a Monster",
         null,
         null,
         "original",
         null,
         1
        ],
        [
         "tt10140892",
         1,
         "This is Why We Walk",
         null,
         null,
         "original",
         null,
         1
        ],
        [
         "tt7161824",
         1,
         "The Sadism",
         null,
         null,
         "original",
         null,
         1
        ],
        [
         "tt26341644",
         1,
         "Episode #1.134",
         null,
         null,
         "original",
         null,
         1
        ],
        [
         "tt7161878",
         1,
         "Wild Thing",
         null,
         null,
         "original",
         null,
         1
        ]
       ],
       "datasetInfos": [],
       "dbfsResultPath": null,
       "isJsonSchema": true,
       "metadata": {},
       "overflow": false,
       "plotOptions": {
        "customPlotOptions": {},
        "displayType": "table",
        "pivotAggregation": null,
        "pivotColumns": null,
        "xColumns": null,
        "yColumns": null
       },
       "removedWidgets": [],
       "schema": [
        {
         "metadata": "{\"__CHAR_VARCHAR_TYPE_STRING\":\"char(10)\"}",
         "name": "titleId",
         "type": "\"string\""
        },
        {
         "metadata": "{}",
         "name": "ordering",
         "type": "\"integer\""
        },
        {
         "metadata": "{\"__CHAR_VARCHAR_TYPE_STRING\":\"varchar(1000)\"}",
         "name": "title",
         "type": "\"string\""
        },
        {
         "metadata": "{\"__CHAR_VARCHAR_TYPE_STRING\":\"char(5)\"}",
         "name": "region",
         "type": "\"string\""
        },
        {
         "metadata": "{\"__CHAR_VARCHAR_TYPE_STRING\":\"char(3)\"}",
         "name": "language",
         "type": "\"string\""
        },
        {
         "metadata": "{\"__CHAR_VARCHAR_TYPE_STRING\":\"varchar(50)\"}",
         "name": "types",
         "type": "\"string\""
        },
        {
         "metadata": "{\"__CHAR_VARCHAR_TYPE_STRING\":\"varchar(150)\"}",
         "name": "attributes",
         "type": "\"string\""
        },
        {
         "metadata": "{}",
         "name": "isOriginalTitle",
         "type": "\"integer\""
        }
       ],
       "type": "table"
      }
     },
     "output_type": "display_data"
    }
   ],
   "source": [
    "%sql\n",
    "-- LISTANDO OS 30 REGISTROS PARA NÃO FICAR MUITO GRANDE NO GITHUB E COMPROVAR A IMPORTAÇÃO\n",
    "SELECT * FROM IMDB_DB_SILVER.tb_title_akas ORDER BY isOriginalTitle DESC LIMIT 30;"
   ]
  },
  {
   "cell_type": "markdown",
   "metadata": {
    "application/vnd.databricks.v1+cell": {
     "cellMetadata": {
      "byteLimit": 2048000,
      "rowLimit": 10000
     },
     "inputWidgets": {},
     "nuid": "788ebe34-bb4a-48f3-a8c0-6c432ca3c950",
     "showTitle": false,
     "tableResultSettingsMap": {},
     "title": ""
    }
   },
   "source": [
    "Validar os dados importados para a camada SILVER"
   ]
  },
  {
   "cell_type": "code",
   "execution_count": 0,
   "metadata": {
    "application/vnd.databricks.v1+cell": {
     "cellMetadata": {
      "byteLimit": 2048000,
      "implicitDf": true,
      "rowLimit": 10000
     },
     "inputWidgets": {},
     "nuid": "aaa27bc3-9057-44b8-b845-c0d6d04f1bff",
     "showTitle": false,
     "tableResultSettingsMap": {},
     "title": ""
    }
   },
   "outputs": [
    {
     "output_type": "display_data",
     "data": {
      "text/html": [
       "<style scoped>\n",
       "  .table-result-container {\n",
       "    max-height: 300px;\n",
       "    overflow: auto;\n",
       "  }\n",
       "  table, th, td {\n",
       "    border: 1px solid black;\n",
       "    border-collapse: collapse;\n",
       "  }\n",
       "  th, td {\n",
       "    padding: 5px;\n",
       "  }\n",
       "  th {\n",
       "    text-align: left;\n",
       "  }\n",
       "</style><div class='table-result-container'><table class='table-result'><thead style='background-color: white'><tr><th>Resultado</th></tr></thead><tbody><tr><td>Há dados duplicados na tabela</td></tr></tbody></table></div>"
      ]
     },
     "metadata": {
      "application/vnd.databricks.v1+output": {
       "addedWidgets": {},
       "aggData": [],
       "aggError": "",
       "aggOverflow": false,
       "aggSchema": [],
       "aggSeriesLimitReached": false,
       "aggType": "",
       "arguments": {},
       "columnCustomDisplayInfos": {},
       "data": [
        [
         "Há dados duplicados na tabela"
        ]
       ],
       "datasetInfos": [],
       "dbfsResultPath": null,
       "isJsonSchema": true,
       "metadata": {},
       "overflow": false,
       "plotOptions": {
        "customPlotOptions": {},
        "displayType": "table",
        "pivotAggregation": null,
        "pivotColumns": null,
        "xColumns": null,
        "yColumns": null
       },
       "removedWidgets": [],
       "schema": [
        {
         "metadata": "{}",
         "name": "Resultado",
         "type": "\"string\""
        }
       ],
       "type": "table"
      }
     },
     "output_type": "display_data"
    }
   ],
   "source": [
    "%sql\n",
    "-- Verificar duplicidade.\n",
    "-------------------------\n",
    "SELECT CASE WHEN COUNT(0) > 1 THEN 'Há dados duplicados na tabela' ELSE 'Nenhum dado duplicado foi encontrado com a consulta' END AS Resultado \n",
    "FROM (\n",
    "  SELECT titleId, COUNT(0) TOTAL FROM IMDB_DB_SILVER.tb_title_akas GROUP BY titleId HAVING COUNT(0) > 1\n",
    ");"
   ]
  },
  {
   "cell_type": "code",
   "execution_count": 0,
   "metadata": {
    "application/vnd.databricks.v1+cell": {
     "cellMetadata": {
      "byteLimit": 2048000,
      "implicitDf": true,
      "rowLimit": 10000
     },
     "inputWidgets": {},
     "nuid": "c4544c13-aaed-4a63-965a-012bd594d658",
     "showTitle": false,
     "tableResultSettingsMap": {},
     "title": ""
    }
   },
   "outputs": [
    {
     "output_type": "display_data",
     "data": {
      "text/html": [
       "<style scoped>\n",
       "  .table-result-container {\n",
       "    max-height: 300px;\n",
       "    overflow: auto;\n",
       "  }\n",
       "  table, th, td {\n",
       "    border: 1px solid black;\n",
       "    border-collapse: collapse;\n",
       "  }\n",
       "  th, td {\n",
       "    padding: 5px;\n",
       "  }\n",
       "  th {\n",
       "    text-align: left;\n",
       "  }\n",
       "</style><div class='table-result-container'><table class='table-result'><thead style='background-color: white'><tr><th>TOTAL_CAMADA_BRONZE</th><th>TOTAL_CAMADA_SILVER</th><th>VERIFICACAO</th></tr></thead><tbody><tr><td>51734703</td><td>51734703</td><td>OK</td></tr></tbody></table></div>"
      ]
     },
     "metadata": {
      "application/vnd.databricks.v1+output": {
       "addedWidgets": {},
       "aggData": [],
       "aggError": "",
       "aggOverflow": false,
       "aggSchema": [],
       "aggSeriesLimitReached": false,
       "aggType": "",
       "arguments": {},
       "columnCustomDisplayInfos": {},
       "data": [
        [
         51734703,
         51734703,
         "OK"
        ]
       ],
       "datasetInfos": [],
       "dbfsResultPath": null,
       "isJsonSchema": true,
       "metadata": {},
       "overflow": false,
       "plotOptions": {
        "customPlotOptions": {},
        "displayType": "table",
        "pivotAggregation": null,
        "pivotColumns": null,
        "xColumns": null,
        "yColumns": null
       },
       "removedWidgets": [],
       "schema": [
        {
         "metadata": "{}",
         "name": "TOTAL_CAMADA_BRONZE",
         "type": "\"long\""
        },
        {
         "metadata": "{}",
         "name": "TOTAL_CAMADA_SILVER",
         "type": "\"long\""
        },
        {
         "metadata": "{}",
         "name": "VERIFICACAO",
         "type": "\"string\""
        }
       ],
       "type": "table"
      }
     },
     "output_type": "display_data"
    }
   ],
   "source": [
    "%sql\n",
    "-- Conferência dasa quantidades de registros\n",
    "--------------------------------------------\n",
    "SELECT \n",
    "  (SELECT COUNT(0) FROM imdb_db_bronze.tb_title_akas) TOTAL_CAMADA_BRONZE,\n",
    "  COUNT(0) TOTAL_CAMADA_SILVER, \n",
    "  CASE WHEN COUNT(0) = (SELECT COUNT(0) FROM imdb_db_bronze.tb_title_akas) THEN  'OK' ELSE 'ERRO - QUANTIDADE DE REGISTROS NA CAMADA SILVER DIFERENTE' END AS VERIFICACAO \n",
    "FROM IMDB_DB_SILVER.tb_title_akas;"
   ]
  },
  {
   "cell_type": "markdown",
   "metadata": {
    "application/vnd.databricks.v1+cell": {
     "cellMetadata": {
      "byteLimit": 2048000,
      "rowLimit": 10000
     },
     "inputWidgets": {},
     "nuid": "7fcbd8c8-c6e8-4573-9218-597e7d58db65",
     "showTitle": false,
     "tableResultSettingsMap": {},
     "title": ""
    }
   },
   "source": [
    "###Criando e preenchendo a \"**tb_name_basics**\"."
   ]
  },
  {
   "cell_type": "markdown",
   "metadata": {
    "application/vnd.databricks.v1+cell": {
     "cellMetadata": {
      "byteLimit": 2048000,
      "rowLimit": 10000
     },
     "inputWidgets": {},
     "nuid": "789ebfbf-43de-484c-afff-f71221155ef3",
     "showTitle": false,
     "tableResultSettingsMap": {},
     "title": ""
    }
   },
   "source": [
    "- Colunas da tabela com tipo de acordo com dicionário de dados.\n",
    "- Somente registros com chave não nula \n",
    "- Seguindo a documentação composta no dicionário, convertendo as colunas 'birthYear ' e 'deathYear ' para o tipo numérico e inteiro e preenchendo com 0 (Zero) se o valor for nulo.\n",
    "- Prenchendo a tabela com valores tratados com origem da tabela IMDB_DB_BRONZE.tb_name_basics na camada SILVER\n",
    "- birthYear e deathYear com valores do tipo inteiro e se nulo ou \"\\N\" com valor zero"
   ]
  },
  {
   "cell_type": "code",
   "execution_count": 0,
   "metadata": {
    "application/vnd.databricks.v1+cell": {
     "cellMetadata": {
      "byteLimit": 2048000,
      "rowLimit": 10000
     },
     "inputWidgets": {},
     "nuid": "1d28d527-e267-4265-a900-508169f65284",
     "showTitle": false,
     "tableResultSettingsMap": {},
     "title": ""
    }
   },
   "outputs": [
    {
     "output_type": "stream",
     "name": "stdout",
     "output_type": "stream",
     "text": [
      "Out[62]: False"
     ]
    }
   ],
   "source": [
    "#Removendo vínculo do arquivo da tabela\n",
    "dbutils.fs.rm(\"dbfs:/user/hive/warehouse/imdb_db_silver.db/tb_name_basics/\", True)"
   ]
  },
  {
   "cell_type": "code",
   "execution_count": 0,
   "metadata": {
    "application/vnd.databricks.v1+cell": {
     "cellMetadata": {
      "byteLimit": 2048000,
      "implicitDf": true,
      "rowLimit": 10000
     },
     "inputWidgets": {},
     "nuid": "dbeb5ad4-87a6-4900-addd-616ff2eadb49",
     "showTitle": false,
     "tableResultSettingsMap": {},
     "title": ""
    }
   },
   "outputs": [
    {
     "output_type": "display_data",
     "data": {
      "text/html": [
       "<style scoped>\n",
       "  .table-result-container {\n",
       "    max-height: 300px;\n",
       "    overflow: auto;\n",
       "  }\n",
       "  table, th, td {\n",
       "    border: 1px solid black;\n",
       "    border-collapse: collapse;\n",
       "  }\n",
       "  th, td {\n",
       "    padding: 5px;\n",
       "  }\n",
       "  th {\n",
       "    text-align: left;\n",
       "  }\n",
       "</style><div class='table-result-container'><table class='table-result'><thead style='background-color: white'><tr><th>nconst</th><th>primaryName</th><th>birthYear</th><th>deathYear</th><th>primaryProfession</th><th>knownForTitles</th></tr></thead><tbody><tr><td>nm14249242</td><td>Ronnie Lordi</td><td>2024</td><td>0</td><td>actor,writer,producer</td><td>tt23726038</td></tr><tr><td>nm6703662</td><td>Jerzy Ficowski</td><td>2024</td><td>2006</td><td>writer,miscellaneous,soundtrack</td><td>tt0441074,tt0402621,tt21340576,tt10782220</td></tr><tr><td>nm15136119</td><td>Aris A. Stavropoulos</td><td>2024</td><td>0</td><td>producer</td><td>tt27242470</td></tr><tr><td>nm16698473</td><td>Moo Deng</td><td>2024</td><td>0</td><td>archive_footage</td><td>tt0044298</td></tr><tr><td>nm16864648</td><td>Alexandra Ardelyan</td><td>2024</td><td>0</td><td>writer,editor,director</td><td>tt35166273,tt35675660</td></tr><tr><td>nm17086023</td><td>Leo Rogic</td><td>2023</td><td>0</td><td>actor</td><td>tt31868189</td></tr><tr><td>nm15864570</td><td>Jimmy Dale Murray</td><td>2023</td><td>0</td><td>actor</td><td>tt27567400</td></tr><tr><td>nm15263526</td><td>Ntombi Hlatswayo</td><td>2023</td><td>0</td><td>set_decorator</td><td>tt29144943</td></tr><tr><td>nm16458484</td><td>Ella Skye Broadfoot</td><td>2023</td><td>0</td><td>actress</td><td>tt33247659</td></tr><tr><td>nm11786384</td><td>Hari Tahov</td><td>2022</td><td>0</td><td>actor,director,writer</td><td>tt12826302,tt21047332,tt32986771,tt27250635</td></tr><tr><td>nm15668814</td><td>Vedah Malak</td><td>2022</td><td>0</td><td>actor,miscellaneous</td><td>tt31022171,tt27818128,tt35350187,tt35253438</td></tr><tr><td>nm17128953</td><td>Mariano Medrano</td><td>2022</td><td>0</td><td>actor</td><td>tt31868189</td></tr><tr><td>nm16165933</td><td>Koo See-woo</td><td>2022</td><td>0</td><td>actor</td><td>tt27668559</td></tr><tr><td>nm14056587</td><td>Arlene Grigoryan</td><td>2022</td><td>0</td><td>actress</td><td>tt28774640,tt22409452,tt12164342</td></tr><tr><td>nm16367490</td><td>Penelope Dukes</td><td>2022</td><td>0</td><td>actress</td><td>tt33078484</td></tr><tr><td>nm13607196</td><td>Kira Glodan</td><td>2022</td><td>2022</td><td>archive_footage</td><td>tt18363546</td></tr><tr><td>nm9786539</td><td>Doguhan Kabadayi</td><td>2021</td><td>0</td><td>actor</td><td>tt0806910,tt33084218,tt9873652,tt28072387</td></tr><tr><td>nm4723668</td><td>Ali Betil</td><td>2021</td><td>2021</td><td>producer,director,cinematographer</td><td>tt16252698,tt2639344,tt2084936,tt2011953</td></tr><tr><td>nm15131530</td><td>Octavia Wirdman</td><td>2021</td><td>0</td><td>actress</td><td>tt28625003</td></tr><tr><td>nm12515594</td><td>Noah Lira</td><td>2021</td><td>0</td><td>actor,cinematographer</td><td>tt14518110</td></tr><tr><td>nm15386543</td><td>Maksymilian Janusz</td><td>2021</td><td>0</td><td>actor</td><td>tt23752542</td></tr><tr><td>nm14056398</td><td>Sienna Elizabeth Mozzi</td><td>2021</td><td>0</td><td>archive_footage</td><td>tt20835800,tt27667834,tt27667521</td></tr><tr><td>nm16982686</td><td>Craig Williams</td><td>2021</td><td>0</td><td>actor</td><td>tt0165042</td></tr><tr><td>nm12641996</td><td>Lilibet Diana Mountbatten-Windsor</td><td>2021</td><td>0</td><td>archive_footage</td><td>tt15319588,tt27667834,tt27667521</td></tr><tr><td>nm13653274</td><td>Maverick James</td><td>2021</td><td>0</td><td>actor</td><td>tt5715524</td></tr><tr><td>nm13668002</td><td>Olivia Ivy Storgaard</td><td>2021</td><td>0</td><td>actress</td><td>tt19389572</td></tr><tr><td>nm13873477</td><td>Herman Ahmadi</td><td>2021</td><td>0</td><td>actor</td><td>tt21355636,tt31259040</td></tr><tr><td>nm14623525</td><td>Liam Arens</td><td>2021</td><td>0</td><td>actor</td><td>tt25417370</td></tr><tr><td>nm14708991</td><td>Wave Set Cephus</td><td>2021</td><td>0</td><td>actor</td><td>tt15084854</td></tr><tr><td>nm14756844</td><td>Peyton Ervolina</td><td>2021</td><td>0</td><td>actress</td><td>tt0056758,tt0413573</td></tr></tbody></table></div>"
      ]
     },
     "metadata": {
      "application/vnd.databricks.v1+output": {
       "addedWidgets": {},
       "aggData": [],
       "aggError": "",
       "aggOverflow": false,
       "aggSchema": [],
       "aggSeriesLimitReached": false,
       "aggType": "",
       "arguments": {},
       "columnCustomDisplayInfos": {},
       "data": [
        [
         "nm14249242",
         "Ronnie Lordi",
         2024,
         0,
         "actor,writer,producer",
         "tt23726038"
        ],
        [
         "nm6703662",
         "Jerzy Ficowski",
         2024,
         2006,
         "writer,miscellaneous,soundtrack",
         "tt0441074,tt0402621,tt21340576,tt10782220"
        ],
        [
         "nm15136119",
         "Aris A. Stavropoulos",
         2024,
         0,
         "producer",
         "tt27242470"
        ],
        [
         "nm16698473",
         "Moo Deng",
         2024,
         0,
         "archive_footage",
         "tt0044298"
        ],
        [
         "nm16864648",
         "Alexandra Ardelyan",
         2024,
         0,
         "writer,editor,director",
         "tt35166273,tt35675660"
        ],
        [
         "nm17086023",
         "Leo Rogic",
         2023,
         0,
         "actor",
         "tt31868189"
        ],
        [
         "nm15864570",
         "Jimmy Dale Murray",
         2023,
         0,
         "actor",
         "tt27567400"
        ],
        [
         "nm15263526",
         "Ntombi Hlatswayo",
         2023,
         0,
         "set_decorator",
         "tt29144943"
        ],
        [
         "nm16458484",
         "Ella Skye Broadfoot",
         2023,
         0,
         "actress",
         "tt33247659"
        ],
        [
         "nm11786384",
         "Hari Tahov",
         2022,
         0,
         "actor,director,writer",
         "tt12826302,tt21047332,tt32986771,tt27250635"
        ],
        [
         "nm15668814",
         "Vedah Malak",
         2022,
         0,
         "actor,miscellaneous",
         "tt31022171,tt27818128,tt35350187,tt35253438"
        ],
        [
         "nm17128953",
         "Mariano Medrano",
         2022,
         0,
         "actor",
         "tt31868189"
        ],
        [
         "nm16165933",
         "Koo See-woo",
         2022,
         0,
         "actor",
         "tt27668559"
        ],
        [
         "nm14056587",
         "Arlene Grigoryan",
         2022,
         0,
         "actress",
         "tt28774640,tt22409452,tt12164342"
        ],
        [
         "nm16367490",
         "Penelope Dukes",
         2022,
         0,
         "actress",
         "tt33078484"
        ],
        [
         "nm13607196",
         "Kira Glodan",
         2022,
         2022,
         "archive_footage",
         "tt18363546"
        ],
        [
         "nm9786539",
         "Doguhan Kabadayi",
         2021,
         0,
         "actor",
         "tt0806910,tt33084218,tt9873652,tt28072387"
        ],
        [
         "nm4723668",
         "Ali Betil",
         2021,
         2021,
         "producer,director,cinematographer",
         "tt16252698,tt2639344,tt2084936,tt2011953"
        ],
        [
         "nm15131530",
         "Octavia Wirdman",
         2021,
         0,
         "actress",
         "tt28625003"
        ],
        [
         "nm12515594",
         "Noah Lira",
         2021,
         0,
         "actor,cinematographer",
         "tt14518110"
        ],
        [
         "nm15386543",
         "Maksymilian Janusz",
         2021,
         0,
         "actor",
         "tt23752542"
        ],
        [
         "nm14056398",
         "Sienna Elizabeth Mozzi",
         2021,
         0,
         "archive_footage",
         "tt20835800,tt27667834,tt27667521"
        ],
        [
         "nm16982686",
         "Craig Williams",
         2021,
         0,
         "actor",
         "tt0165042"
        ],
        [
         "nm12641996",
         "Lilibet Diana Mountbatten-Windsor",
         2021,
         0,
         "archive_footage",
         "tt15319588,tt27667834,tt27667521"
        ],
        [
         "nm13653274",
         "Maverick James",
         2021,
         0,
         "actor",
         "tt5715524"
        ],
        [
         "nm13668002",
         "Olivia Ivy Storgaard",
         2021,
         0,
         "actress",
         "tt19389572"
        ],
        [
         "nm13873477",
         "Herman Ahmadi",
         2021,
         0,
         "actor",
         "tt21355636,tt31259040"
        ],
        [
         "nm14623525",
         "Liam Arens",
         2021,
         0,
         "actor",
         "tt25417370"
        ],
        [
         "nm14708991",
         "Wave Set Cephus",
         2021,
         0,
         "actor",
         "tt15084854"
        ],
        [
         "nm14756844",
         "Peyton Ervolina",
         2021,
         0,
         "actress",
         "tt0056758,tt0413573"
        ]
       ],
       "datasetInfos": [],
       "dbfsResultPath": null,
       "isJsonSchema": true,
       "metadata": {},
       "overflow": false,
       "plotOptions": {
        "customPlotOptions": {},
        "displayType": "table",
        "pivotAggregation": null,
        "pivotColumns": null,
        "xColumns": null,
        "yColumns": null
       },
       "removedWidgets": [],
       "schema": [
        {
         "metadata": "{\"__CHAR_VARCHAR_TYPE_STRING\":\"char(10)\"}",
         "name": "nconst",
         "type": "\"string\""
        },
        {
         "metadata": "{\"__CHAR_VARCHAR_TYPE_STRING\":\"varchar(200)\"}",
         "name": "primaryName",
         "type": "\"string\""
        },
        {
         "metadata": "{}",
         "name": "birthYear",
         "type": "\"integer\""
        },
        {
         "metadata": "{}",
         "name": "deathYear",
         "type": "\"integer\""
        },
        {
         "metadata": "{\"__CHAR_VARCHAR_TYPE_STRING\":\"varchar(500)\"}",
         "name": "primaryProfession",
         "type": "\"string\""
        },
        {
         "metadata": "{\"__CHAR_VARCHAR_TYPE_STRING\":\"varchar(500)\"}",
         "name": "knownForTitles",
         "type": "\"string\""
        }
       ],
       "type": "table"
      }
     },
     "output_type": "display_data"
    }
   ],
   "source": [
    "%sql\n",
    "CREATE OR REPLACE TABLE IMDB_DB_SILVER.tb_name_basics (\n",
    "  nconst CHAR(10) NOT NULL,\n",
    "  primaryName VARCHAR(200) NOT NULL,\n",
    "  birthYear INT NOT NULL,\n",
    "  deathYear INT NOT NULL,\n",
    "  primaryProfession VARCHAR(500),\n",
    "  knownForTitles VARCHAR(500)\n",
    ");\n",
    "\n",
    "INSERT INTO IMDB_DB_SILVER.tb_name_basics (\n",
    "  nconst,\n",
    "  primaryName,\n",
    "  birthYear,\n",
    "  deathYear,\n",
    "  primaryProfession,\n",
    "  knownForTitles\n",
    ")\n",
    "SELECT \n",
    "  nconst, \n",
    "  primaryName, \n",
    "  CASE WHEN TRIM(birthYear) = '\\\\N' THEN 0 ELSE birthYear END birthYear,\n",
    "  CASE WHEN TRIM(deathYear) = '\\\\N' THEN 0 ELSE deathYear END deathYear,\n",
    "  primaryProfession,\n",
    "  knownForTitles\n",
    "FROM IMDB_DB_BRONZE.tb_name_basics\n",
    "WHERE primaryProfession IS NOT NULL AND TRIM(primaryProfession) <> '\\\\N' \n",
    "  AND knownForTitles IS NOT NULL AND TRIM(knownForTitles) <> '\\\\N' ;\n",
    "\n",
    "-- LISTANDO OS 30 REGISTROS PARA NÃO FICAR MUITO GRANDE NO GITHUB E COMPROVAR A IMPORTAÇÃO\n",
    "SELECT * FROM IMDB_DB_SILVER.tb_name_basics ORDER BY birthYear DESC LIMIT 30;"
   ]
  },
  {
   "cell_type": "markdown",
   "metadata": {
    "application/vnd.databricks.v1+cell": {
     "cellMetadata": {
      "byteLimit": 2048000,
      "rowLimit": 10000
     },
     "inputWidgets": {},
     "nuid": "5310e636-67cc-48c9-9fac-4d78d455c612",
     "showTitle": false,
     "tableResultSettingsMap": {},
     "title": ""
    }
   },
   "source": [
    "Validar os dados importados para a camada SILVER"
   ]
  },
  {
   "cell_type": "code",
   "execution_count": 0,
   "metadata": {
    "application/vnd.databricks.v1+cell": {
     "cellMetadata": {
      "byteLimit": 2048000,
      "implicitDf": true,
      "rowLimit": 10000
     },
     "inputWidgets": {},
     "nuid": "966a0e08-7c61-40c3-88af-8b747c4b64f2",
     "showTitle": false,
     "tableResultSettingsMap": {},
     "title": ""
    }
   },
   "outputs": [
    {
     "output_type": "display_data",
     "data": {
      "text/html": [
       "<style scoped>\n",
       "  .table-result-container {\n",
       "    max-height: 300px;\n",
       "    overflow: auto;\n",
       "  }\n",
       "  table, th, td {\n",
       "    border: 1px solid black;\n",
       "    border-collapse: collapse;\n",
       "  }\n",
       "  th, td {\n",
       "    padding: 5px;\n",
       "  }\n",
       "  th {\n",
       "    text-align: left;\n",
       "  }\n",
       "</style><div class='table-result-container'><table class='table-result'><thead style='background-color: white'><tr><th>Resultado</th></tr></thead><tbody><tr><td>Nenhum dado duplicado foi encontrado com a consulta</td></tr></tbody></table></div>"
      ]
     },
     "metadata": {
      "application/vnd.databricks.v1+output": {
       "addedWidgets": {},
       "aggData": [],
       "aggError": "",
       "aggOverflow": false,
       "aggSchema": [],
       "aggSeriesLimitReached": false,
       "aggType": "",
       "arguments": {},
       "columnCustomDisplayInfos": {},
       "data": [
        [
         "Nenhum dado duplicado foi encontrado com a consulta"
        ]
       ],
       "datasetInfos": [],
       "dbfsResultPath": null,
       "isJsonSchema": true,
       "metadata": {},
       "overflow": false,
       "plotOptions": {
        "customPlotOptions": {},
        "displayType": "table",
        "pivotAggregation": null,
        "pivotColumns": null,
        "xColumns": null,
        "yColumns": null
       },
       "removedWidgets": [],
       "schema": [
        {
         "metadata": "{}",
         "name": "Resultado",
         "type": "\"string\""
        }
       ],
       "type": "table"
      }
     },
     "output_type": "display_data"
    }
   ],
   "source": [
    "%sql\n",
    "-- Verificar duplicidade.\n",
    "-------------------------\n",
    "SELECT CASE WHEN COUNT(0) > 1 THEN 'Há dados duplicados na tabela' ELSE 'Nenhum dado duplicado foi encontrado com a consulta' END AS Resultado \n",
    "FROM (\n",
    "  SELECT nconst, COUNT(0) TOTAL FROM IMDB_DB_SILVER.tb_name_basics GROUP BY nconst HAVING COUNT(0) > 1\n",
    ");"
   ]
  },
  {
   "cell_type": "code",
   "execution_count": 0,
   "metadata": {
    "application/vnd.databricks.v1+cell": {
     "cellMetadata": {
      "byteLimit": 2048000,
      "implicitDf": true,
      "rowLimit": 10000
     },
     "inputWidgets": {},
     "nuid": "b99bcb86-4a47-45b6-9615-3e21baa0b1fc",
     "showTitle": false,
     "tableResultSettingsMap": {},
     "title": ""
    }
   },
   "outputs": [
    {
     "output_type": "display_data",
     "data": {
      "text/html": [
       "<style scoped>\n",
       "  .table-result-container {\n",
       "    max-height: 300px;\n",
       "    overflow: auto;\n",
       "  }\n",
       "  table, th, td {\n",
       "    border: 1px solid black;\n",
       "    border-collapse: collapse;\n",
       "  }\n",
       "  th, td {\n",
       "    padding: 5px;\n",
       "  }\n",
       "  th {\n",
       "    text-align: left;\n",
       "  }\n",
       "</style><div class='table-result-container'><table class='table-result'><thead style='background-color: white'><tr><th>TOTAL_CAMADA_BRONZE</th><th>TOTAL_CAMADA_SILVER</th><th>VERIFICACAO</th></tr></thead><tbody><tr><td>14281080</td><td>11066196</td><td>OK</td></tr></tbody></table></div>"
      ]
     },
     "metadata": {
      "application/vnd.databricks.v1+output": {
       "addedWidgets": {},
       "aggData": [],
       "aggError": "",
       "aggOverflow": false,
       "aggSchema": [],
       "aggSeriesLimitReached": false,
       "aggType": "",
       "arguments": {},
       "columnCustomDisplayInfos": {},
       "data": [
        [
         14281080,
         11066196,
         "OK"
        ]
       ],
       "datasetInfos": [],
       "dbfsResultPath": null,
       "isJsonSchema": true,
       "metadata": {},
       "overflow": false,
       "plotOptions": {
        "customPlotOptions": {},
        "displayType": "table",
        "pivotAggregation": null,
        "pivotColumns": null,
        "xColumns": null,
        "yColumns": null
       },
       "removedWidgets": [],
       "schema": [
        {
         "metadata": "{}",
         "name": "TOTAL_CAMADA_BRONZE",
         "type": "\"long\""
        },
        {
         "metadata": "{}",
         "name": "TOTAL_CAMADA_SILVER",
         "type": "\"long\""
        },
        {
         "metadata": "{}",
         "name": "VERIFICACAO",
         "type": "\"string\""
        }
       ],
       "type": "table"
      }
     },
     "output_type": "display_data"
    }
   ],
   "source": [
    "%sql\n",
    "-- Conferência dasa quantidades de registros\n",
    "--------------------------------------------\n",
    "SELECT \n",
    "  (SELECT COUNT(0) FROM imdb_db_bronze.tb_name_basics) TOTAL_CAMADA_BRONZE,\n",
    "  COUNT(0) TOTAL_CAMADA_SILVER, \n",
    "  CASE WHEN COUNT(0) <= (SELECT COUNT(0) FROM imdb_db_bronze.tb_name_basics) THEN  'OK' ELSE 'ERRO - QUANTIDADE DE REGISTROS NA CAMADA SILVER MAIOR' END AS VERIFICACAO \n",
    "FROM IMDB_DB_SILVER.tb_name_basics;"
   ]
  },
  {
   "cell_type": "markdown",
   "metadata": {
    "application/vnd.databricks.v1+cell": {
     "cellMetadata": {
      "byteLimit": 2048000,
      "rowLimit": 10000
     },
     "inputWidgets": {},
     "nuid": "55455447-9585-4a18-9ddd-1568cac5996a",
     "showTitle": false,
     "tableResultSettingsMap": {},
     "title": ""
    }
   },
   "source": [
    "###Criando e preenchendo a \"tb_title_ratings\"."
   ]
  },
  {
   "cell_type": "markdown",
   "metadata": {
    "application/vnd.databricks.v1+cell": {
     "cellMetadata": {
      "byteLimit": 2048000,
      "rowLimit": 10000
     },
     "inputWidgets": {},
     "nuid": "e3380dd2-fdab-4937-86ab-8207c16c5958",
     "showTitle": false,
     "tableResultSettingsMap": {},
     "title": ""
    }
   },
   "source": [
    "- Colunas da tabela com tipo de acordo com dicionário de dados.\n",
    "- Somente registros com chave não nula \n",
    "- Convertendo as colunas 'numVotes' para o tipo numérico e inteiro e preenchendo com 0 (Zero) se o valor for nulo."
   ]
  },
  {
   "cell_type": "code",
   "execution_count": 0,
   "metadata": {
    "application/vnd.databricks.v1+cell": {
     "cellMetadata": {
      "byteLimit": 2048000,
      "rowLimit": 10000
     },
     "inputWidgets": {},
     "nuid": "4c88fe5c-5196-459f-882e-0f3ac3e4d56a",
     "showTitle": false,
     "tableResultSettingsMap": {},
     "title": ""
    }
   },
   "outputs": [
    {
     "output_type": "stream",
     "name": "stdout",
     "output_type": "stream",
     "text": [
      "Out[66]: False"
     ]
    }
   ],
   "source": [
    "#Removendo vínculo do arquivo da tabela\n",
    "dbutils.fs.rm(\"dbfs:/user/hive/warehouse/imdb_db_silver.db/tb_title_ratings/\", True)"
   ]
  },
  {
   "cell_type": "code",
   "execution_count": 0,
   "metadata": {
    "application/vnd.databricks.v1+cell": {
     "cellMetadata": {
      "byteLimit": 2048000,
      "implicitDf": true,
      "rowLimit": 10000
     },
     "inputWidgets": {},
     "nuid": "e6a074b8-ad45-4d05-9a7a-1a08b75f222c",
     "showTitle": false,
     "tableResultSettingsMap": {},
     "title": ""
    }
   },
   "outputs": [
    {
     "output_type": "display_data",
     "data": {
      "text/html": [
       "<style scoped>\n",
       "  .table-result-container {\n",
       "    max-height: 300px;\n",
       "    overflow: auto;\n",
       "  }\n",
       "  table, th, td {\n",
       "    border: 1px solid black;\n",
       "    border-collapse: collapse;\n",
       "  }\n",
       "  th, td {\n",
       "    padding: 5px;\n",
       "  }\n",
       "  th {\n",
       "    text-align: left;\n",
       "  }\n",
       "</style><div class='table-result-container'><table class='table-result'><thead style='background-color: white'><tr><th>tconst</th><th>averageRating</th><th>numVotes</th></tr></thead><tbody><tr><td>tt7529184</td><td>7.0</td><td>5</td></tr><tr><td>tt35870745</td><td>7.8</td><td>5</td></tr><tr><td>tt10254894</td><td>7.2</td><td>5</td></tr><tr><td>tt35912619</td><td>7.4</td><td>5</td></tr><tr><td>tt0426808</td><td>6.4</td><td>5</td></tr><tr><td>tt35870747</td><td>7.8</td><td>5</td></tr><tr><td>tt10282784</td><td>7.8</td><td>5</td></tr><tr><td>tt35839851</td><td>2.2</td><td>5</td></tr><tr><td>tt0039738</td><td>5.0</td><td>5</td></tr><tr><td>tt3587436</td><td>9.2</td><td>5</td></tr><tr><td>tt10254906</td><td>7.4</td><td>5</td></tr><tr><td>tt35841967</td><td>7.6</td><td>5</td></tr><tr><td>tt0441023</td><td>8.0</td><td>5</td></tr><tr><td>tt3587632</td><td>6.0</td><td>5</td></tr><tr><td>tt10238472</td><td>7.8</td><td>5</td></tr><tr><td>tt35841974</td><td>8.0</td><td>5</td></tr><tr><td>tt14488926</td><td>6.4</td><td>5</td></tr><tr><td>tt35877230</td><td>8.2</td><td>5</td></tr><tr><td>tt10255724</td><td>8.4</td><td>5</td></tr><tr><td>tt35853772</td><td>7.8</td><td>5</td></tr><tr><td>tt0426959</td><td>6.0</td><td>5</td></tr><tr><td>tt35882122</td><td>7.0</td><td>5</td></tr><tr><td>tt1024172</td><td>7.6</td><td>5</td></tr><tr><td>tt35853779</td><td>8.6</td><td>5</td></tr><tr><td>tt0088764</td><td>6.0</td><td>5</td></tr><tr><td>tt35882123</td><td>8.2</td><td>5</td></tr><tr><td>tt10256750</td><td>5.8</td><td>5</td></tr><tr><td>tt35853786</td><td>5.6</td><td>5</td></tr><tr><td>tt0421700</td><td>6.8</td><td>5</td></tr><tr><td>tt35882660</td><td>7.4</td><td>5</td></tr></tbody></table></div>"
      ]
     },
     "metadata": {
      "application/vnd.databricks.v1+output": {
       "addedWidgets": {},
       "aggData": [],
       "aggError": "",
       "aggOverflow": false,
       "aggSchema": [],
       "aggSeriesLimitReached": false,
       "aggType": "",
       "arguments": {},
       "columnCustomDisplayInfos": {},
       "data": [
        [
         "tt7529184",
         "7.0",
         5
        ],
        [
         "tt35870745",
         "7.8",
         5
        ],
        [
         "tt10254894",
         "7.2",
         5
        ],
        [
         "tt35912619",
         "7.4",
         5
        ],
        [
         "tt0426808",
         "6.4",
         5
        ],
        [
         "tt35870747",
         "7.8",
         5
        ],
        [
         "tt10282784",
         "7.8",
         5
        ],
        [
         "tt35839851",
         "2.2",
         5
        ],
        [
         "tt0039738",
         "5.0",
         5
        ],
        [
         "tt3587436",
         "9.2",
         5
        ],
        [
         "tt10254906",
         "7.4",
         5
        ],
        [
         "tt35841967",
         "7.6",
         5
        ],
        [
         "tt0441023",
         "8.0",
         5
        ],
        [
         "tt3587632",
         "6.0",
         5
        ],
        [
         "tt10238472",
         "7.8",
         5
        ],
        [
         "tt35841974",
         "8.0",
         5
        ],
        [
         "tt14488926",
         "6.4",
         5
        ],
        [
         "tt35877230",
         "8.2",
         5
        ],
        [
         "tt10255724",
         "8.4",
         5
        ],
        [
         "tt35853772",
         "7.8",
         5
        ],
        [
         "tt0426959",
         "6.0",
         5
        ],
        [
         "tt35882122",
         "7.0",
         5
        ],
        [
         "tt1024172",
         "7.6",
         5
        ],
        [
         "tt35853779",
         "8.6",
         5
        ],
        [
         "tt0088764",
         "6.0",
         5
        ],
        [
         "tt35882123",
         "8.2",
         5
        ],
        [
         "tt10256750",
         "5.8",
         5
        ],
        [
         "tt35853786",
         "5.6",
         5
        ],
        [
         "tt0421700",
         "6.8",
         5
        ],
        [
         "tt35882660",
         "7.4",
         5
        ]
       ],
       "datasetInfos": [],
       "dbfsResultPath": null,
       "isJsonSchema": true,
       "metadata": {},
       "overflow": false,
       "plotOptions": {
        "customPlotOptions": {},
        "displayType": "table",
        "pivotAggregation": null,
        "pivotColumns": null,
        "xColumns": null,
        "yColumns": null
       },
       "removedWidgets": [],
       "schema": [
        {
         "metadata": "{\"__CHAR_VARCHAR_TYPE_STRING\":\"char(10)\"}",
         "name": "tconst",
         "type": "\"string\""
        },
        {
         "metadata": "{\"__CHAR_VARCHAR_TYPE_STRING\":\"varchar(10)\"}",
         "name": "averageRating",
         "type": "\"string\""
        },
        {
         "metadata": "{}",
         "name": "numVotes",
         "type": "\"integer\""
        }
       ],
       "type": "table"
      }
     },
     "output_type": "display_data"
    }
   ],
   "source": [
    "%sql\n",
    "CREATE OR REPLACE TABLE IMDB_DB_SILVER.tb_title_ratings (\n",
    "  tconst CHAR(10) NOT NULL,\n",
    "  averageRating VARCHAR(10) NOT NULL,\n",
    "  numVotes INT NOT NULL\n",
    ");\n",
    "\n",
    "INSERT INTO IMDB_DB_SILVER.tb_title_ratings (\n",
    "  tconst,\n",
    "  averageRating,\n",
    "  numVotes\n",
    ")\n",
    "SELECT \n",
    "  tconst,\n",
    "  averageRating,\n",
    "  numVotes\n",
    "FROM IMDB_DB_BRONZE.tb_title_ratings\n",
    "WHERE tconst IS NOT NULL\n",
    "  AND averageRating IS NOT NULL\n",
    "  AND numVotes IS NOT NULL;\n",
    "\n",
    "-- LISTANDO OS 30 REGISTROS PARA NÃO FICAR MUITO GRANDE NO GITHUB E COMPROVAR A IMPORTAÇÃO\n",
    "SELECT * FROM IMDB_DB_SILVER.tb_title_ratings ORDER BY numVotes LIMIT 30;"
   ]
  },
  {
   "cell_type": "markdown",
   "metadata": {
    "application/vnd.databricks.v1+cell": {
     "cellMetadata": {
      "byteLimit": 2048000,
      "rowLimit": 10000
     },
     "inputWidgets": {},
     "nuid": "21e9566a-3e3e-4e42-8bd6-0ed0a5fe54f6",
     "showTitle": false,
     "tableResultSettingsMap": {},
     "title": ""
    }
   },
   "source": [
    "Validar os dados importados para a camada SILVER"
   ]
  },
  {
   "cell_type": "code",
   "execution_count": 0,
   "metadata": {
    "application/vnd.databricks.v1+cell": {
     "cellMetadata": {
      "byteLimit": 2048000,
      "implicitDf": true,
      "rowLimit": 10000
     },
     "inputWidgets": {},
     "nuid": "a3227bfe-54f1-4f2e-8624-d8e86972db65",
     "showTitle": false,
     "tableResultSettingsMap": {},
     "title": ""
    }
   },
   "outputs": [
    {
     "output_type": "display_data",
     "data": {
      "text/html": [
       "<style scoped>\n",
       "  .table-result-container {\n",
       "    max-height: 300px;\n",
       "    overflow: auto;\n",
       "  }\n",
       "  table, th, td {\n",
       "    border: 1px solid black;\n",
       "    border-collapse: collapse;\n",
       "  }\n",
       "  th, td {\n",
       "    padding: 5px;\n",
       "  }\n",
       "  th {\n",
       "    text-align: left;\n",
       "  }\n",
       "</style><div class='table-result-container'><table class='table-result'><thead style='background-color: white'><tr><th>Resultado</th></tr></thead><tbody><tr><td>Nenhum dado duplicado foi encontrado com a consulta</td></tr></tbody></table></div>"
      ]
     },
     "metadata": {
      "application/vnd.databricks.v1+output": {
       "addedWidgets": {},
       "aggData": [],
       "aggError": "",
       "aggOverflow": false,
       "aggSchema": [],
       "aggSeriesLimitReached": false,
       "aggType": "",
       "arguments": {},
       "columnCustomDisplayInfos": {},
       "data": [
        [
         "Nenhum dado duplicado foi encontrado com a consulta"
        ]
       ],
       "datasetInfos": [],
       "dbfsResultPath": null,
       "isJsonSchema": true,
       "metadata": {},
       "overflow": false,
       "plotOptions": {
        "customPlotOptions": {},
        "displayType": "table",
        "pivotAggregation": null,
        "pivotColumns": null,
        "xColumns": null,
        "yColumns": null
       },
       "removedWidgets": [],
       "schema": [
        {
         "metadata": "{}",
         "name": "Resultado",
         "type": "\"string\""
        }
       ],
       "type": "table"
      }
     },
     "output_type": "display_data"
    }
   ],
   "source": [
    "%sql\n",
    "-- Veriicar duplicidade.\n",
    "------------------------\n",
    "SELECT CASE WHEN COUNT(0) > 1 THEN 'Há dados duplicados na tabela' ELSE 'Nenhum dado duplicado foi encontrado com a consulta' END AS Resultado \n",
    "FROM (\n",
    "  SELECT tconst, COUNT(0) TOTAL FROM IMDB_DB_SILVER.tb_title_ratings GROUP BY tconst HAVING COUNT(0) > 1\n",
    ");"
   ]
  },
  {
   "cell_type": "code",
   "execution_count": 0,
   "metadata": {
    "application/vnd.databricks.v1+cell": {
     "cellMetadata": {
      "byteLimit": 2048000,
      "implicitDf": true,
      "rowLimit": 10000
     },
     "collapsed": true,
     "inputWidgets": {},
     "nuid": "98291af7-f32f-4cf1-ba4d-f7f5e790ed79",
     "showTitle": false,
     "tableResultSettingsMap": {},
     "title": ""
    }
   },
   "outputs": [
    {
     "output_type": "display_data",
     "data": {
      "text/html": [
       "<style scoped>\n",
       "  .table-result-container {\n",
       "    max-height: 300px;\n",
       "    overflow: auto;\n",
       "  }\n",
       "  table, th, td {\n",
       "    border: 1px solid black;\n",
       "    border-collapse: collapse;\n",
       "  }\n",
       "  th, td {\n",
       "    padding: 5px;\n",
       "  }\n",
       "  th {\n",
       "    text-align: left;\n",
       "  }\n",
       "</style><div class='table-result-container'><table class='table-result'><thead style='background-color: white'><tr><th>len(averageRating)</th></tr></thead><tbody></tbody></table></div>"
      ]
     },
     "metadata": {
      "application/vnd.databricks.v1+output": {
       "addedWidgets": {},
       "aggData": [],
       "aggError": "",
       "aggOverflow": false,
       "aggSchema": [],
       "aggSeriesLimitReached": false,
       "aggType": "",
       "arguments": {},
       "columnCustomDisplayInfos": {},
       "data": [],
       "datasetInfos": [],
       "dbfsResultPath": null,
       "isJsonSchema": true,
       "metadata": {},
       "overflow": false,
       "plotOptions": {
        "customPlotOptions": {},
        "displayType": "table",
        "pivotAggregation": null,
        "pivotColumns": null,
        "xColumns": null,
        "yColumns": null
       },
       "removedWidgets": [],
       "schema": [
        {
         "metadata": "{\"__autoGeneratedAlias\":\"true\"}",
         "name": "len(averageRating)",
         "type": "\"integer\""
        }
       ],
       "type": "table"
      }
     },
     "output_type": "display_data"
    }
   ],
   "source": [
    "%sql\n",
    "-- Verificar se alguma media nao foi preenchida com 3 caracteres [número] [virgula] [número]\n",
    "SELECT len(averageRating) FROM IMDB_DB_SILVER.tb_title_ratings WHERE len(averageRating) < 3;"
   ]
  },
  {
   "cell_type": "code",
   "execution_count": 0,
   "metadata": {
    "application/vnd.databricks.v1+cell": {
     "cellMetadata": {
      "byteLimit": 2048000,
      "implicitDf": true,
      "rowLimit": 10000
     },
     "inputWidgets": {},
     "nuid": "2644cd4a-1261-44ad-be8d-87111d983090",
     "showTitle": false,
     "tableResultSettingsMap": {},
     "title": ""
    }
   },
   "outputs": [
    {
     "output_type": "display_data",
     "data": {
      "text/html": [
       "<style scoped>\n",
       "  .table-result-container {\n",
       "    max-height: 300px;\n",
       "    overflow: auto;\n",
       "  }\n",
       "  table, th, td {\n",
       "    border: 1px solid black;\n",
       "    border-collapse: collapse;\n",
       "  }\n",
       "  th, td {\n",
       "    padding: 5px;\n",
       "  }\n",
       "  th {\n",
       "    text-align: left;\n",
       "  }\n",
       "</style><div class='table-result-container'><table class='table-result'><thead style='background-color: white'><tr><th>TOTAL_CAMADA_BRONZE</th><th>TOTAL_CAMADA_SILVER</th><th>VERIFICACAO</th></tr></thead><tbody><tr><td>1549448</td><td>1549448</td><td>OK</td></tr></tbody></table></div>"
      ]
     },
     "metadata": {
      "application/vnd.databricks.v1+output": {
       "addedWidgets": {},
       "aggData": [],
       "aggError": "",
       "aggOverflow": false,
       "aggSchema": [],
       "aggSeriesLimitReached": false,
       "aggType": "",
       "arguments": {},
       "columnCustomDisplayInfos": {},
       "data": [
        [
         1549448,
         1549448,
         "OK"
        ]
       ],
       "datasetInfos": [],
       "dbfsResultPath": null,
       "isJsonSchema": true,
       "metadata": {},
       "overflow": false,
       "plotOptions": {
        "customPlotOptions": {},
        "displayType": "table",
        "pivotAggregation": null,
        "pivotColumns": null,
        "xColumns": null,
        "yColumns": null
       },
       "removedWidgets": [],
       "schema": [
        {
         "metadata": "{}",
         "name": "TOTAL_CAMADA_BRONZE",
         "type": "\"long\""
        },
        {
         "metadata": "{}",
         "name": "TOTAL_CAMADA_SILVER",
         "type": "\"long\""
        },
        {
         "metadata": "{}",
         "name": "VERIFICACAO",
         "type": "\"string\""
        }
       ],
       "type": "table"
      }
     },
     "output_type": "display_data"
    }
   ],
   "source": [
    "%sql\n",
    "-- Conferência dasa quantidades de registros\n",
    "--------------------------------------------\n",
    "SELECT \n",
    "  (SELECT COUNT(0) FROM imdb_db_bronze.tb_title_ratings) TOTAL_CAMADA_BRONZE,\n",
    "  COUNT(0) TOTAL_CAMADA_SILVER, \n",
    "  CASE WHEN COUNT(0) = (SELECT COUNT(0) FROM imdb_db_bronze.tb_title_ratings) THEN  'OK' ELSE 'ERRO - QUANTIDADE DE REGISTROS NA CAMADA SILVER DIFERENTE' END AS VERIFICACAO \n",
    "FROM IMDB_DB_SILVER.tb_title_ratings;"
   ]
  },
  {
   "cell_type": "markdown",
   "metadata": {
    "application/vnd.databricks.v1+cell": {
     "cellMetadata": {
      "byteLimit": 2048000,
      "rowLimit": 10000
     },
     "inputWidgets": {},
     "nuid": "6cc6c9e0-4cf3-4ed3-8483-43949d9f3dc1",
     "showTitle": false,
     "tableResultSettingsMap": {},
     "title": ""
    }
   },
   "source": [
    "###Criando e preenchendo a \"tb_title_basics\"."
   ]
  },
  {
   "cell_type": "markdown",
   "metadata": {
    "application/vnd.databricks.v1+cell": {
     "cellMetadata": {
      "byteLimit": 2048000,
      "rowLimit": 10000
     },
     "inputWidgets": {},
     "nuid": "4d996ec6-8c51-42a3-92bb-d7909af044bc",
     "showTitle": false,
     "tableResultSettingsMap": {},
     "title": ""
    }
   },
   "source": [
    "- Somente registros com chave não nula \n",
    "- Convertendo a coluna 'isAdult' para o tipo numérico e inteiro e preenchendo com 0 (Zero) se o valor for nulo.\n",
    "- Convertendo as colunas 'startYear' e 'endYear' para o tipo numérico e inteiro e preenchendo com 0 (Zero) se o valor for nulo ou com valor \"\\N\" (não aplicável)."
   ]
  },
  {
   "cell_type": "code",
   "execution_count": 0,
   "metadata": {
    "application/vnd.databricks.v1+cell": {
     "cellMetadata": {
      "byteLimit": 2048000,
      "rowLimit": 10000
     },
     "inputWidgets": {},
     "nuid": "5fb0515e-6460-4fd4-9dec-000910f5d9b4",
     "showTitle": false,
     "tableResultSettingsMap": {},
     "title": ""
    }
   },
   "outputs": [
    {
     "output_type": "stream",
     "name": "stdout",
     "output_type": "stream",
     "text": [
      "Out[71]: False"
     ]
    }
   ],
   "source": [
    "#Removendo vínculo do arquivo da tabela\n",
    "dbutils.fs.rm(\"dbfs:/user/hive/warehouse/imdb_db_silver.db/tb_title_basics/\", True)"
   ]
  },
  {
   "cell_type": "code",
   "execution_count": 0,
   "metadata": {
    "application/vnd.databricks.v1+cell": {
     "cellMetadata": {
      "byteLimit": 2048000,
      "implicitDf": true,
      "rowLimit": 10000
     },
     "inputWidgets": {},
     "nuid": "d4b745f7-0550-4323-b45d-7a0e303fd416",
     "showTitle": false,
     "tableResultSettingsMap": {},
     "title": ""
    }
   },
   "outputs": [
    {
     "output_type": "display_data",
     "data": {
      "text/html": [
       "<style scoped>\n",
       "  .table-result-container {\n",
       "    max-height: 300px;\n",
       "    overflow: auto;\n",
       "  }\n",
       "  table, th, td {\n",
       "    border: 1px solid black;\n",
       "    border-collapse: collapse;\n",
       "  }\n",
       "  th, td {\n",
       "    padding: 5px;\n",
       "  }\n",
       "  th {\n",
       "    text-align: left;\n",
       "  }\n",
       "</style><div class='table-result-container'><table class='table-result'><thead style='background-color: white'><tr><th>tconst</th><th>titleType</th><th>primaryTitle</th><th>originalTitle</th><th>isAdult</th><th>startYear</th><th>endYear</th><th>runtimeMinutes</th><th>genres</th></tr></thead><tbody><tr><td>tt3155794</td><td>short</td><td>Passage de Venus</td><td>Passage de Venus</td><td>0</td><td>1874</td><td>0</td><td>1</td><td>Documentary,History,Short</td></tr><tr><td>tt14495706</td><td>short</td><td>La Rosace Magique</td><td>La Rosace Magique</td><td>0</td><td>1878</td><td>0</td><td>1</td><td>Animation,Short</td></tr><tr><td>tt32172647</td><td>short</td><td>La Glissade</td><td>La Glissade</td><td>0</td><td>1878</td><td>0</td><td>1</td><td>Animation,Short</td></tr><tr><td>tt27119262</td><td>short</td><td>Les Chiens Savants</td><td>Les Chiens Savants</td><td>0</td><td>1878</td><td>0</td><td>1</td><td>Animation,Short</td></tr><tr><td>tt32167266</td><td>short</td><td>Le Trapèze</td><td>Le Trapèze</td><td>0</td><td>1878</td><td>0</td><td>1</td><td>Animation,Short</td></tr><tr><td>tt16763674</td><td>short</td><td>The Tight-rope Dance</td><td>La danse sur la corde</td><td>0</td><td>1878</td><td>0</td><td>1</td><td>Animation,Short</td></tr><tr><td>tt32169827</td><td>short</td><td>L'Aquarium</td><td>L'Aquarium</td><td>0</td><td>1878</td><td>0</td><td>1</td><td>Animation,Short</td></tr><tr><td>tt12592084</td><td>short</td><td>Le singe musicien</td><td>Le singe musicien</td><td>0</td><td>1878</td><td>0</td><td>1</td><td>Animation,Short</td></tr><tr><td>tt32169854</td><td>short</td><td>Le Jongleur</td><td>Le Jongleur</td><td>0</td><td>1878</td><td>0</td><td>1</td><td>Animation,Short</td></tr><tr><td>tt16763740</td><td>short</td><td>Skipping Rope</td><td>Le jeu de corde</td><td>0</td><td>1878</td><td>0</td><td>1</td><td>Animation,Short</td></tr><tr><td>tt32169877</td><td>short</td><td>L'Équilibriste</td><td>L'Équilibriste</td><td>0</td><td>1878</td><td>0</td><td>1</td><td>Animation,Short</td></tr><tr><td>tt16763774</td><td>short</td><td>Dzing. Boom. Boom!</td><td>Zim, Boum, Boum</td><td>0</td><td>1878</td><td>0</td><td>1</td><td>Animation,Short</td></tr><tr><td>tt32169898</td><td>short</td><td>Le Repas des Poulets</td><td>Le Repas des Poulets</td><td>0</td><td>1878</td><td>0</td><td>1</td><td>Animation,Short</td></tr><tr><td>tt2221420</td><td>short</td><td>Sallie Gardner at a Gallop</td><td>Sallie Gardner at a Gallop</td><td>0</td><td>1878</td><td>0</td><td>1</td><td>Documentary,Short,Sport</td></tr><tr><td>tt32169930</td><td>short</td><td>Les Bulles de Savon</td><td>Les Bulles de Savon</td><td>0</td><td>1878</td><td>0</td><td>1</td><td>Animation,Short</td></tr><tr><td>tt32169968</td><td>short</td><td>Le Rotisseur</td><td>Le Rotisseur</td><td>0</td><td>1878</td><td>0</td><td>1</td><td>Animation,Short</td></tr><tr><td>tt32170373</td><td>short</td><td>Les Scieurs de Long</td><td>Les Scieurs de Long</td><td>0</td><td>1878</td><td>0</td><td>1</td><td>Animation,Short</td></tr><tr><td>tt32170827</td><td>short</td><td>Le Jeu du Volant</td><td>Le Jeu du Volant</td><td>0</td><td>1878</td><td>0</td><td>1</td><td>Animation,Short</td></tr><tr><td>tt32171123</td><td>short</td><td>Le Moulin à Eau</td><td>Le Moulin à Eau</td><td>0</td><td>1878</td><td>0</td><td>1</td><td>Animation,Short</td></tr><tr><td>tt32171671</td><td>short</td><td>Le Déjeuner de Bébé</td><td>Le Déjeuner de Bébé</td><td>0</td><td>1878</td><td>0</td><td>1</td><td>Animation,Short</td></tr><tr><td>tt32171946</td><td>short</td><td>Les Papillons</td><td>Les Papillons</td><td>0</td><td>1878</td><td>0</td><td>1</td><td>Animation,Short</td></tr><tr><td>tt32172282</td><td>short</td><td>La Nageuse</td><td>La Nageuse</td><td>0</td><td>1878</td><td>0</td><td>1</td><td>Animation,Short</td></tr><tr><td>tt32172929</td><td>short</td><td>La Charmeuse</td><td>La Charmeuse</td><td>0</td><td>1878</td><td>0</td><td>1</td><td>Animation,Short</td></tr><tr><td>tt32172942</td><td>short</td><td>La Balançoire</td><td>La Balançoire</td><td>0</td><td>1878</td><td>0</td><td>1</td><td>Animation,Short</td></tr><tr><td>tt32172951</td><td>short</td><td>L'Hercule</td><td>L'Hercule</td><td>0</td><td>1878</td><td>0</td><td>1</td><td>Animation,Short</td></tr><tr><td>tt32172972</td><td>short</td><td>Les Deux Espiègles</td><td>Les Deux Espiègles</td><td>0</td><td>1878</td><td>0</td><td>1</td><td>Animation,Short</td></tr><tr><td>tt32172978</td><td>short</td><td>Le Fumeur</td><td>Le Fumeur</td><td>0</td><td>1878</td><td>0</td><td>1</td><td>Animation,Short</td></tr><tr><td>tt32173003</td><td>short</td><td>Le Jeu de Grâces</td><td>Le Jeu de Grâces</td><td>0</td><td>1878</td><td>0</td><td>1</td><td>Animation,Short</td></tr><tr><td>tt32173050</td><td>short</td><td>L'Amazone</td><td>L'Amazone</td><td>0</td><td>1878</td><td>0</td><td>1</td><td>Animation,Short</td></tr><tr><td>tt32173064</td><td>short</td><td>Le Steeple-Chase</td><td>Le Steeple-Chase</td><td>0</td><td>1878</td><td>0</td><td>1</td><td>Animation,Short</td></tr></tbody></table></div>"
      ]
     },
     "metadata": {
      "application/vnd.databricks.v1+output": {
       "addedWidgets": {},
       "aggData": [],
       "aggError": "",
       "aggOverflow": false,
       "aggSchema": [],
       "aggSeriesLimitReached": false,
       "aggType": "",
       "arguments": {},
       "columnCustomDisplayInfos": {},
       "data": [
        [
         "tt3155794",
         "short",
         "Passage de Venus",
         "Passage de Venus",
         0,
         1874,
         0,
         "1",
         "Documentary,History,Short"
        ],
        [
         "tt14495706",
         "short",
         "La Rosace Magique",
         "La Rosace Magique",
         0,
         1878,
         0,
         "1",
         "Animation,Short"
        ],
        [
         "tt32172647",
         "short",
         "La Glissade",
         "La Glissade",
         0,
         1878,
         0,
         "1",
         "Animation,Short"
        ],
        [
         "tt27119262",
         "short",
         "Les Chiens Savants",
         "Les Chiens Savants",
         0,
         1878,
         0,
         "1",
         "Animation,Short"
        ],
        [
         "tt32167266",
         "short",
         "Le Trapèze",
         "Le Trapèze",
         0,
         1878,
         0,
         "1",
         "Animation,Short"
        ],
        [
         "tt16763674",
         "short",
         "The Tight-rope Dance",
         "La danse sur la corde",
         0,
         1878,
         0,
         "1",
         "Animation,Short"
        ],
        [
         "tt32169827",
         "short",
         "L'Aquarium",
         "L'Aquarium",
         0,
         1878,
         0,
         "1",
         "Animation,Short"
        ],
        [
         "tt12592084",
         "short",
         "Le singe musicien",
         "Le singe musicien",
         0,
         1878,
         0,
         "1",
         "Animation,Short"
        ],
        [
         "tt32169854",
         "short",
         "Le Jongleur",
         "Le Jongleur",
         0,
         1878,
         0,
         "1",
         "Animation,Short"
        ],
        [
         "tt16763740",
         "short",
         "Skipping Rope",
         "Le jeu de corde",
         0,
         1878,
         0,
         "1",
         "Animation,Short"
        ],
        [
         "tt32169877",
         "short",
         "L'Équilibriste",
         "L'Équilibriste",
         0,
         1878,
         0,
         "1",
         "Animation,Short"
        ],
        [
         "tt16763774",
         "short",
         "Dzing. Boom. Boom!",
         "Zim, Boum, Boum",
         0,
         1878,
         0,
         "1",
         "Animation,Short"
        ],
        [
         "tt32169898",
         "short",
         "Le Repas des Poulets",
         "Le Repas des Poulets",
         0,
         1878,
         0,
         "1",
         "Animation,Short"
        ],
        [
         "tt2221420",
         "short",
         "Sallie Gardner at a Gallop",
         "Sallie Gardner at a Gallop",
         0,
         1878,
         0,
         "1",
         "Documentary,Short,Sport"
        ],
        [
         "tt32169930",
         "short",
         "Les Bulles de Savon",
         "Les Bulles de Savon",
         0,
         1878,
         0,
         "1",
         "Animation,Short"
        ],
        [
         "tt32169968",
         "short",
         "Le Rotisseur",
         "Le Rotisseur",
         0,
         1878,
         0,
         "1",
         "Animation,Short"
        ],
        [
         "tt32170373",
         "short",
         "Les Scieurs de Long",
         "Les Scieurs de Long",
         0,
         1878,
         0,
         "1",
         "Animation,Short"
        ],
        [
         "tt32170827",
         "short",
         "Le Jeu du Volant",
         "Le Jeu du Volant",
         0,
         1878,
         0,
         "1",
         "Animation,Short"
        ],
        [
         "tt32171123",
         "short",
         "Le Moulin à Eau",
         "Le Moulin à Eau",
         0,
         1878,
         0,
         "1",
         "Animation,Short"
        ],
        [
         "tt32171671",
         "short",
         "Le Déjeuner de Bébé",
         "Le Déjeuner de Bébé",
         0,
         1878,
         0,
         "1",
         "Animation,Short"
        ],
        [
         "tt32171946",
         "short",
         "Les Papillons",
         "Les Papillons",
         0,
         1878,
         0,
         "1",
         "Animation,Short"
        ],
        [
         "tt32172282",
         "short",
         "La Nageuse",
         "La Nageuse",
         0,
         1878,
         0,
         "1",
         "Animation,Short"
        ],
        [
         "tt32172929",
         "short",
         "La Charmeuse",
         "La Charmeuse",
         0,
         1878,
         0,
         "1",
         "Animation,Short"
        ],
        [
         "tt32172942",
         "short",
         "La Balançoire",
         "La Balançoire",
         0,
         1878,
         0,
         "1",
         "Animation,Short"
        ],
        [
         "tt32172951",
         "short",
         "L'Hercule",
         "L'Hercule",
         0,
         1878,
         0,
         "1",
         "Animation,Short"
        ],
        [
         "tt32172972",
         "short",
         "Les Deux Espiègles",
         "Les Deux Espiègles",
         0,
         1878,
         0,
         "1",
         "Animation,Short"
        ],
        [
         "tt32172978",
         "short",
         "Le Fumeur",
         "Le Fumeur",
         0,
         1878,
         0,
         "1",
         "Animation,Short"
        ],
        [
         "tt32173003",
         "short",
         "Le Jeu de Grâces",
         "Le Jeu de Grâces",
         0,
         1878,
         0,
         "1",
         "Animation,Short"
        ],
        [
         "tt32173050",
         "short",
         "L'Amazone",
         "L'Amazone",
         0,
         1878,
         0,
         "1",
         "Animation,Short"
        ],
        [
         "tt32173064",
         "short",
         "Le Steeple-Chase",
         "Le Steeple-Chase",
         0,
         1878,
         0,
         "1",
         "Animation,Short"
        ]
       ],
       "datasetInfos": [],
       "dbfsResultPath": null,
       "isJsonSchema": true,
       "metadata": {},
       "overflow": false,
       "plotOptions": {
        "customPlotOptions": {},
        "displayType": "table",
        "pivotAggregation": null,
        "pivotColumns": null,
        "xColumns": null,
        "yColumns": null
       },
       "removedWidgets": [],
       "schema": [
        {
         "metadata": "{\"__CHAR_VARCHAR_TYPE_STRING\":\"char(10)\"}",
         "name": "tconst",
         "type": "\"string\""
        },
        {
         "metadata": "{\"__CHAR_VARCHAR_TYPE_STRING\":\"varchar(20)\"}",
         "name": "titleType",
         "type": "\"string\""
        },
        {
         "metadata": "{\"__CHAR_VARCHAR_TYPE_STRING\":\"varchar(500)\"}",
         "name": "primaryTitle",
         "type": "\"string\""
        },
        {
         "metadata": "{\"__CHAR_VARCHAR_TYPE_STRING\":\"varchar(500)\"}",
         "name": "originalTitle",
         "type": "\"string\""
        },
        {
         "metadata": "{}",
         "name": "isAdult",
         "type": "\"integer\""
        },
        {
         "metadata": "{}",
         "name": "startYear",
         "type": "\"integer\""
        },
        {
         "metadata": "{}",
         "name": "endYear",
         "type": "\"integer\""
        },
        {
         "metadata": "{\"__CHAR_VARCHAR_TYPE_STRING\":\"char(30)\"}",
         "name": "runtimeMinutes",
         "type": "\"string\""
        },
        {
         "metadata": "{\"__CHAR_VARCHAR_TYPE_STRING\":\"varchar(200)\"}",
         "name": "genres",
         "type": "\"string\""
        }
       ],
       "type": "table"
      }
     },
     "output_type": "display_data"
    }
   ],
   "source": [
    "%sql\n",
    "CREATE OR REPLACE TABLE IMDB_DB_SILVER.tb_title_basics (\n",
    "  tconst CHAR(10) NOT NULL,\n",
    "  titleType VARCHAR(20) NOT NULL,\n",
    "  primaryTitle VARCHAR(500) NOT NULL,\n",
    "  originalTitle VARCHAR(500) NOT NULL,\n",
    "  isAdult INT NOT NULL,\n",
    "  startYear INT NOT NULL,\n",
    "  endYear INT NOT NULL,\n",
    "  runtimeMinutes CHAR(30),\n",
    "  genres VARCHAR(200)\n",
    ");\n",
    "\n",
    "INSERT INTO IMDB_DB_SILVER.tb_title_basics (\n",
    "  tconst,\n",
    "  titleType,\n",
    "  primaryTitle,\n",
    "  originalTitle,\n",
    "  isAdult,\n",
    "  startYear,\n",
    "  endYear,\n",
    "  runtimeMinutes,\n",
    "  genres\n",
    ")\n",
    "SELECT \n",
    "  tconst,\n",
    "  titleType,\n",
    "  primaryTitle,\n",
    "  originalTitle,\n",
    "  CASE WHEN TRIM(isAdult) = '\\\\N' THEN 0 ELSE isAdult END isAdult,\n",
    "  startYear,\n",
    "  CASE WHEN TRIM(endYear) = '\\\\N' THEN 0 ELSE endYear END AS endYear,\n",
    "  CASE WHEN TRIM(runtimeMinutes) = '\\\\N' THEN NULL ELSE runtimeMinutes END AS runtimeMinutes,\n",
    "  genres\n",
    "FROM IMDB_DB_BRONZE.tb_title_basics\n",
    "WHERE tconst IS NOT NULL AND TRIM(startYear) <> '\\\\N' AND TRIM(genres) <> '\\\\N';\n",
    "\n",
    "-- LISTANDO OS 30 REGISTROS PARA NÃO FICAR MUITO GRANDE NO GITHUB E COMPROVAR A IMPORTAÇÃO\n",
    "SELECT * FROM IMDB_DB_SILVER.tb_title_basics ORDER BY startYear, endYear LIMIT 30;"
   ]
  },
  {
   "cell_type": "markdown",
   "metadata": {
    "application/vnd.databricks.v1+cell": {
     "cellMetadata": {
      "byteLimit": 2048000,
      "rowLimit": 10000
     },
     "inputWidgets": {},
     "nuid": "4d88fe6b-809d-4dcb-82ed-605ba068083c",
     "showTitle": false,
     "tableResultSettingsMap": {},
     "title": ""
    }
   },
   "source": [
    "Validar os dados importados para a camada SILVER"
   ]
  },
  {
   "cell_type": "code",
   "execution_count": 0,
   "metadata": {
    "application/vnd.databricks.v1+cell": {
     "cellMetadata": {
      "byteLimit": 2048000,
      "implicitDf": true,
      "rowLimit": 10000
     },
     "inputWidgets": {},
     "nuid": "f5ec0bff-3c34-4f49-859e-2eb93bfc1bad",
     "showTitle": false,
     "tableResultSettingsMap": {},
     "title": ""
    }
   },
   "outputs": [
    {
     "output_type": "display_data",
     "data": {
      "text/html": [
       "<style scoped>\n",
       "  .table-result-container {\n",
       "    max-height: 300px;\n",
       "    overflow: auto;\n",
       "  }\n",
       "  table, th, td {\n",
       "    border: 1px solid black;\n",
       "    border-collapse: collapse;\n",
       "  }\n",
       "  th, td {\n",
       "    padding: 5px;\n",
       "  }\n",
       "  th {\n",
       "    text-align: left;\n",
       "  }\n",
       "</style><div class='table-result-container'><table class='table-result'><thead style='background-color: white'><tr><th>Resultado</th></tr></thead><tbody><tr><td>Nenhum dado duplicado foi encontrado com a consulta</td></tr></tbody></table></div>"
      ]
     },
     "metadata": {
      "application/vnd.databricks.v1+output": {
       "addedWidgets": {},
       "aggData": [],
       "aggError": "",
       "aggOverflow": false,
       "aggSchema": [],
       "aggSeriesLimitReached": false,
       "aggType": "",
       "arguments": {},
       "columnCustomDisplayInfos": {},
       "data": [
        [
         "Nenhum dado duplicado foi encontrado com a consulta"
        ]
       ],
       "datasetInfos": [],
       "dbfsResultPath": null,
       "isJsonSchema": true,
       "metadata": {},
       "overflow": false,
       "plotOptions": {
        "customPlotOptions": {},
        "displayType": "table",
        "pivotAggregation": null,
        "pivotColumns": null,
        "xColumns": null,
        "yColumns": null
       },
       "removedWidgets": [],
       "schema": [
        {
         "metadata": "{}",
         "name": "Resultado",
         "type": "\"string\""
        }
       ],
       "type": "table"
      }
     },
     "output_type": "display_data"
    }
   ],
   "source": [
    "%sql\n",
    "-- Veriicar duplicidade.\n",
    "------------------------\n",
    "SELECT CASE WHEN COUNT(0) > 0 THEN 'Há dados duplicados na tabela' ELSE 'Nenhum dado duplicado foi encontrado com a consulta' END AS Resultado \n",
    "FROM (\n",
    "  SELECT tconst, COUNT(0) TOTAL FROM IMDB_DB_SILVER.tb_title_basics GROUP BY tconst HAVING COUNT(0) > 1\n",
    ");"
   ]
  },
  {
   "cell_type": "code",
   "execution_count": 0,
   "metadata": {
    "application/vnd.databricks.v1+cell": {
     "cellMetadata": {
      "byteLimit": 2048000,
      "implicitDf": true,
      "rowLimit": 10000
     },
     "inputWidgets": {},
     "nuid": "8a8c365a-2467-40e9-8b92-b58be443e46e",
     "showTitle": false,
     "tableResultSettingsMap": {},
     "title": ""
    }
   },
   "outputs": [
    {
     "output_type": "display_data",
     "data": {
      "text/html": [
       "<style scoped>\n",
       "  .table-result-container {\n",
       "    max-height: 300px;\n",
       "    overflow: auto;\n",
       "  }\n",
       "  table, th, td {\n",
       "    border: 1px solid black;\n",
       "    border-collapse: collapse;\n",
       "  }\n",
       "  th, td {\n",
       "    padding: 5px;\n",
       "  }\n",
       "  th {\n",
       "    text-align: left;\n",
       "  }\n",
       "</style><div class='table-result-container'><table class='table-result'><thead style='background-color: white'><tr><th>TOTAL_CAMADA_BRONZE</th><th>TOTAL_CAMADA_SILVER</th><th>VERIFICACAO</th></tr></thead><tbody><tr><td>11542593</td><td>9693050</td><td>OK</td></tr></tbody></table></div>"
      ]
     },
     "metadata": {
      "application/vnd.databricks.v1+output": {
       "addedWidgets": {},
       "aggData": [],
       "aggError": "",
       "aggOverflow": false,
       "aggSchema": [],
       "aggSeriesLimitReached": false,
       "aggType": "",
       "arguments": {},
       "columnCustomDisplayInfos": {},
       "data": [
        [
         11542593,
         9693050,
         "OK"
        ]
       ],
       "datasetInfos": [],
       "dbfsResultPath": null,
       "isJsonSchema": true,
       "metadata": {},
       "overflow": false,
       "plotOptions": {
        "customPlotOptions": {},
        "displayType": "table",
        "pivotAggregation": null,
        "pivotColumns": null,
        "xColumns": null,
        "yColumns": null
       },
       "removedWidgets": [],
       "schema": [
        {
         "metadata": "{}",
         "name": "TOTAL_CAMADA_BRONZE",
         "type": "\"long\""
        },
        {
         "metadata": "{}",
         "name": "TOTAL_CAMADA_SILVER",
         "type": "\"long\""
        },
        {
         "metadata": "{}",
         "name": "VERIFICACAO",
         "type": "\"string\""
        }
       ],
       "type": "table"
      }
     },
     "output_type": "display_data"
    }
   ],
   "source": [
    "%sql\n",
    "-- Conferência dasa quantidades de registros\n",
    "--------------------------------------------\n",
    "SELECT \n",
    "  (SELECT COUNT(0) FROM imdb_db_bronze.tb_title_basics) TOTAL_CAMADA_BRONZE,\n",
    "  COUNT(0) TOTAL_CAMADA_SILVER, \n",
    "  CASE WHEN COUNT(0) <= (SELECT COUNT(0) FROM imdb_db_bronze.tb_title_basics) THEN  'OK' ELSE 'ERRO - QUANTIDADE DE REGISTROS NA CAMADA SILVER MAIOR' END AS VERIFICACAO \n",
    "FROM IMDB_DB_SILVER.tb_title_basics;"
   ]
  },
  {
   "cell_type": "markdown",
   "metadata": {
    "application/vnd.databricks.v1+cell": {
     "cellMetadata": {
      "byteLimit": 2048000,
      "rowLimit": 10000
     },
     "inputWidgets": {},
     "nuid": "2b681692-79a8-4e43-96c6-c5184a14c99d",
     "showTitle": false,
     "tableResultSettingsMap": {},
     "title": ""
    }
   },
   "source": [
    "###Criando e preenchendo a \"tb_title_crew\"."
   ]
  },
  {
   "cell_type": "markdown",
   "metadata": {
    "application/vnd.databricks.v1+cell": {
     "cellMetadata": {
      "byteLimit": 2048000,
      "rowLimit": 10000
     },
     "inputWidgets": {},
     "nuid": "b8383111-0c54-4055-92c1-3e8541fff555",
     "showTitle": false,
     "tableResultSettingsMap": {},
     "title": ""
    }
   },
   "source": [
    "- Somente registros com chave não nula \n",
    "- Tratando os campos que do tipo string (texto) e tenha valor \"\\N\" (não aplicável) com valor [vazio]."
   ]
  },
  {
   "cell_type": "code",
   "execution_count": 0,
   "metadata": {
    "application/vnd.databricks.v1+cell": {
     "cellMetadata": {
      "byteLimit": 2048000,
      "rowLimit": 10000
     },
     "inputWidgets": {},
     "nuid": "3a488a8d-5fdc-4213-ae4a-982573b4fd7f",
     "showTitle": false,
     "tableResultSettingsMap": {},
     "title": ""
    }
   },
   "outputs": [
    {
     "output_type": "stream",
     "name": "stdout",
     "output_type": "stream",
     "text": [
      "Out[75]: False"
     ]
    }
   ],
   "source": [
    "#Removendo vínculo do arquivo da tabela\n",
    "dbutils.fs.rm(\"dbfs:/user/hive/warehouse/imdb_db_silver.db/tb_title_crew/\", True)"
   ]
  },
  {
   "cell_type": "code",
   "execution_count": 0,
   "metadata": {
    "application/vnd.databricks.v1+cell": {
     "cellMetadata": {
      "byteLimit": 2048000,
      "implicitDf": true,
      "rowLimit": 10000
     },
     "inputWidgets": {},
     "nuid": "fb6e2753-3e63-43f8-ad0a-e0e4e6794eec",
     "showTitle": false,
     "tableResultSettingsMap": {},
     "title": ""
    }
   },
   "outputs": [
    {
     "output_type": "display_data",
     "data": {
      "text/html": [
       "<style scoped>\n",
       "  .table-result-container {\n",
       "    max-height: 300px;\n",
       "    overflow: auto;\n",
       "  }\n",
       "  table, th, td {\n",
       "    border: 1px solid black;\n",
       "    border-collapse: collapse;\n",
       "  }\n",
       "  th, td {\n",
       "    padding: 5px;\n",
       "  }\n",
       "  th {\n",
       "    text-align: left;\n",
       "  }\n",
       "</style><div class='table-result-container'><table class='table-result'><thead style='background-color: white'><tr><th>tamanho_maximo_campo_writers</th><th>tamanho_maximo_campo_directors</th></tr></thead><tbody><tr><td>13906</td><td>5300</td></tr></tbody></table></div>"
      ]
     },
     "metadata": {
      "application/vnd.databricks.v1+output": {
       "addedWidgets": {},
       "aggData": [],
       "aggError": "",
       "aggOverflow": false,
       "aggSchema": [],
       "aggSeriesLimitReached": false,
       "aggType": "",
       "arguments": {},
       "columnCustomDisplayInfos": {},
       "data": [
        [
         13906,
         5300
        ]
       ],
       "datasetInfos": [],
       "dbfsResultPath": null,
       "isJsonSchema": true,
       "metadata": {},
       "overflow": false,
       "plotOptions": {
        "customPlotOptions": {},
        "displayType": "table",
        "pivotAggregation": null,
        "pivotColumns": null,
        "xColumns": null,
        "yColumns": null
       },
       "removedWidgets": [],
       "schema": [
        {
         "metadata": "{}",
         "name": "tamanho_maximo_campo_writers",
         "type": "\"integer\""
        },
        {
         "metadata": "{}",
         "name": "tamanho_maximo_campo_directors",
         "type": "\"integer\""
        }
       ],
       "type": "table"
      }
     },
     "output_type": "display_data"
    }
   ],
   "source": [
    "%sql\n",
    "-- Obter tamanho maximo no preenchimento dos campos writers e directors para configurar campo na tabela silver\n",
    "SELECT tamanho_maximo_campo_writers, tamanho_maximo_campo_directors\n",
    "FROM \n",
    " (SELECT MAX(LEN(writers)) tamanho_maximo_campo_writers FROM IMDB_DB_BRONZE.tb_title_crew),\n",
    " (SELECT MAX(LEN(directors)) tamanho_maximo_campo_directors FROM IMDB_DB_BRONZE.tb_title_crew)\n",
    " ;"
   ]
  },
  {
   "cell_type": "code",
   "execution_count": 0,
   "metadata": {
    "application/vnd.databricks.v1+cell": {
     "cellMetadata": {
      "byteLimit": 2048000,
      "implicitDf": true,
      "rowLimit": 10000
     },
     "inputWidgets": {},
     "nuid": "c7fa3693-04e2-4b92-a529-57f6ca9258ff",
     "showTitle": false,
     "tableResultSettingsMap": {},
     "title": ""
    }
   },
   "outputs": [
    {
     "output_type": "display_data",
     "data": {
      "text/html": [
       "<style scoped>\n",
       "  .table-result-container {\n",
       "    max-height: 300px;\n",
       "    overflow: auto;\n",
       "  }\n",
       "  table, th, td {\n",
       "    border: 1px solid black;\n",
       "    border-collapse: collapse;\n",
       "  }\n",
       "  th, td {\n",
       "    padding: 5px;\n",
       "  }\n",
       "  th {\n",
       "    text-align: left;\n",
       "  }\n",
       "</style><div class='table-result-container'><table class='table-result'><thead style='background-color: white'><tr><th>tconst</th><th>directors</th><th>writers</th></tr></thead><tbody><tr><td>tt0000003</td><td>nm0721526</td><td>nm0721526</td></tr><tr><td>tt0000009</td><td>nm0085156</td><td>nm0085156</td></tr><tr><td>tt0000015</td><td>nm0721526</td><td>nm0721526</td></tr><tr><td>tt0000036</td><td>nm0005690</td><td>nm0410331</td></tr><tr><td>tt0000076</td><td>nm0005690</td><td>nm0410331</td></tr><tr><td>tt0000091</td><td>nm0617588</td><td>nm0617588</td></tr><tr><td>tt0000108</td><td>nm0005690</td><td>nm0410331</td></tr><tr><td>tt0000109</td><td>nm0005690</td><td>nm0410331</td></tr><tr><td>tt0000110</td><td>nm0005690</td><td>nm0410331</td></tr><tr><td>tt0000111</td><td>nm0005690</td><td>nm0410331</td></tr><tr><td>tt0000112</td><td>nm0005690</td><td>nm0410331</td></tr><tr><td>tt0000113</td><td>nm0005690</td><td>nm0410331</td></tr><tr><td>tt0000132</td><td>nm0617588</td><td>nm0617588</td></tr><tr><td>tt0000138</td><td>nm0617588</td><td>nm0617588</td></tr><tr><td>tt0000165</td><td>nm0005717</td><td>nm0005717</td></tr><tr><td>tt0000174</td><td>nm0471818</td><td>nm0841389</td></tr><tr><td>tt0000181</td><td>nm0808310</td><td>nm0674518</td></tr><tr><td>tt0000183</td><td>nm0808310</td><td>nm0241416</td></tr><tr><td>tt0000189</td><td>nm0005717</td><td>nm0005717</td></tr><tr><td>tt0000190</td><td>nm0471818</td><td>nm0841389</td></tr><tr><td>tt0000192</td><td>nm0924920</td><td>nm0238900</td></tr><tr><td>tt0000196</td><td>nm0808310</td><td>nm0324473</td></tr><tr><td>tt0000211</td><td>nm0617588</td><td>nm0617588</td></tr><tr><td>tt0000215</td><td>nm0471818</td><td>nm0841389</td></tr><tr><td>tt0000218</td><td>nm0617588</td><td>nm0617588</td></tr><tr><td>tt0000229</td><td>nm0924920</td><td>nm0857203</td></tr><tr><td>tt0000230</td><td>nm0617588</td><td>nm0674518</td></tr><tr><td>tt0000233</td><td>nm0005717</td><td>nm0005717</td></tr><tr><td>tt0000235</td><td>nm0617588</td><td>nm0353584</td></tr><tr><td>tt0000242</td><td>nm0617588</td><td>nm0617588</td></tr></tbody></table></div>"
      ]
     },
     "metadata": {
      "application/vnd.databricks.v1+output": {
       "addedWidgets": {},
       "aggData": [],
       "aggError": "",
       "aggOverflow": false,
       "aggSchema": [],
       "aggSeriesLimitReached": false,
       "aggType": "",
       "arguments": {},
       "columnCustomDisplayInfos": {},
       "data": [
        [
         "tt0000003",
         "nm0721526",
         "nm0721526"
        ],
        [
         "tt0000009",
         "nm0085156",
         "nm0085156"
        ],
        [
         "tt0000015",
         "nm0721526",
         "nm0721526"
        ],
        [
         "tt0000036",
         "nm0005690",
         "nm0410331"
        ],
        [
         "tt0000076",
         "nm0005690",
         "nm0410331"
        ],
        [
         "tt0000091",
         "nm0617588",
         "nm0617588"
        ],
        [
         "tt0000108",
         "nm0005690",
         "nm0410331"
        ],
        [
         "tt0000109",
         "nm0005690",
         "nm0410331"
        ],
        [
         "tt0000110",
         "nm0005690",
         "nm0410331"
        ],
        [
         "tt0000111",
         "nm0005690",
         "nm0410331"
        ],
        [
         "tt0000112",
         "nm0005690",
         "nm0410331"
        ],
        [
         "tt0000113",
         "nm0005690",
         "nm0410331"
        ],
        [
         "tt0000132",
         "nm0617588",
         "nm0617588"
        ],
        [
         "tt0000138",
         "nm0617588",
         "nm0617588"
        ],
        [
         "tt0000165",
         "nm0005717",
         "nm0005717"
        ],
        [
         "tt0000174",
         "nm0471818",
         "nm0841389"
        ],
        [
         "tt0000181",
         "nm0808310",
         "nm0674518"
        ],
        [
         "tt0000183",
         "nm0808310",
         "nm0241416"
        ],
        [
         "tt0000189",
         "nm0005717",
         "nm0005717"
        ],
        [
         "tt0000190",
         "nm0471818",
         "nm0841389"
        ],
        [
         "tt0000192",
         "nm0924920",
         "nm0238900"
        ],
        [
         "tt0000196",
         "nm0808310",
         "nm0324473"
        ],
        [
         "tt0000211",
         "nm0617588",
         "nm0617588"
        ],
        [
         "tt0000215",
         "nm0471818",
         "nm0841389"
        ],
        [
         "tt0000218",
         "nm0617588",
         "nm0617588"
        ],
        [
         "tt0000229",
         "nm0924920",
         "nm0857203"
        ],
        [
         "tt0000230",
         "nm0617588",
         "nm0674518"
        ],
        [
         "tt0000233",
         "nm0005717",
         "nm0005717"
        ],
        [
         "tt0000235",
         "nm0617588",
         "nm0353584"
        ],
        [
         "tt0000242",
         "nm0617588",
         "nm0617588"
        ]
       ],
       "datasetInfos": [],
       "dbfsResultPath": null,
       "isJsonSchema": true,
       "metadata": {},
       "overflow": false,
       "plotOptions": {
        "customPlotOptions": {},
        "displayType": "table",
        "pivotAggregation": null,
        "pivotColumns": null,
        "xColumns": null,
        "yColumns": null
       },
       "removedWidgets": [],
       "schema": [
        {
         "metadata": "{\"__CHAR_VARCHAR_TYPE_STRING\":\"char(10)\"}",
         "name": "tconst",
         "type": "\"string\""
        },
        {
         "metadata": "{\"__CHAR_VARCHAR_TYPE_STRING\":\"varchar(5300)\"}",
         "name": "directors",
         "type": "\"string\""
        },
        {
         "metadata": "{\"__CHAR_VARCHAR_TYPE_STRING\":\"varchar(13906)\"}",
         "name": "writers",
         "type": "\"string\""
        }
       ],
       "type": "table"
      }
     },
     "output_type": "display_data"
    }
   ],
   "source": [
    "%sql\n",
    "CREATE OR REPLACE TABLE IMDB_DB_SILVER.tb_title_crew (\n",
    "  tconst CHAR(10) NOT NULL,\n",
    "  directors VARCHAR(5300),\n",
    "  writers VARCHAR(13906)\n",
    ");\n",
    "\n",
    "INSERT INTO IMDB_DB_SILVER.tb_title_crew (\n",
    "  tconst,\n",
    "  directors,\n",
    "  writers\n",
    ")\n",
    "SELECT\n",
    "  tconst,\n",
    "  CASE WHEN TRIM(directors) = '\\\\N' THEN NULL ELSE directors END AS directors,\n",
    "  CASE WHEN TRIM(writers) = '\\\\N' THEN NULL ELSE writers END AS writers\n",
    "FROM IMDB_DB_BRONZE.tb_title_crew\n",
    "WHERE TRIM(directors) <> '\\\\N' AND TRIM(writers) <> '\\\\N';\n",
    "\n",
    "-- LISTANDO OS 30 REGISTROS PARA NÃO FICAR MUITO GRANDE NO GITHUB E COMPROVAR A IMPORTAÇÃO\n",
    "SELECT * FROM IMDB_DB_SILVER.tb_title_crew WHERE directors IS NOT NULL AND writers IS NOT NULL LIMIT 30;"
   ]
  },
  {
   "cell_type": "markdown",
   "metadata": {
    "application/vnd.databricks.v1+cell": {
     "cellMetadata": {
      "byteLimit": 2048000,
      "rowLimit": 10000
     },
     "inputWidgets": {},
     "nuid": "98d4651d-fe4f-4025-a7b1-dcbc34a822fb",
     "showTitle": false,
     "tableResultSettingsMap": {},
     "title": ""
    }
   },
   "source": [
    "Validar os dados importados para a camada SILVER"
   ]
  },
  {
   "cell_type": "code",
   "execution_count": 0,
   "metadata": {
    "application/vnd.databricks.v1+cell": {
     "cellMetadata": {
      "byteLimit": 2048000,
      "implicitDf": true,
      "rowLimit": 10000
     },
     "inputWidgets": {},
     "nuid": "038da87b-804f-4613-bc06-8347230a6daa",
     "showTitle": false,
     "tableResultSettingsMap": {},
     "title": ""
    }
   },
   "outputs": [
    {
     "output_type": "display_data",
     "data": {
      "text/html": [
       "<style scoped>\n",
       "  .table-result-container {\n",
       "    max-height: 300px;\n",
       "    overflow: auto;\n",
       "  }\n",
       "  table, th, td {\n",
       "    border: 1px solid black;\n",
       "    border-collapse: collapse;\n",
       "  }\n",
       "  th, td {\n",
       "    padding: 5px;\n",
       "  }\n",
       "  th {\n",
       "    text-align: left;\n",
       "  }\n",
       "</style><div class='table-result-container'><table class='table-result'><thead style='background-color: white'><tr><th>Resultado</th></tr></thead><tbody><tr><td>Nenhum dado duplicado foi encontrado com a consulta</td></tr></tbody></table></div>"
      ]
     },
     "metadata": {
      "application/vnd.databricks.v1+output": {
       "addedWidgets": {},
       "aggData": [],
       "aggError": "",
       "aggOverflow": false,
       "aggSchema": [],
       "aggSeriesLimitReached": false,
       "aggType": "",
       "arguments": {},
       "columnCustomDisplayInfos": {},
       "data": [
        [
         "Nenhum dado duplicado foi encontrado com a consulta"
        ]
       ],
       "datasetInfos": [],
       "dbfsResultPath": null,
       "isJsonSchema": true,
       "metadata": {},
       "overflow": false,
       "plotOptions": {
        "customPlotOptions": {},
        "displayType": "table",
        "pivotAggregation": null,
        "pivotColumns": null,
        "xColumns": null,
        "yColumns": null
       },
       "removedWidgets": [],
       "schema": [
        {
         "metadata": "{}",
         "name": "Resultado",
         "type": "\"string\""
        }
       ],
       "type": "table"
      }
     },
     "output_type": "display_data"
    }
   ],
   "source": [
    "%sql\n",
    "-- Veriicar duplicidade.\n",
    "------------------------\n",
    "SELECT CASE WHEN COUNT(0) > 0 THEN 'Há dados duplicados na tabela' ELSE 'Nenhum dado duplicado foi encontrado com a consulta' END AS Resultado \n",
    "FROM (\n",
    "  SELECT tconst, COUNT(0) TOTAL FROM IMDB_DB_SILVER.tb_title_crew GROUP BY tconst HAVING COUNT(0) > 1\n",
    ");"
   ]
  },
  {
   "cell_type": "code",
   "execution_count": 0,
   "metadata": {
    "application/vnd.databricks.v1+cell": {
     "cellMetadata": {
      "byteLimit": 2048000,
      "implicitDf": true,
      "rowLimit": 10000
     },
     "inputWidgets": {},
     "nuid": "da94201a-bef0-4393-bb58-750e5f454526",
     "showTitle": false,
     "tableResultSettingsMap": {},
     "title": ""
    }
   },
   "outputs": [
    {
     "output_type": "display_data",
     "data": {
      "text/html": [
       "<style scoped>\n",
       "  .table-result-container {\n",
       "    max-height: 300px;\n",
       "    overflow: auto;\n",
       "  }\n",
       "  table, th, td {\n",
       "    border: 1px solid black;\n",
       "    border-collapse: collapse;\n",
       "  }\n",
       "  th, td {\n",
       "    padding: 5px;\n",
       "  }\n",
       "  th {\n",
       "    text-align: left;\n",
       "  }\n",
       "</style><div class='table-result-container'><table class='table-result'><thead style='background-color: white'><tr><th>VERIFICACAO</th></tr></thead><tbody><tr><td>Nenhum dado duplicado foi encontrado com a consulta</td></tr></tbody></table></div>"
      ]
     },
     "metadata": {
      "application/vnd.databricks.v1+output": {
       "addedWidgets": {},
       "aggData": [],
       "aggError": "",
       "aggOverflow": false,
       "aggSchema": [],
       "aggSeriesLimitReached": false,
       "aggType": "",
       "arguments": {},
       "columnCustomDisplayInfos": {},
       "data": [
        [
         "Nenhum dado duplicado foi encontrado com a consulta"
        ]
       ],
       "datasetInfos": [],
       "dbfsResultPath": null,
       "isJsonSchema": true,
       "metadata": {},
       "overflow": false,
       "plotOptions": {
        "customPlotOptions": {},
        "displayType": "table",
        "pivotAggregation": null,
        "pivotColumns": null,
        "xColumns": null,
        "yColumns": null
       },
       "removedWidgets": [],
       "schema": [
        {
         "metadata": "{}",
         "name": "VERIFICACAO",
         "type": "\"string\""
        }
       ],
       "type": "table"
      }
     },
     "output_type": "display_data"
    }
   ],
   "source": [
    "%sql\n",
    "-- Conferência se há registro com  directors e writers nulos no mesmo registro.\n",
    "---------------------------------------------\n",
    "SELECT CASE WHEN COUNT(0) > 0 THEN 'Há dados duplicados na tabela' ELSE 'Nenhum dado duplicado foi encontrado com a consulta' END AS VERIFICACAO \n",
    "FROM IMDB_DB_SILVER.tb_title_crew WHERE directors IS NULL AND writers IS NULL;"
   ]
  },
  {
   "cell_type": "code",
   "execution_count": 0,
   "metadata": {
    "application/vnd.databricks.v1+cell": {
     "cellMetadata": {
      "byteLimit": 2048000,
      "implicitDf": true,
      "rowLimit": 10000
     },
     "inputWidgets": {},
     "nuid": "95d6d018-2ddd-4062-a794-ae7d7978cc05",
     "showTitle": false,
     "tableResultSettingsMap": {},
     "title": ""
    }
   },
   "outputs": [
    {
     "output_type": "display_data",
     "data": {
      "text/html": [
       "<style scoped>\n",
       "  .table-result-container {\n",
       "    max-height: 300px;\n",
       "    overflow: auto;\n",
       "  }\n",
       "  table, th, td {\n",
       "    border: 1px solid black;\n",
       "    border-collapse: collapse;\n",
       "  }\n",
       "  th, td {\n",
       "    padding: 5px;\n",
       "  }\n",
       "  th {\n",
       "    text-align: left;\n",
       "  }\n",
       "</style><div class='table-result-container'><table class='table-result'><thead style='background-color: white'><tr><th>TOTAL_CAMADA_BRONZE</th><th>TOTAL_CAMADA_SILVER</th><th>VERIFICACAO</th></tr></thead><tbody><tr><td>11542593</td><td>5014334</td><td>OK</td></tr></tbody></table></div>"
      ]
     },
     "metadata": {
      "application/vnd.databricks.v1+output": {
       "addedWidgets": {},
       "aggData": [],
       "aggError": "",
       "aggOverflow": false,
       "aggSchema": [],
       "aggSeriesLimitReached": false,
       "aggType": "",
       "arguments": {},
       "columnCustomDisplayInfos": {},
       "data": [
        [
         11542593,
         5014334,
         "OK"
        ]
       ],
       "datasetInfos": [],
       "dbfsResultPath": null,
       "isJsonSchema": true,
       "metadata": {},
       "overflow": false,
       "plotOptions": {
        "customPlotOptions": {},
        "displayType": "table",
        "pivotAggregation": null,
        "pivotColumns": null,
        "xColumns": null,
        "yColumns": null
       },
       "removedWidgets": [],
       "schema": [
        {
         "metadata": "{}",
         "name": "TOTAL_CAMADA_BRONZE",
         "type": "\"long\""
        },
        {
         "metadata": "{}",
         "name": "TOTAL_CAMADA_SILVER",
         "type": "\"long\""
        },
        {
         "metadata": "{}",
         "name": "VERIFICACAO",
         "type": "\"string\""
        }
       ],
       "type": "table"
      }
     },
     "output_type": "display_data"
    }
   ],
   "source": [
    "%sql\n",
    "-- Conferência dasa quantidades de registros\n",
    "--------------------------------------------\n",
    "SELECT \n",
    "  (SELECT COUNT(0) FROM imdb_db_bronze.tb_title_crew) TOTAL_CAMADA_BRONZE,\n",
    "  COUNT(0) TOTAL_CAMADA_SILVER, \n",
    "  CASE WHEN COUNT(0) <= (SELECT COUNT(0) FROM imdb_db_bronze.tb_title_crew) THEN  'OK' ELSE 'ERRO - QUANTIDADE DE REGISTROS NA CAMADA SILVER MAIOR' END AS VERIFICACAO \n",
    "FROM IMDB_DB_SILVER.tb_title_crew;"
   ]
  },
  {
   "cell_type": "markdown",
   "metadata": {
    "application/vnd.databricks.v1+cell": {
     "cellMetadata": {
      "byteLimit": 2048000,
      "rowLimit": 10000
     },
     "inputWidgets": {},
     "nuid": "6f8bf223-58f1-4745-bf48-77ce0cfa852a",
     "showTitle": false,
     "tableResultSettingsMap": {},
     "title": ""
    }
   },
   "source": [
    "###Criando e preenchendo a \"tb_title_principals\"."
   ]
  },
  {
   "cell_type": "markdown",
   "metadata": {
    "application/vnd.databricks.v1+cell": {
     "cellMetadata": {
      "byteLimit": 2048000,
      "rowLimit": 10000
     },
     "inputWidgets": {},
     "nuid": "4aa12ec2-314f-4e94-9385-52d91bd90ef7",
     "showTitle": false,
     "tableResultSettingsMap": {},
     "title": ""
    }
   },
   "source": [
    "- Somente registros com chave não nula \n",
    "- Coluna ordering numérica"
   ]
  },
  {
   "cell_type": "code",
   "execution_count": 0,
   "metadata": {
    "application/vnd.databricks.v1+cell": {
     "cellMetadata": {
      "byteLimit": 2048000,
      "rowLimit": 10000
     },
     "inputWidgets": {},
     "nuid": "a87396e5-d47a-4dc2-bf11-9e0083204bfc",
     "showTitle": false,
     "tableResultSettingsMap": {},
     "title": ""
    }
   },
   "outputs": [
    {
     "output_type": "stream",
     "name": "stdout",
     "output_type": "stream",
     "text": [
      "Out[81]: False"
     ]
    }
   ],
   "source": [
    "#Removendo vínculo do arquivo da tabela\n",
    "dbutils.fs.rm(\"dbfs:/user/hive/warehouse/imdb_db_silver.db/tb_title_principals/\", True)"
   ]
  },
  {
   "cell_type": "code",
   "execution_count": 0,
   "metadata": {
    "application/vnd.databricks.v1+cell": {
     "cellMetadata": {
      "byteLimit": 2048000,
      "implicitDf": true,
      "rowLimit": 10000
     },
     "inputWidgets": {},
     "nuid": "289fa3e8-e149-4810-ab2e-43eba4b02539",
     "showTitle": false,
     "tableResultSettingsMap": {},
     "title": ""
    }
   },
   "outputs": [
    {
     "output_type": "display_data",
     "data": {
      "text/html": [
       "<style scoped>\n",
       "  .table-result-container {\n",
       "    max-height: 300px;\n",
       "    overflow: auto;\n",
       "  }\n",
       "  table, th, td {\n",
       "    border: 1px solid black;\n",
       "    border-collapse: collapse;\n",
       "  }\n",
       "  th, td {\n",
       "    padding: 5px;\n",
       "  }\n",
       "  th {\n",
       "    text-align: left;\n",
       "  }\n",
       "</style><div class='table-result-container'><table class='table-result'><thead style='background-color: white'><tr><th>tamanho_maximo_campo_job</th><th>tamanho_maximo_campo_characters</th></tr></thead><tbody><tr><td>290</td><td>463</td></tr></tbody></table></div>"
      ]
     },
     "metadata": {
      "application/vnd.databricks.v1+output": {
       "addedWidgets": {},
       "aggData": [],
       "aggError": "",
       "aggOverflow": false,
       "aggSchema": [],
       "aggSeriesLimitReached": false,
       "aggType": "",
       "arguments": {},
       "columnCustomDisplayInfos": {},
       "data": [
        [
         290,
         463
        ]
       ],
       "datasetInfos": [],
       "dbfsResultPath": null,
       "isJsonSchema": true,
       "metadata": {},
       "overflow": false,
       "plotOptions": {
        "customPlotOptions": {},
        "displayType": "table",
        "pivotAggregation": null,
        "pivotColumns": null,
        "xColumns": null,
        "yColumns": null
       },
       "removedWidgets": [],
       "schema": [
        {
         "metadata": "{}",
         "name": "tamanho_maximo_campo_job",
         "type": "\"integer\""
        },
        {
         "metadata": "{}",
         "name": "tamanho_maximo_campo_characters",
         "type": "\"integer\""
        }
       ],
       "type": "table"
      }
     },
     "output_type": "display_data"
    }
   ],
   "source": [
    "%sql\n",
    "-- Obter tamanho maximo no preenchimento doS campoS job e caracters para configurar campo na tabela silver\n",
    "SELECT tamanho_maximo_campo_job, tamanho_maximo_campo_characters\n",
    "FROM \n",
    "  (SELECT MAX(LEN(job)) tamanho_maximo_campo_job FROM IMDB_DB_BRONZE.tb_title_principals),  \n",
    "  (SELECT MAX(LEN(characters)) tamanho_maximo_campo_characters FROM IMDB_DB_BRONZE.tb_title_principals)\n",
    ";"
   ]
  },
  {
   "cell_type": "code",
   "execution_count": 0,
   "metadata": {
    "application/vnd.databricks.v1+cell": {
     "cellMetadata": {
      "byteLimit": 2048000,
      "implicitDf": true,
      "rowLimit": 10000
     },
     "inputWidgets": {},
     "nuid": "03d75443-9ba8-49c8-8e42-3a70dcca7ab2",
     "showTitle": false,
     "tableResultSettingsMap": {},
     "title": ""
    }
   },
   "outputs": [
    {
     "output_type": "display_data",
     "data": {
      "text/html": [
       "<style scoped>\n",
       "  .table-result-container {\n",
       "    max-height: 300px;\n",
       "    overflow: auto;\n",
       "  }\n",
       "  table, th, td {\n",
       "    border: 1px solid black;\n",
       "    border-collapse: collapse;\n",
       "  }\n",
       "  th, td {\n",
       "    padding: 5px;\n",
       "  }\n",
       "  th {\n",
       "    text-align: left;\n",
       "  }\n",
       "</style><div class='table-result-container'><table class='table-result'><thead style='background-color: white'><tr><th>tconst</th><th>ordering</th><th>nconst</th><th>category</th><th>job</th><th>characters</th></tr></thead><tbody><tr><td>tt0000001</td><td>1</td><td>nm1588970</td><td>self</td><td>null</td><td>[\"Self\"]</td></tr><tr><td>tt0000001</td><td>2</td><td>nm0005690</td><td>director</td><td>null</td><td>null</td></tr><tr><td>tt0000001</td><td>3</td><td>nm0005690</td><td>producer</td><td>producer</td><td>null</td></tr><tr><td>tt0000001</td><td>4</td><td>nm0374658</td><td>cinematographer</td><td>director of photography</td><td>null</td></tr><tr><td>tt0000002</td><td>1</td><td>nm0721526</td><td>director</td><td>null</td><td>null</td></tr><tr><td>tt0000002</td><td>2</td><td>nm1335271</td><td>composer</td><td>null</td><td>null</td></tr><tr><td>tt0000003</td><td>1</td><td>nm0721526</td><td>director</td><td>null</td><td>null</td></tr><tr><td>tt0000003</td><td>2</td><td>nm0721526</td><td>writer</td><td>null</td><td>null</td></tr><tr><td>tt0000003</td><td>3</td><td>nm1770680</td><td>producer</td><td>producer</td><td>null</td></tr><tr><td>tt0000003</td><td>4</td><td>nm0721526</td><td>producer</td><td>producer</td><td>null</td></tr><tr><td>tt0000003</td><td>5</td><td>nm1335271</td><td>composer</td><td>null</td><td>null</td></tr><tr><td>tt0000003</td><td>6</td><td>nm5442200</td><td>editor</td><td>editor</td><td>null</td></tr><tr><td>tt0000004</td><td>1</td><td>nm0721526</td><td>director</td><td>null</td><td>null</td></tr><tr><td>tt0000004</td><td>2</td><td>nm1335271</td><td>composer</td><td>null</td><td>null</td></tr><tr><td>tt0000005</td><td>1</td><td>nm0443482</td><td>actor</td><td>null</td><td>[\"Blacksmith\"]</td></tr><tr><td>tt0000005</td><td>2</td><td>nm0653042</td><td>actor</td><td>null</td><td>[\"Assistant\"]</td></tr><tr><td>tt0000005</td><td>3</td><td>nm0249379</td><td>producer</td><td>producer</td><td>null</td></tr><tr><td>tt0000007</td><td>1</td><td>nm0179163</td><td>actor</td><td>null</td><td>null</td></tr><tr><td>tt0000007</td><td>2</td><td>nm0183947</td><td>actor</td><td>null</td><td>null</td></tr><tr><td>tt0000007</td><td>3</td><td>nm0005690</td><td>director</td><td>null</td><td>null</td></tr><tr><td>tt0000007</td><td>4</td><td>nm0374658</td><td>director</td><td>null</td><td>null</td></tr><tr><td>tt0000007</td><td>5</td><td>nm0005690</td><td>producer</td><td>producer</td><td>null</td></tr><tr><td>tt0000007</td><td>6</td><td>nm0249379</td><td>producer</td><td>producer</td><td>null</td></tr><tr><td>tt0000007</td><td>7</td><td>nm0374658</td><td>cinematographer</td><td>null</td><td>null</td></tr><tr><td>tt0000008</td><td>1</td><td>nm0653028</td><td>actor</td><td>null</td><td>[\"Sneezing Man\"]</td></tr><tr><td>tt0000008</td><td>2</td><td>nm0005690</td><td>director</td><td>null</td><td>null</td></tr><tr><td>tt0000008</td><td>3</td><td>nm0005690</td><td>producer</td><td>producer</td><td>null</td></tr><tr><td>tt0000008</td><td>4</td><td>nm0374658</td><td>cinematographer</td><td>null</td><td>null</td></tr><tr><td>tt0000009</td><td>1</td><td>nm0063086</td><td>actress</td><td>null</td><td>[\"Miss Geraldine Holbrook (Miss Jerry)\"]</td></tr><tr><td>tt0000009</td><td>2</td><td>nm0183823</td><td>actor</td><td>null</td><td>[\"Mr. Hamilton\"]</td></tr></tbody></table></div>"
      ]
     },
     "metadata": {
      "application/vnd.databricks.v1+output": {
       "addedWidgets": {},
       "aggData": [],
       "aggError": "",
       "aggOverflow": false,
       "aggSchema": [],
       "aggSeriesLimitReached": false,
       "aggType": "",
       "arguments": {},
       "columnCustomDisplayInfos": {},
       "data": [
        [
         "tt0000001",
         1,
         "nm1588970",
         "self",
         null,
         "[\"Self\"]"
        ],
        [
         "tt0000001",
         2,
         "nm0005690",
         "director",
         null,
         null
        ],
        [
         "tt0000001",
         3,
         "nm0005690",
         "producer",
         "producer",
         null
        ],
        [
         "tt0000001",
         4,
         "nm0374658",
         "cinematographer",
         "director of photography",
         null
        ],
        [
         "tt0000002",
         1,
         "nm0721526",
         "director",
         null,
         null
        ],
        [
         "tt0000002",
         2,
         "nm1335271",
         "composer",
         null,
         null
        ],
        [
         "tt0000003",
         1,
         "nm0721526",
         "director",
         null,
         null
        ],
        [
         "tt0000003",
         2,
         "nm0721526",
         "writer",
         null,
         null
        ],
        [
         "tt0000003",
         3,
         "nm1770680",
         "producer",
         "producer",
         null
        ],
        [
         "tt0000003",
         4,
         "nm0721526",
         "producer",
         "producer",
         null
        ],
        [
         "tt0000003",
         5,
         "nm1335271",
         "composer",
         null,
         null
        ],
        [
         "tt0000003",
         6,
         "nm5442200",
         "editor",
         "editor",
         null
        ],
        [
         "tt0000004",
         1,
         "nm0721526",
         "director",
         null,
         null
        ],
        [
         "tt0000004",
         2,
         "nm1335271",
         "composer",
         null,
         null
        ],
        [
         "tt0000005",
         1,
         "nm0443482",
         "actor",
         null,
         "[\"Blacksmith\"]"
        ],
        [
         "tt0000005",
         2,
         "nm0653042",
         "actor",
         null,
         "[\"Assistant\"]"
        ],
        [
         "tt0000005",
         3,
         "nm0249379",
         "producer",
         "producer",
         null
        ],
        [
         "tt0000007",
         1,
         "nm0179163",
         "actor",
         null,
         null
        ],
        [
         "tt0000007",
         2,
         "nm0183947",
         "actor",
         null,
         null
        ],
        [
         "tt0000007",
         3,
         "nm0005690",
         "director",
         null,
         null
        ],
        [
         "tt0000007",
         4,
         "nm0374658",
         "director",
         null,
         null
        ],
        [
         "tt0000007",
         5,
         "nm0005690",
         "producer",
         "producer",
         null
        ],
        [
         "tt0000007",
         6,
         "nm0249379",
         "producer",
         "producer",
         null
        ],
        [
         "tt0000007",
         7,
         "nm0374658",
         "cinematographer",
         null,
         null
        ],
        [
         "tt0000008",
         1,
         "nm0653028",
         "actor",
         null,
         "[\"Sneezing Man\"]"
        ],
        [
         "tt0000008",
         2,
         "nm0005690",
         "director",
         null,
         null
        ],
        [
         "tt0000008",
         3,
         "nm0005690",
         "producer",
         "producer",
         null
        ],
        [
         "tt0000008",
         4,
         "nm0374658",
         "cinematographer",
         null,
         null
        ],
        [
         "tt0000009",
         1,
         "nm0063086",
         "actress",
         null,
         "[\"Miss Geraldine Holbrook (Miss Jerry)\"]"
        ],
        [
         "tt0000009",
         2,
         "nm0183823",
         "actor",
         null,
         "[\"Mr. Hamilton\"]"
        ]
       ],
       "datasetInfos": [],
       "dbfsResultPath": null,
       "isJsonSchema": true,
       "metadata": {},
       "overflow": false,
       "plotOptions": {
        "customPlotOptions": {},
        "displayType": "table",
        "pivotAggregation": null,
        "pivotColumns": null,
        "xColumns": null,
        "yColumns": null
       },
       "removedWidgets": [],
       "schema": [
        {
         "metadata": "{\"__CHAR_VARCHAR_TYPE_STRING\":\"char(10)\"}",
         "name": "tconst",
         "type": "\"string\""
        },
        {
         "metadata": "{}",
         "name": "ordering",
         "type": "\"integer\""
        },
        {
         "metadata": "{\"__CHAR_VARCHAR_TYPE_STRING\":\"char(10)\"}",
         "name": "nconst",
         "type": "\"string\""
        },
        {
         "metadata": "{\"__CHAR_VARCHAR_TYPE_STRING\":\"varchar(200)\"}",
         "name": "category",
         "type": "\"string\""
        },
        {
         "metadata": "{\"__CHAR_VARCHAR_TYPE_STRING\":\"varchar(290)\"}",
         "name": "job",
         "type": "\"string\""
        },
        {
         "metadata": "{\"__CHAR_VARCHAR_TYPE_STRING\":\"varchar(463)\"}",
         "name": "characters",
         "type": "\"string\""
        }
       ],
       "type": "table"
      }
     },
     "output_type": "display_data"
    }
   ],
   "source": [
    "%sql\n",
    "CREATE OR REPLACE TABLE IMDB_DB_SILVER.tb_title_principals (\n",
    "  tconst CHAR(10) NOT NULL,\n",
    "  ordering INT NOT NULL,\n",
    "  nconst CHAR(10),\n",
    "  category VARCHAR(200),\n",
    "  job VARCHAR(290),\n",
    "  characters VARCHAR(463)\n",
    ");\n",
    "\n",
    "INSERT INTO IMDB_DB_SILVER.tb_title_principals (\n",
    "  tconst,\n",
    "  ordering,\n",
    "  nconst,\n",
    "  category,\n",
    "  job, \n",
    "  characters\n",
    ")\n",
    "SELECT\n",
    "  tconst,\n",
    "  CASE WHEN TRIM(ordering) = '\\\\N' THEN 0 ELSE ordering END AS ordering,\n",
    "  nconst,\n",
    "  category,  \n",
    "  CASE WHEN TRIM(job) = '\\\\N' THEN NULL ELSE job END AS job,  \n",
    "  CASE WHEN TRIM(characters) = '\\\\N' THEN NULL ELSE characters END AS characters\n",
    "FROM IMDB_DB_BRONZE.tb_title_principals\n",
    "WHERE tconst IS NOT NULL;\n",
    "\n",
    "-- LISTANDO OS 30 REGISTROS PARA NÃO FICAR MUITO GRANDE NO GITHUB E COMPROVAR A IMPORTAÇÃO\n",
    "SELECT * FROM IMDB_DB_SILVER.tb_title_principals LIMIT 30;"
   ]
  },
  {
   "cell_type": "markdown",
   "metadata": {
    "application/vnd.databricks.v1+cell": {
     "cellMetadata": {
      "byteLimit": 2048000,
      "rowLimit": 10000
     },
     "inputWidgets": {},
     "nuid": "eaec7b05-a23c-463f-a639-4d54cfac3562",
     "showTitle": false,
     "tableResultSettingsMap": {},
     "title": ""
    }
   },
   "source": [
    "Validar os dados importados para a camada SILVER"
   ]
  },
  {
   "cell_type": "code",
   "execution_count": 0,
   "metadata": {
    "application/vnd.databricks.v1+cell": {
     "cellMetadata": {
      "byteLimit": 2048000,
      "implicitDf": true,
      "rowLimit": 10000
     },
     "inputWidgets": {},
     "nuid": "82e47cb1-0cc3-4e61-b814-a0ea4cbe6a0f",
     "showTitle": false,
     "tableResultSettingsMap": {},
     "title": ""
    }
   },
   "outputs": [
    {
     "output_type": "display_data",
     "data": {
      "text/html": [
       "<style scoped>\n",
       "  .table-result-container {\n",
       "    max-height: 300px;\n",
       "    overflow: auto;\n",
       "  }\n",
       "  table, th, td {\n",
       "    border: 1px solid black;\n",
       "    border-collapse: collapse;\n",
       "  }\n",
       "  th, td {\n",
       "    padding: 5px;\n",
       "  }\n",
       "  th {\n",
       "    text-align: left;\n",
       "  }\n",
       "</style><div class='table-result-container'><table class='table-result'><thead style='background-color: white'><tr><th>Resultado</th></tr></thead><tbody><tr><td>Nenhum dado duplicado foi encontrado com a consulta</td></tr></tbody></table></div>"
      ]
     },
     "metadata": {
      "application/vnd.databricks.v1+output": {
       "addedWidgets": {},
       "aggData": [],
       "aggError": "",
       "aggOverflow": false,
       "aggSchema": [],
       "aggSeriesLimitReached": false,
       "aggType": "",
       "arguments": {},
       "columnCustomDisplayInfos": {},
       "data": [
        [
         "Nenhum dado duplicado foi encontrado com a consulta"
        ]
       ],
       "datasetInfos": [],
       "dbfsResultPath": null,
       "isJsonSchema": true,
       "metadata": {},
       "overflow": false,
       "plotOptions": {
        "customPlotOptions": {},
        "displayType": "table",
        "pivotAggregation": null,
        "pivotColumns": null,
        "xColumns": null,
        "yColumns": null
       },
       "removedWidgets": [],
       "schema": [
        {
         "metadata": "{}",
         "name": "Resultado",
         "type": "\"string\""
        }
       ],
       "type": "table"
      }
     },
     "output_type": "display_data"
    }
   ],
   "source": [
    "%sql\n",
    "-- Veriicar duplicidade.\n",
    "------------------------\n",
    "SELECT CASE WHEN COUNT(0) > 1 THEN 'Há dados duplicados na tabela' ELSE 'Nenhum dado duplicado foi encontrado com a consulta' END AS Resultado \n",
    "FROM (\n",
    "  SELECT tconst, ordering, nconst, category, job, COUNT(0) TOTAL FROM IMDB_DB_SILVER.tb_title_principals GROUP BY tconst, ordering, nconst, category, job HAVING COUNT(0) > 1\n",
    ");"
   ]
  },
  {
   "cell_type": "code",
   "execution_count": 0,
   "metadata": {
    "application/vnd.databricks.v1+cell": {
     "cellMetadata": {
      "byteLimit": 2048000,
      "implicitDf": true,
      "rowLimit": 10000
     },
     "inputWidgets": {},
     "nuid": "e90575d2-b3fa-46e4-87d2-ce3790753134",
     "showTitle": false,
     "tableResultSettingsMap": {},
     "title": ""
    }
   },
   "outputs": [
    {
     "output_type": "display_data",
     "data": {
      "text/html": [
       "<style scoped>\n",
       "  .table-result-container {\n",
       "    max-height: 300px;\n",
       "    overflow: auto;\n",
       "  }\n",
       "  table, th, td {\n",
       "    border: 1px solid black;\n",
       "    border-collapse: collapse;\n",
       "  }\n",
       "  th, td {\n",
       "    padding: 5px;\n",
       "  }\n",
       "  th {\n",
       "    text-align: left;\n",
       "  }\n",
       "</style><div class='table-result-container'><table class='table-result'><thead style='background-color: white'><tr><th>TOTAL_CAMADA_BRONZE</th><th>TOTAL_CAMADA_SILVER</th><th>VERIFICACAO</th></tr></thead><tbody><tr><td>91642432</td><td>91642432</td><td>OK</td></tr></tbody></table></div>"
      ]
     },
     "metadata": {
      "application/vnd.databricks.v1+output": {
       "addedWidgets": {},
       "aggData": [],
       "aggError": "",
       "aggOverflow": false,
       "aggSchema": [],
       "aggSeriesLimitReached": false,
       "aggType": "",
       "arguments": {},
       "columnCustomDisplayInfos": {},
       "data": [
        [
         91642432,
         91642432,
         "OK"
        ]
       ],
       "datasetInfos": [],
       "dbfsResultPath": null,
       "isJsonSchema": true,
       "metadata": {},
       "overflow": false,
       "plotOptions": {
        "customPlotOptions": {},
        "displayType": "table",
        "pivotAggregation": null,
        "pivotColumns": null,
        "xColumns": null,
        "yColumns": null
       },
       "removedWidgets": [],
       "schema": [
        {
         "metadata": "{}",
         "name": "TOTAL_CAMADA_BRONZE",
         "type": "\"long\""
        },
        {
         "metadata": "{}",
         "name": "TOTAL_CAMADA_SILVER",
         "type": "\"long\""
        },
        {
         "metadata": "{}",
         "name": "VERIFICACAO",
         "type": "\"string\""
        }
       ],
       "type": "table"
      }
     },
     "output_type": "display_data"
    }
   ],
   "source": [
    "%sql\n",
    "-- Conferência dasa quantidades de registros\n",
    "--------------------------------------------\n",
    "SELECT \n",
    "  (SELECT COUNT(0) FROM imdb_db_bronze.tb_title_principals) TOTAL_CAMADA_BRONZE,\n",
    "  COUNT(0) TOTAL_CAMADA_SILVER, \n",
    "  CASE WHEN COUNT(0) = (SELECT COUNT(0) FROM imdb_db_bronze.tb_title_principals) THEN  'OK' ELSE 'ERRO - QUANTIDADE DE REGISTROS NA CAMADA SILVER DIFERENTE' END AS VERIFICACAO \n",
    "FROM IMDB_DB_SILVER.tb_title_principals;"
   ]
  },
  {
   "cell_type": "markdown",
   "metadata": {
    "application/vnd.databricks.v1+cell": {
     "cellMetadata": {
      "byteLimit": 2048000,
      "rowLimit": 10000
     },
     "inputWidgets": {},
     "nuid": "412fceb1-f22c-4150-80cf-7103460ef199",
     "showTitle": false,
     "tableResultSettingsMap": {},
     "title": ""
    }
   },
   "source": [
    "###Criando e preenchendo a \"tb_title_episode\"."
   ]
  },
  {
   "cell_type": "markdown",
   "metadata": {
    "application/vnd.databricks.v1+cell": {
     "cellMetadata": {
      "byteLimit": 2048000,
      "rowLimit": 10000
     },
     "inputWidgets": {},
     "nuid": "e658d49c-ffee-4e4c-8527-50441975cd0d",
     "showTitle": false,
     "tableResultSettingsMap": {},
     "title": ""
    }
   },
   "source": [
    "- Somente registros com chave não nula \n",
    "- Convertendo as colunas 'numVotes' para o tipo numérico e inteiro e preenchendo com 0 (Zero) se o valor for nulo."
   ]
  },
  {
   "cell_type": "code",
   "execution_count": 0,
   "metadata": {
    "application/vnd.databricks.v1+cell": {
     "cellMetadata": {
      "byteLimit": 2048000,
      "rowLimit": 10000
     },
     "inputWidgets": {},
     "nuid": "0b9081d2-697d-4e49-8ad4-7e72da7d0eec",
     "showTitle": false,
     "tableResultSettingsMap": {},
     "title": ""
    }
   },
   "outputs": [
    {
     "output_type": "stream",
     "name": "stdout",
     "output_type": "stream",
     "text": [
      "Out[86]: False"
     ]
    }
   ],
   "source": [
    "#Removendo vínculo do arquivo da tabela\n",
    "dbutils.fs.rm(\"dbfs:/user/hive/warehouse/imdb_db_silver.db/tb_title_episode/\", True)"
   ]
  },
  {
   "cell_type": "code",
   "execution_count": 0,
   "metadata": {
    "application/vnd.databricks.v1+cell": {
     "cellMetadata": {
      "byteLimit": 2048000,
      "implicitDf": true,
      "rowLimit": 10000
     },
     "inputWidgets": {},
     "nuid": "47692255-3c80-4b1f-a7b6-0ea6db60c73a",
     "showTitle": false,
     "tableResultSettingsMap": {},
     "title": ""
    }
   },
   "outputs": [
    {
     "output_type": "display_data",
     "data": {
      "text/html": [
       "<style scoped>\n",
       "  .table-result-container {\n",
       "    max-height: 300px;\n",
       "    overflow: auto;\n",
       "  }\n",
       "  table, th, td {\n",
       "    border: 1px solid black;\n",
       "    border-collapse: collapse;\n",
       "  }\n",
       "  th, td {\n",
       "    padding: 5px;\n",
       "  }\n",
       "  th {\n",
       "    text-align: left;\n",
       "  }\n",
       "</style><div class='table-result-container'><table class='table-result'><thead style='background-color: white'><tr><th>tconst</th><th>parentTconst</th><th>seasonNumber</th><th>episodeNumber</th></tr></thead><tbody><tr><td>tt0031458</td><td>tt32857063</td><td>0</td><td>0</td></tr><tr><td>tt0041951</td><td>tt0041038</td><td>1</td><td>9</td></tr><tr><td>tt0042816</td><td>tt0989125</td><td>1</td><td>17</td></tr><tr><td>tt0042889</td><td>tt0989125</td><td>0</td><td>0</td></tr><tr><td>tt0043426</td><td>tt0040051</td><td>3</td><td>42</td></tr><tr><td>tt0043631</td><td>tt0989125</td><td>2</td><td>16</td></tr><tr><td>tt0043693</td><td>tt0989125</td><td>2</td><td>8</td></tr><tr><td>tt0043710</td><td>tt0989125</td><td>3</td><td>3</td></tr><tr><td>tt0044093</td><td>tt0959862</td><td>1</td><td>6</td></tr><tr><td>tt0044668</td><td>tt0044243</td><td>2</td><td>16</td></tr><tr><td>tt0044901</td><td>tt0989125</td><td>3</td><td>46</td></tr><tr><td>tt0045519</td><td>tt0989125</td><td>4</td><td>11</td></tr><tr><td>tt0045960</td><td>tt0044284</td><td>2</td><td>3</td></tr><tr><td>tt0046135</td><td>tt0989125</td><td>4</td><td>5</td></tr><tr><td>tt0046150</td><td>tt0341798</td><td>0</td><td>0</td></tr><tr><td>tt0046855</td><td>tt0046643</td><td>1</td><td>4</td></tr><tr><td>tt0046864</td><td>tt0989125</td><td>5</td><td>20</td></tr><tr><td>tt0047810</td><td>tt0914702</td><td>3</td><td>36</td></tr><tr><td>tt0047852</td><td>tt0047745</td><td>1</td><td>15</td></tr><tr><td>tt0047858</td><td>tt0046637</td><td>2</td><td>9</td></tr><tr><td>tt0047961</td><td>tt0989125</td><td>6</td><td>5</td></tr><tr><td>tt0048067</td><td>tt0046587</td><td>2</td><td>20</td></tr><tr><td>tt0048302</td><td>tt0047768</td><td>1</td><td>6</td></tr><tr><td>tt0048371</td><td>tt0989125</td><td>6</td><td>11</td></tr><tr><td>tt0048378</td><td>tt0047702</td><td>1</td><td>6</td></tr><tr><td>tt0048462</td><td>tt0047702</td><td>1</td><td>3</td></tr><tr><td>tt0048562</td><td>tt0047768</td><td>1</td><td>10</td></tr><tr><td>tt0048883</td><td>tt0989125</td><td>6</td><td>42</td></tr><tr><td>tt0049025</td><td>tt0047720</td><td>1</td><td>4</td></tr><tr><td>tt0049473</td><td>tt0046593</td><td>1</td><td>20</td></tr></tbody></table></div>"
      ]
     },
     "metadata": {
      "application/vnd.databricks.v1+output": {
       "addedWidgets": {},
       "aggData": [],
       "aggError": "",
       "aggOverflow": false,
       "aggSchema": [],
       "aggSeriesLimitReached": false,
       "aggType": "",
       "arguments": {},
       "columnCustomDisplayInfos": {},
       "data": [
        [
         "tt0031458",
         "tt32857063",
         0,
         0
        ],
        [
         "tt0041951",
         "tt0041038",
         1,
         9
        ],
        [
         "tt0042816",
         "tt0989125",
         1,
         17
        ],
        [
         "tt0042889",
         "tt0989125",
         0,
         0
        ],
        [
         "tt0043426",
         "tt0040051",
         3,
         42
        ],
        [
         "tt0043631",
         "tt0989125",
         2,
         16
        ],
        [
         "tt0043693",
         "tt0989125",
         2,
         8
        ],
        [
         "tt0043710",
         "tt0989125",
         3,
         3
        ],
        [
         "tt0044093",
         "tt0959862",
         1,
         6
        ],
        [
         "tt0044668",
         "tt0044243",
         2,
         16
        ],
        [
         "tt0044901",
         "tt0989125",
         3,
         46
        ],
        [
         "tt0045519",
         "tt0989125",
         4,
         11
        ],
        [
         "tt0045960",
         "tt0044284",
         2,
         3
        ],
        [
         "tt0046135",
         "tt0989125",
         4,
         5
        ],
        [
         "tt0046150",
         "tt0341798",
         0,
         0
        ],
        [
         "tt0046855",
         "tt0046643",
         1,
         4
        ],
        [
         "tt0046864",
         "tt0989125",
         5,
         20
        ],
        [
         "tt0047810",
         "tt0914702",
         3,
         36
        ],
        [
         "tt0047852",
         "tt0047745",
         1,
         15
        ],
        [
         "tt0047858",
         "tt0046637",
         2,
         9
        ],
        [
         "tt0047961",
         "tt0989125",
         6,
         5
        ],
        [
         "tt0048067",
         "tt0046587",
         2,
         20
        ],
        [
         "tt0048302",
         "tt0047768",
         1,
         6
        ],
        [
         "tt0048371",
         "tt0989125",
         6,
         11
        ],
        [
         "tt0048378",
         "tt0047702",
         1,
         6
        ],
        [
         "tt0048462",
         "tt0047702",
         1,
         3
        ],
        [
         "tt0048562",
         "tt0047768",
         1,
         10
        ],
        [
         "tt0048883",
         "tt0989125",
         6,
         42
        ],
        [
         "tt0049025",
         "tt0047720",
         1,
         4
        ],
        [
         "tt0049473",
         "tt0046593",
         1,
         20
        ]
       ],
       "datasetInfos": [],
       "dbfsResultPath": null,
       "isJsonSchema": true,
       "metadata": {},
       "overflow": false,
       "plotOptions": {
        "customPlotOptions": {},
        "displayType": "table",
        "pivotAggregation": null,
        "pivotColumns": null,
        "xColumns": null,
        "yColumns": null
       },
       "removedWidgets": [],
       "schema": [
        {
         "metadata": "{\"__CHAR_VARCHAR_TYPE_STRING\":\"char(10)\"}",
         "name": "tconst",
         "type": "\"string\""
        },
        {
         "metadata": "{\"__CHAR_VARCHAR_TYPE_STRING\":\"char(10)\"}",
         "name": "parentTconst",
         "type": "\"string\""
        },
        {
         "metadata": "{}",
         "name": "seasonNumber",
         "type": "\"integer\""
        },
        {
         "metadata": "{}",
         "name": "episodeNumber",
         "type": "\"integer\""
        }
       ],
       "type": "table"
      }
     },
     "output_type": "display_data"
    }
   ],
   "source": [
    "%sql\n",
    "CREATE OR REPLACE TABLE IMDB_DB_SILVER.tb_title_episode (\n",
    "  tconst CHAR(10) NOT NULL,\n",
    "  parentTconst CHAR(10),\n",
    "  seasonNumber INT NOT NULL,\n",
    "  episodeNumber INT NOT NULL\n",
    ");\n",
    "\n",
    "INSERT INTO IMDB_DB_SILVER.tb_title_episode (\n",
    "  tconst,\n",
    "  parentTconst,\n",
    "  seasonNumber,\n",
    "  episodeNumber\n",
    ")\n",
    "SELECT  \n",
    "  tconst,\n",
    "  parentTconst,\n",
    "  REPLACE(TRIM(seasonNumber), '\\\\N', 0) seasonNumber,\n",
    "  REPLACE(TRIM(episodeNumber), '\\\\N', 0) episodeNumber\n",
    "FROM IMDB_DB_BRONZE.tb_title_episode\n",
    "WHERE tconst IS NOT NULL;\n",
    "\n",
    "-- LISTANDO OS 30 REGISTROS PARA NÃO FICAR MUITO GRANDE NO GITHUB E COMPROVAR A IMPORTAÇÃO\n",
    "SELECT * FROM IMDB_DB_SILVER.tb_title_episode LIMIT 30;"
   ]
  },
  {
   "cell_type": "markdown",
   "metadata": {
    "application/vnd.databricks.v1+cell": {
     "cellMetadata": {
      "byteLimit": 2048000,
      "rowLimit": 10000
     },
     "inputWidgets": {},
     "nuid": "b7a7ba4a-c3f6-44e0-8c74-6603ce703c61",
     "showTitle": false,
     "tableResultSettingsMap": {},
     "title": ""
    }
   },
   "source": [
    "Validar os dados importados para a camada SILVER"
   ]
  },
  {
   "cell_type": "code",
   "execution_count": 0,
   "metadata": {
    "application/vnd.databricks.v1+cell": {
     "cellMetadata": {
      "byteLimit": 2048000,
      "implicitDf": true,
      "rowLimit": 10000
     },
     "inputWidgets": {},
     "nuid": "e959b90f-1db7-4313-813f-9597508ab3c0",
     "showTitle": false,
     "tableResultSettingsMap": {},
     "title": ""
    }
   },
   "outputs": [
    {
     "output_type": "display_data",
     "data": {
      "text/html": [
       "<style scoped>\n",
       "  .table-result-container {\n",
       "    max-height: 300px;\n",
       "    overflow: auto;\n",
       "  }\n",
       "  table, th, td {\n",
       "    border: 1px solid black;\n",
       "    border-collapse: collapse;\n",
       "  }\n",
       "  th, td {\n",
       "    padding: 5px;\n",
       "  }\n",
       "  th {\n",
       "    text-align: left;\n",
       "  }\n",
       "</style><div class='table-result-container'><table class='table-result'><thead style='background-color: white'><tr><th>Resultado</th></tr></thead><tbody><tr><td>Nenhum dado duplicado foi encontrado com a consulta</td></tr></tbody></table></div>"
      ]
     },
     "metadata": {
      "application/vnd.databricks.v1+output": {
       "addedWidgets": {},
       "aggData": [],
       "aggError": "",
       "aggOverflow": false,
       "aggSchema": [],
       "aggSeriesLimitReached": false,
       "aggType": "",
       "arguments": {},
       "columnCustomDisplayInfos": {},
       "data": [
        [
         "Nenhum dado duplicado foi encontrado com a consulta"
        ]
       ],
       "datasetInfos": [],
       "dbfsResultPath": null,
       "isJsonSchema": true,
       "metadata": {},
       "overflow": false,
       "plotOptions": {
        "customPlotOptions": {},
        "displayType": "table",
        "pivotAggregation": null,
        "pivotColumns": null,
        "xColumns": null,
        "yColumns": null
       },
       "removedWidgets": [],
       "schema": [
        {
         "metadata": "{}",
         "name": "Resultado",
         "type": "\"string\""
        }
       ],
       "type": "table"
      }
     },
     "output_type": "display_data"
    }
   ],
   "source": [
    "%sql\n",
    "-- Veriicar duplicidade.\n",
    "------------------------\n",
    "SELECT CASE WHEN COUNT(0) > 1 THEN 'Há dados duplicados na tabela' ELSE 'Nenhum dado duplicado foi encontrado com a consulta' END AS Resultado \n",
    "FROM (\n",
    "  SELECT tconst, COUNT(0) TOTAL FROM IMDB_DB_SILVER.tb_title_episode GROUP BY tconst HAVING COUNT(0) > 1\n",
    ");"
   ]
  },
  {
   "cell_type": "code",
   "execution_count": 0,
   "metadata": {
    "application/vnd.databricks.v1+cell": {
     "cellMetadata": {
      "byteLimit": 2048000,
      "implicitDf": true,
      "rowLimit": 10000
     },
     "inputWidgets": {},
     "nuid": "4d253356-556d-4a02-b118-180de34a0ca8",
     "showTitle": false,
     "tableResultSettingsMap": {},
     "title": ""
    }
   },
   "outputs": [
    {
     "output_type": "display_data",
     "data": {
      "text/html": [
       "<style scoped>\n",
       "  .table-result-container {\n",
       "    max-height: 300px;\n",
       "    overflow: auto;\n",
       "  }\n",
       "  table, th, td {\n",
       "    border: 1px solid black;\n",
       "    border-collapse: collapse;\n",
       "  }\n",
       "  th, td {\n",
       "    padding: 5px;\n",
       "  }\n",
       "  th {\n",
       "    text-align: left;\n",
       "  }\n",
       "</style><div class='table-result-container'><table class='table-result'><thead style='background-color: white'><tr><th>TOTAL_CAMADA_BRONZE</th><th>TOTAL_CAMADA_SILVER</th><th>VERIFICACAO</th></tr></thead><tbody><tr><td>8880703</td><td>8880703</td><td>OK</td></tr></tbody></table></div>"
      ]
     },
     "metadata": {
      "application/vnd.databricks.v1+output": {
       "addedWidgets": {},
       "aggData": [],
       "aggError": "",
       "aggOverflow": false,
       "aggSchema": [],
       "aggSeriesLimitReached": false,
       "aggType": "",
       "arguments": {},
       "columnCustomDisplayInfos": {},
       "data": [
        [
         8880703,
         8880703,
         "OK"
        ]
       ],
       "datasetInfos": [],
       "dbfsResultPath": null,
       "isJsonSchema": true,
       "metadata": {},
       "overflow": false,
       "plotOptions": {
        "customPlotOptions": {},
        "displayType": "table",
        "pivotAggregation": null,
        "pivotColumns": null,
        "xColumns": null,
        "yColumns": null
       },
       "removedWidgets": [],
       "schema": [
        {
         "metadata": "{}",
         "name": "TOTAL_CAMADA_BRONZE",
         "type": "\"long\""
        },
        {
         "metadata": "{}",
         "name": "TOTAL_CAMADA_SILVER",
         "type": "\"long\""
        },
        {
         "metadata": "{}",
         "name": "VERIFICACAO",
         "type": "\"string\""
        }
       ],
       "type": "table"
      }
     },
     "output_type": "display_data"
    }
   ],
   "source": [
    "%sql\n",
    "-- Conferência dasa quantidades de registros\n",
    "--------------------------------------------\n",
    "SELECT \n",
    "  (SELECT COUNT(0) FROM imdb_db_bronze.tb_title_episode) TOTAL_CAMADA_BRONZE,\n",
    "  COUNT(0) TOTAL_CAMADA_SILVER, \n",
    "  CASE WHEN COUNT(0) = (SELECT COUNT(0) FROM imdb_db_bronze.tb_title_episode) THEN  'OK' ELSE 'ERRO - QUANTIDADE DE REGISTROS NA CAMADA SILVER DIFERENTE' END AS VERIFICACAO \n",
    "FROM IMDB_DB_SILVER.tb_title_episode;"
   ]
  }
 ],
 "metadata": {
  "application/vnd.databricks.v1+notebook": {
   "computePreferences": null,
   "dashboards": [],
   "environmentMetadata": {
    "base_environment": "",
    "environment_version": "1"
   },
   "inputWidgetPreferences": null,
   "language": "python",
   "notebookMetadata": {
    "mostRecentlyExecutedCommandWithImplicitDF": {
     "commandId": 3889974756062028,
     "dataframes": [
      "_sqldf"
     ]
    },
    "pythonIndentUnit": 4
   },
   "notebookName": "Thomas-Notebook-PUC-RIO - Camada Silver",
   "widgets": {}
  }
 },
 "nbformat": 4,
 "nbformat_minor": 0
}